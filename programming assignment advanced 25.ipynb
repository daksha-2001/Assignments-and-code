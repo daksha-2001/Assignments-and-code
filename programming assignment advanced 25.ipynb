{
 "cells": [
  {
   "cell_type": "markdown",
   "metadata": {},
   "source": [
    "1. Write four functions that directly mutate a list:\n",
    "    1. repeat(lst, n): Repeat lst n times.\n",
    "    2. add(lst, x): Adds x to the end of the lst.\n",
    "    3. remove(lst, m, n): Removes all elements between indices m and n\n",
    "    inclusive in lst.\n",
    "    4. concat(lst, x): concatenates lst with x (another list)."
   ]
  },
  {
   "cell_type": "code",
   "execution_count": 38,
   "metadata": {},
   "outputs": [
    {
     "name": "stdout",
     "output_type": "stream",
     "text": [
      "[1, 2, 3, 4, 1, 2, 3, 4, 1, 2, 3, 4]\n",
      "[1, 2, 3, 4, 1, 2, 3, 4, 1, 2, 3, 4, 1]\n",
      "[1]\n",
      "[1, 3, 4]\n"
     ]
    }
   ],
   "source": [
    "def repeat(lst,n):\n",
    "    r1=[]\n",
    "\n",
    "    for i in lst:\n",
    "        r1.append(i)\n",
    "    while n-1>0:\n",
    "        lst=lst+r1\n",
    "        n=n-1\n",
    "    return lst\n",
    "def add(lst,n):\n",
    "    lst.insert(len(lst),n)\n",
    "    return lst\n",
    "def remove(lst,m,n):\n",
    "    l3=lst[:m]\n",
    "    l2=lst[n+1:]\n",
    "    if not l2:\n",
    "        return l3\n",
    "    else:\n",
    "        for i in l2:\n",
    "            l3.append(i)\n",
    "        return l3\n",
    "def concat(lst,l1):\n",
    "    for i in l1:\n",
    "        lst.append(i)\n",
    "    return lst\n",
    "    \n",
    "lst=[1,2,3,4]\n",
    "lst=repeat(lst,3)\n",
    "print(lst)\n",
    "lst=add(lst,1)\n",
    "print(lst)\n",
    "lst=remove(lst,1,12)\n",
    "print(lst)\n",
    "lst=concat(lst,[3,4])\n",
    "print(lst)"
   ]
  },
  {
   "cell_type": "markdown",
   "metadata": {},
   "source": [
    "2.Create a function that takes two strings, code and guess as arguments, and\n",
    "returns the score in a dictionary.\n",
    "- Black peg == guess peg matches the color of a code peg in the same\n",
    "position.\n",
    "- White peg == guess peg matches the color of a code peg in another\n",
    "position."
   ]
  },
  {
   "cell_type": "code",
   "execution_count": 14,
   "metadata": {},
   "outputs": [
    {
     "data": {
      "text/plain": [
       "{'black': 0, 'white': 2}"
      ]
     },
     "execution_count": 14,
     "metadata": {},
     "output_type": "execute_result"
    }
   ],
   "source": [
    "def guess_score(str1,str2):\n",
    "    d1={\"black\":0,\"white\":0}\n",
    "    str3=\"\"\n",
    "    str4=\"\"\n",
    "    for i in range(len(str1)):\n",
    "        if str1[i]==str2[i]:\n",
    "            d1[\"black\"]+=1\n",
    "        else:\n",
    "            str3+=str1[i]\n",
    "    for i in str2:\n",
    "        if i in str3:\n",
    "            if i not in str4:\n",
    "                d1[\"white\"]+=1\n",
    "                str4+=i\n",
    "        \n",
    "    return d1\n",
    "guess_score(\"1423\",\"2211\")"
   ]
  },
  {
   "cell_type": "markdown",
   "metadata": {},
   "source": [
    "3. Create a function that takes a list lst and a number N and returns a list of\n",
    "two integers from lst whose product equals N."
   ]
  },
  {
   "cell_type": "code",
   "execution_count": 43,
   "metadata": {},
   "outputs": [
    {
     "data": {
      "text/plain": [
       "[4, 5]"
      ]
     },
     "execution_count": 43,
     "metadata": {},
     "output_type": "execute_result"
    }
   ],
   "source": [
    "def two_product(lst,n):\n",
    "    res=[]\n",
    "    for i in lst:\n",
    "        for j in lst:\n",
    "            if i not in res:\n",
    "                if i*j==n:\n",
    "                    res.append(i)\n",
    "                    res.append(j)\n",
    "    return res\n",
    "two_product([1, 2, -1, 4, 5], 20)\n",
    "                "
   ]
  },
  {
   "cell_type": "markdown",
   "metadata": {},
   "source": [
    "4.In this challenge, sort a list containing a series of dates given as strings.\n",
    "Given a list lst and a string mode, implement a function that returns:\n",
    "- if mode is equal to &quot;ASC&quot;, the list lst sorted in ascending order.\n",
    "- if mode is equal to &quot;DSC&quot;, the list lst sorted in descending order."
   ]
  },
  {
   "cell_type": "code",
   "execution_count": 51,
   "metadata": {},
   "outputs": [
    {
     "data": {
      "text/plain": [
       "['10-02-2000_18:29', '09-02-2000_10:03', '01-01-1999_00:55']"
      ]
     },
     "execution_count": 51,
     "metadata": {},
     "output_type": "execute_result"
    }
   ],
   "source": [
    "from datetime import datetime\n",
    "def sort(lst,str1):\n",
    "    if str1==\"ASC\":\n",
    "        lst.sort(key = lambda date: datetime.strptime(date, '%d-%m-%Y_%H:%M'),reverse=False)\n",
    "    else:\n",
    "        lst.sort(key = lambda date: datetime.strptime(date, '%d-%m-%Y_%H:%M'),reverse=True)\n",
    "    return lst\n",
    "sort([\"09-02-2000_10:03\",\"10-02-2000_18:29\",\"01-01-1999_00:55\"],\"DESC\")"
   ]
  },
  {
   "cell_type": "markdown",
   "metadata": {},
   "source": [
    "5 Write a function that selects all words that have all the same vowels (in any order and/or number) as the first word, including the first word."
   ]
  },
  {
   "cell_type": "code",
   "execution_count": 23,
   "metadata": {},
   "outputs": [
    {
     "data": {
      "text/plain": [
       "['hoops', 'bot', 'bottom']"
      ]
     },
     "execution_count": 23,
     "metadata": {},
     "output_type": "execute_result"
    }
   ],
   "source": [
    "def vowels(lst):\n",
    "    vowel=['a','e','i','o','u']\n",
    "    v=\"\"\n",
    "    res=[]\n",
    "    for i in lst:\n",
    "        i=i.lower()\n",
    "        for j in i:\n",
    "            if j in vowel:\n",
    "                v+=j\n",
    "        break\n",
    "    res.append(lst[0])\n",
    "    for i in range(1,len(lst)):\n",
    "        for j in lst[i]:\n",
    "            if lst[i] not in res:\n",
    "                if j in v:\n",
    "                    res.append(lst[i])\n",
    "                \n",
    "        \n",
    "    return res\n",
    "vowels(['hoops','chuff','bot','bottom'])"
   ]
  },
  {
   "cell_type": "markdown",
   "metadata": {},
   "source": [
    "6. Create a function that takes a list of more than three numbers and returns the Least Common Multiple (LCM)."
   ]
  },
  {
   "cell_type": "code",
   "execution_count": 25,
   "metadata": {},
   "outputs": [
    {
     "data": {
      "text/plain": [
       "2520"
      ]
     },
     "execution_count": 25,
     "metadata": {},
     "output_type": "execute_result"
    }
   ],
   "source": [
    "def find_lcm(num1, num2):\n",
    "    if(num1>num2):\n",
    "        num = num1\n",
    "        den = num2\n",
    "    else:\n",
    "        num = num2\n",
    "        den = num1\n",
    "    rem = num % den\n",
    "    while(rem != 0):\n",
    "        num = den\n",
    "        den = rem\n",
    "        rem = num % den\n",
    "    gcd = den\n",
    "    lcm = int(int(num1 * num2)/int(gcd))\n",
    "    return lcm\n",
    "def lcm_of_lst(l):\n",
    "    num1 = l[0]\n",
    "    num2 = l[1]\n",
    "    lcm = find_lcm(num1, num2)\n",
    "\n",
    "    for i in range(2, len(l)):\n",
    "        lcm = find_lcm(lcm, l[i])\n",
    "\n",
    "    return lcm\n",
    "    \n",
    "     \n",
    "l = [1,2,3,4,5,6,7,8,9,10]\n",
    "lcm_of_lst(l)\n",
    " \n",
    "\n",
    " "
   ]
  },
  {
   "cell_type": "code",
   "execution_count": null,
   "metadata": {},
   "outputs": [],
   "source": []
  }
 ],
 "metadata": {
  "kernelspec": {
   "display_name": "Python 3",
   "language": "python",
   "name": "python3"
  },
  "language_info": {
   "codemirror_mode": {
    "name": "ipython",
    "version": 3
   },
   "file_extension": ".py",
   "mimetype": "text/x-python",
   "name": "python",
   "nbconvert_exporter": "python",
   "pygments_lexer": "ipython3",
   "version": "3.7.6"
  }
 },
 "nbformat": 4,
 "nbformat_minor": 4
}
