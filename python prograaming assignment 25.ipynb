{
 "cells": [
  {
   "cell_type": "markdown",
   "id": "09a95705",
   "metadata": {},
   "source": [
    "Question1\n",
    "\n",
    "Create a function that takes three integer arguments (a, b, c) and returns the amount of\n",
    "integers which are of equal value."
   ]
  },
  {
   "cell_type": "code",
   "execution_count": 1,
   "id": "1a163103",
   "metadata": {},
   "outputs": [
    {
     "data": {
      "text/plain": [
       "0"
      ]
     },
     "execution_count": 1,
     "metadata": {},
     "output_type": "execute_result"
    }
   ],
   "source": [
    "def equal(a,b,c):\n",
    "    count=0\n",
    "    if a==b:\n",
    "        count+=1\n",
    "    if b==c:\n",
    "        count+=1\n",
    "    if a==c:\n",
    "        count+=1\n",
    "    if a==b==c:\n",
    "        return count\n",
    "    elif count==0:\n",
    "        return count\n",
    "    else:\n",
    "        return count+1\n",
    "equal(3,4,8)"
   ]
  },
  {
   "cell_type": "markdown",
   "id": "c0a75b13",
   "metadata": {},
   "source": [
    "Question2\n",
    "\n",
    "Write a function that converts a dictionary into a list of keys-values tuples."
   ]
  },
  {
   "cell_type": "code",
   "execution_count": 2,
   "id": "508c8013",
   "metadata": {},
   "outputs": [
    {
     "data": {
      "text/plain": [
       "[('dislikes', 3), ('followers', 10), ('likes', 2)]"
      ]
     },
     "execution_count": 2,
     "metadata": {},
     "output_type": "execute_result"
    }
   ],
   "source": [
    "def dict_to_list(d):\n",
    "    res=[]\n",
    "    for i in d:\n",
    "        l=[]\n",
    "        key=i\n",
    "        value=d[i]\n",
    "        l.append(key)\n",
    "        l.append(value)\n",
    "        t=tuple(l)\n",
    "        res.append(t)\n",
    "    res=sorted(res)\n",
    "    return res\n",
    "        \n",
    "        \n",
    "        \n",
    "dict_to_list({\n",
    "    \"likes\":2,\n",
    "    \"dislikes\":3,\n",
    "    \"followers\":10\n",
    "})"
   ]
  },
  {
   "cell_type": "markdown",
   "id": "a81c2ca3",
   "metadata": {},
   "source": [
    "Question3\n",
    "\n",
    "Write a function that creates a dictionary with each (key, value) pair being the (lower case,\n",
    "upper case) versions of a letter, respectively."
   ]
  },
  {
   "cell_type": "code",
   "execution_count": 3,
   "id": "f840be07",
   "metadata": {},
   "outputs": [
    {
     "data": {
      "text/plain": [
       "{'p': 'P', 's': 'S'}"
      ]
     },
     "execution_count": 3,
     "metadata": {},
     "output_type": "execute_result"
    }
   ],
   "source": [
    "def mapping(lst):\n",
    "    d={}\n",
    "    for i in lst:\n",
    "        d[i]=i.upper()\n",
    "    return d\n",
    "mapping([\"p\",\"s\"])        "
   ]
  },
  {
   "cell_type": "markdown",
   "id": "1a642264",
   "metadata": {},
   "source": [
    "Question4\n",
    "\n",
    "Write a function, that replaces all vowels in a string with a specified vowel."
   ]
  },
  {
   "cell_type": "code",
   "execution_count": 4,
   "id": "e7c14659",
   "metadata": {},
   "outputs": [
    {
     "data": {
      "text/plain": [
       "'upplus und bununus'"
      ]
     },
     "execution_count": 4,
     "metadata": {},
     "output_type": "execute_result"
    }
   ],
   "source": [
    "def vow_replace(string,vow):\n",
    "    vowel=['a','e','i','o','u']\n",
    "    for i in string:\n",
    "        if i in vowel:\n",
    "            string=string.replace(i,vow)\n",
    "            \n",
    "    return string\n",
    "vow_replace(\"apples and bananas\", \"u\")"
   ]
  },
  {
   "cell_type": "markdown",
   "id": "cb911813",
   "metadata": {},
   "source": [
    "Question5\n",
    "Create a function that takes a string as input and capitalizes a letter if its ASCII code is even\n",
    "and returns its lower case version if its ASCII code is odd."
   ]
  },
  {
   "cell_type": "code",
   "execution_count": 8,
   "id": "81983543",
   "metadata": {},
   "outputs": [
    {
     "data": {
      "text/plain": [
       "'To Be oR NoT To Be!'"
      ]
     },
     "execution_count": 8,
     "metadata": {},
     "output_type": "execute_result"
    }
   ],
   "source": [
    "import string\n",
    "def ascii_capiltalize(string1):\n",
    "    l = dict.fromkeys(string.ascii_lowercase, 0)\n",
    "    l_c=97\n",
    "    u = dict.fromkeys(string.ascii_uppercase, 0)\n",
    "    u_c=65\n",
    "    res=\"\"\n",
    "    for i in l:\n",
    "        l[i]=l_c\n",
    "        l_c+=1\n",
    "    for i in u:\n",
    "        u[i]=u_c\n",
    "        u_c+=1\n",
    "    s=string1.split(\" \")\n",
    "    u.update(l)\n",
    "    for i in s:\n",
    "        for j in i:\n",
    "            if j.isalpha():\n",
    "                if u[j]%2==0:\n",
    "                    i=i.replace(j,j.upper())\n",
    "                else:\n",
    "                    i=i.replace(j,j.lower())\n",
    "        res+=i+\" \"\n",
    "    res=res[:-1]\n",
    "    return res\n",
    "ascii_capiltalize(\"to be or not to be!\")"
   ]
  },
  {
   "cell_type": "code",
   "execution_count": null,
   "id": "93e30b26",
   "metadata": {},
   "outputs": [],
   "source": []
  }
 ],
 "metadata": {
  "kernelspec": {
   "display_name": "Python 3",
   "language": "python",
   "name": "python3"
  },
  "language_info": {
   "codemirror_mode": {
    "name": "ipython",
    "version": 3
   },
   "file_extension": ".py",
   "mimetype": "text/x-python",
   "name": "python",
   "nbconvert_exporter": "python",
   "pygments_lexer": "ipython3",
   "version": "3.8.8"
  }
 },
 "nbformat": 4,
 "nbformat_minor": 5
}
