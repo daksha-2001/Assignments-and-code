{
 "cells": [
  {
   "cell_type": "markdown",
   "id": "8e498f30",
   "metadata": {},
   "source": [
    "Write a Python program to convert kilometers to miles?"
   ]
  },
  {
   "cell_type": "code",
   "execution_count": 21,
   "id": "54f5dee7",
   "metadata": {},
   "outputs": [
    {
     "name": "stdout",
     "output_type": "stream",
     "text": [
      "Enter kilometer5\n",
      "Kilometers in Miles: 3.11\n"
     ]
    }
   ],
   "source": [
    "kilo=float(input(\"Enter kilometer\"))\n",
    "miles=0.621371\n",
    "print(\"Kilometers in Miles:\",round(kilo*miles,2))"
   ]
  },
  {
   "cell_type": "markdown",
   "id": "0f30bed2",
   "metadata": {},
   "source": [
    "Write a Python program to convert Celsius to Fahrenheit?"
   ]
  },
  {
   "cell_type": "code",
   "execution_count": 19,
   "id": "53f6a99e",
   "metadata": {
    "collapsed": true
   },
   "outputs": [
    {
     "name": "stdout",
     "output_type": "stream",
     "text": [
      "Enter celsius5\n",
      "Celsius to fahrenheit 41\n",
      "Enter fah41\n",
      "Celsius to fahrenheit 5\n"
     ]
    }
   ],
   "source": [
    "celsius=int(input(\"Enter celsius\"))\n",
    "fah=(celsius*(9/5))+32\n",
    "print(\"Celsius to fahrenheit\",round(fah))\n",
    "\n",
    "fah=int(input(\"Enter fah\"))\n",
    "celsius=(fah-32)*(5/9)\n",
    "print(\"Celsius to fahrenheit\",round(celsius))"
   ]
  },
  {
   "cell_type": "markdown",
   "id": "3b1dd4fe",
   "metadata": {},
   "source": [
    "Write a Python program to display calendar?"
   ]
  },
  {
   "cell_type": "code",
   "execution_count": 16,
   "id": "afc34122",
   "metadata": {},
   "outputs": [
    {
     "name": "stdout",
     "output_type": "stream",
     "text": [
      "     July 2021\n",
      "Mo Tu We Th Fr Sa Su\n",
      "          1  2  3  4\n",
      " 5  6  7  8  9 10 11\n",
      "12 13 14 15 16 17 18\n",
      "19 20 21 22 23 24 25\n",
      "26 27 28 29 30 31\n",
      "\n"
     ]
    }
   ],
   "source": [
    "import calendar\n",
    "yy=2021\n",
    "mm=7\n",
    "print(calendar.month(yy,mm))"
   ]
  },
  {
   "cell_type": "markdown",
   "id": "5507aadb",
   "metadata": {},
   "source": [
    "Write a Python program to solve quadratic equation?"
   ]
  },
  {
   "cell_type": "code",
   "execution_count": 9,
   "id": "9575505f",
   "metadata": {},
   "outputs": [
    {
     "data": {
      "text/plain": [
       "(-3.0, -2.0)"
      ]
     },
     "execution_count": 9,
     "metadata": {},
     "output_type": "execute_result"
    }
   ],
   "source": [
    "import math\n",
    "def func(a,b,c):\n",
    "    d=(b**2)-(4*a*c)\n",
    "    sol1=(-b-math.sqrt(d))/(2*a)\n",
    "    sol2=(-b+math.sqrt(d))/(2*a)\n",
    "    return sol1,sol2\n",
    "func(1,5,6)"
   ]
  },
  {
   "cell_type": "markdown",
   "id": "245e9646",
   "metadata": {},
   "source": [
    "Write a Python program to swap two variables without temp variable?"
   ]
  },
  {
   "cell_type": "code",
   "execution_count": 15,
   "id": "83bef06e",
   "metadata": {},
   "outputs": [
    {
     "name": "stdout",
     "output_type": "stream",
     "text": [
      "20 10\n"
     ]
    }
   ],
   "source": [
    "a=10\n",
    "b=20\n",
    "s=a+b\n",
    "a=s-a\n",
    "b=s-b\n",
    "print(a,b)"
   ]
  },
  {
   "cell_type": "code",
   "execution_count": null,
   "id": "504c4667",
   "metadata": {},
   "outputs": [],
   "source": []
  }
 ],
 "metadata": {
  "kernelspec": {
   "display_name": "Python 3",
   "language": "python",
   "name": "python3"
  },
  "language_info": {
   "codemirror_mode": {
    "name": "ipython",
    "version": 3
   },
   "file_extension": ".py",
   "mimetype": "text/x-python",
   "name": "python",
   "nbconvert_exporter": "python",
   "pygments_lexer": "ipython3",
   "version": "3.8.8"
  }
 },
 "nbformat": 4,
 "nbformat_minor": 5
}
