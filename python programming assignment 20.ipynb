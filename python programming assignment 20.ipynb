{
 "cells": [
  {
   "cell_type": "markdown",
   "id": "1bbca384",
   "metadata": {},
   "source": [
    "Question1\n",
    "\n",
    "Create a function that takes a list of strings and integers, and filters out the list so that it\n",
    "returns a list of integers only."
   ]
  },
  {
   "cell_type": "code",
   "execution_count": 4,
   "id": "59cffc75",
   "metadata": {},
   "outputs": [
    {
     "data": {
      "text/plain": [
       "[]"
      ]
     },
     "execution_count": 4,
     "metadata": {},
     "output_type": "execute_result"
    }
   ],
   "source": [
    "def filter_list(lst):\n",
    "    res=[i for i in lst if type(i)==int]\n",
    "    \n",
    "    return res\n",
    "filter_list([\"Noting here\"])"
   ]
  },
  {
   "cell_type": "markdown",
   "id": "30de6eb0",
   "metadata": {},
   "source": [
    "Question2\n",
    "\n",
    "Given a list of numbers, create a function which returns the list but with each element&#39;s\n",
    "index in the list added to itself. This means you add 0 to the number at index 0, add 1 to the\n",
    "number at index 1, etc..."
   ]
  },
  {
   "cell_type": "code",
   "execution_count": 8,
   "id": "a6cf9f00",
   "metadata": {},
   "outputs": [
    {
     "data": {
      "text/plain": [
       "[5, 5, 5, 5, 5]"
      ]
     },
     "execution_count": 8,
     "metadata": {},
     "output_type": "execute_result"
    }
   ],
   "source": [
    "def add_indexes(lst):\n",
    "    res=[]\n",
    "    for i in range(len(lst)):\n",
    "        s=i+lst[i]\n",
    "        res.append(s)\n",
    "    return res\n",
    "        \n",
    "add_indexes([5, 4, 3, 2, 1])"
   ]
  },
  {
   "cell_type": "markdown",
   "id": "e660003f",
   "metadata": {},
   "source": [
    "Question3\n",
    "\n",
    "Create a function that takes the height and radius of a cone as arguments and returns the\n",
    "volume of the cone rounded to the nearest hundredth."
   ]
  },
  {
   "cell_type": "code",
   "execution_count": 11,
   "id": "9483ce97",
   "metadata": {},
   "outputs": [
    {
     "data": {
      "text/plain": [
       "12.57"
      ]
     },
     "execution_count": 11,
     "metadata": {},
     "output_type": "execute_result"
    }
   ],
   "source": [
    "import math\n",
    "def cone(h,r):\n",
    "    r=1/3*math.pi*r*r*h\n",
    "    r=round(r,2)\n",
    "    return r\n",
    "cone(3,2)"
   ]
  },
  {
   "cell_type": "markdown",
   "id": "26942ac4",
   "metadata": {},
   "source": [
    "Question4\n",
    "\n",
    "This Triangular Number Sequence is generated from a pattern of dots that form a triangle.\n",
    "The first 5 numbers of the sequence, or dots, are:\n",
    "1, 3, 6, 10, 15\n",
    "\n",
    "This means that the first triangle has just one dot, the second one has three dots, the third one\n",
    "has 6 dots and so on.\n",
    "\n",
    "Write a function that gives the number of dots with its corresponding triangle number of the\n",
    "sequence."
   ]
  },
  {
   "cell_type": "code",
   "execution_count": 15,
   "id": "ae6482b8",
   "metadata": {},
   "outputs": [
    {
     "data": {
      "text/plain": [
       "23220"
      ]
     },
     "execution_count": 15,
     "metadata": {},
     "output_type": "execute_result"
    }
   ],
   "source": [
    "def triangle(num1):\n",
    "    c=1\n",
    "    for i in range(2,num1+1):\n",
    "        c+=i\n",
    "    return c\n",
    "triangle(215)\n",
    "        "
   ]
  },
  {
   "cell_type": "code",
   "execution_count": null,
   "id": "fbd9efe0",
   "metadata": {},
   "outputs": [],
   "source": [
    "Question5\n",
    "\n",
    "Create a function that takes a list of numbers between 1 and 10 (excluding one number) and\n",
    "returns the missing number."
   ]
  },
  {
   "cell_type": "code",
   "execution_count": 25,
   "id": "d454d42b",
   "metadata": {},
   "outputs": [
    {
     "data": {
      "text/plain": [
       "7"
      ]
     },
     "execution_count": 25,
     "metadata": {},
     "output_type": "execute_result"
    }
   ],
   "source": [
    "def missing_num(lst):\n",
    "    r=[i for i in range(1,11)]\n",
    "    for i in r:\n",
    "        if i not in lst:\n",
    "            return i\n",
    "missing_num([10, 5, 1, 2, 4, 6, 8, 3, 9])"
   ]
  },
  {
   "cell_type": "code",
   "execution_count": null,
   "id": "41df7631",
   "metadata": {},
   "outputs": [],
   "source": []
  }
 ],
 "metadata": {
  "kernelspec": {
   "display_name": "Python 3",
   "language": "python",
   "name": "python3"
  },
  "language_info": {
   "codemirror_mode": {
    "name": "ipython",
    "version": 3
   },
   "file_extension": ".py",
   "mimetype": "text/x-python",
   "name": "python",
   "nbconvert_exporter": "python",
   "pygments_lexer": "ipython3",
   "version": "3.8.8"
  }
 },
 "nbformat": 4,
 "nbformat_minor": 5
}
