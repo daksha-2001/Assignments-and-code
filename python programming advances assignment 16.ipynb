{
 "cells": [
  {
   "cell_type": "markdown",
   "metadata": {},
   "source": [
    "1. Rondo Form is a type of musical structure, in which there is a recurring\n",
    "theme/refrain, notated as A. Here are the rules for valid rondo forms:\n",
    "    - Rondo forms always start and end with an A section.\n",
    "    - In between the A sections, there should be contrasting sections notated as\n",
    "    B, then C, then D, etc... No letter should be skipped.\n",
    "    - There shouldn&#39;t be any repeats in the sequence (such as ABBACCA).\n",
    "    \n",
    "Create a function which validates whether a given string is a valid Rondo\n",
    "Form."
   ]
  },
  {
   "cell_type": "code",
   "execution_count": 43,
   "metadata": {},
   "outputs": [
    {
     "data": {
      "text/plain": [
       "True"
      ]
     },
     "execution_count": 43,
     "metadata": {},
     "output_type": "execute_result"
    }
   ],
   "source": [
    "def valid_rondo(string):\n",
    "    char=[\"B\",\"C\",\"D\",\"E\",\"F\",\"G\",\"H\",\"I\",\"J\",\"K\",\"L\",\"M\",\"N\",\"O\",\"P\",\"Q\",\"R\",\"S\",\"T\",\"U\",\"V\",\"W\",\"X\",\"Y\",\"Z\"]\n",
    "    c=[]\n",
    "    b=[]\n",
    "    if string[0]!=\"A\":\n",
    "        b.append(False)\n",
    "        val=False\n",
    "    elif string==\"A\":\n",
    "        b.append(False)\n",
    "        val=False\n",
    "    elif string[-1]!=\"A\":\n",
    "        b.append(False)\n",
    "        val=False\n",
    "    else:\n",
    "        for i in range(len(string)):\n",
    "            if string[i]!=\"A\":\n",
    "                if string[i] in c:\n",
    "                    b.append(False)\n",
    "                    break\n",
    "                else:\n",
    "                    c.append(string[i])\n",
    "        index=char.index(c[-1])\n",
    "        char=char[:index+1]\n",
    "        if char==c:\n",
    "            b.append(True)\n",
    "        else:\n",
    "            b.append(False)\n",
    "        for i in b:\n",
    "            if i==False:\n",
    "                val=False\n",
    "                break\n",
    "            else:\n",
    "                val=True\n",
    "            \n",
    "    return val\n",
    "\n",
    "valid_rondo(\"ABACADAEAFAGAHAIAJA\") "
   ]
  },
  {
   "cell_type": "markdown",
   "metadata": {},
   "source": [
    "2. Create a function that returns the whole of the first sentence which\n",
    "contains a specific word. Include the full stop at the end of the sentence."
   ]
  },
  {
   "cell_type": "code",
   "execution_count": 78,
   "metadata": {},
   "outputs": [
    {
     "data": {
      "text/plain": [
       "'I have a mat.'"
      ]
     },
     "execution_count": 78,
     "metadata": {},
     "output_type": "execute_result"
    }
   ],
   "source": [
    "def sentence_search(string,txt):\n",
    "    txt=txt.lower()\n",
    "    sen=string.split(\".\")\n",
    "    s1=[]\n",
    "    res=\"\"\n",
    "    for i in sen:\n",
    "        for j in range(len(i)):\n",
    "            if j==0:\n",
    "                if i[j]==\" \":\n",
    "                    s1.append(i[j+1:])\n",
    "                else:\n",
    "                    s1.append(i)\n",
    "    for i in s1:\n",
    "        g=i.lower()\n",
    "        if txt in g:\n",
    "            res+=i+\".\"\n",
    "            break\n",
    "    return res  \n",
    "txt = \"I have a cat. I have a mat. Things are going swell.\"\n",
    "sentence_search(txt,\"MAT\")"
   ]
  },
  {
   "cell_type": "markdown",
   "metadata": {},
   "source": [
    "3. Given a number, find the &quot;round &quot;of each digit of the number. An integer is\n",
    "called &quot;round&quot; if all its digits except the leftmost (most significant) are equal to\n",
    "zero.\n",
    "    - Round numbers: 4000, 1, 9, 800, 90\n",
    "    - Not round numbers: 110, 707, 222, 1001\n",
    "\n",
    "Create a function that takes a number and returns the &quot;round&quot; of each digit\n",
    "(except if the digit is zero) as a string. Check out the following examples for\n",
    "more clarification."
   ]
  },
  {
   "cell_type": "code",
   "execution_count": 123,
   "metadata": {},
   "outputs": [
    {
     "data": {
      "text/plain": [
       "'4 30 200 1000'"
      ]
     },
     "execution_count": 123,
     "metadata": {},
     "output_type": "execute_result"
    }
   ],
   "source": [
    "def sum_round(num):\n",
    "    num=str(num)\n",
    "    num=num[::-1]\n",
    "    res=\"\"\n",
    "    l=\"0\"\n",
    "    c=0\n",
    "    for i in num:\n",
    "          \n",
    "        if c<len(num)+1:\n",
    "            l=l*c\n",
    "            n=i+l\n",
    "            \n",
    "            c+=1\n",
    "            \n",
    "            res+=n+\" \"\n",
    "        l=\"0\"\n",
    "    l=len(res)\n",
    "    if res[0]==\"0\":\n",
    "        res=res[2:l-1]\n",
    "    else:\n",
    "        res=res[:l-1]\n",
    "    return res\n",
    "sum_round(1234)        "
   ]
  },
  {
   "cell_type": "markdown",
   "metadata": {},
   "source": [
    "4. Your task, is to create N x N multiplication table, of size n provided in\n",
    "parameter.\n",
    "For example, when n is 5, the multiplication table is:\n",
    "    - 1, 2, 3, 4, 5\n",
    "    - 2, 4, 6, 8, 10\n",
    "    - 3, 6, 9, 12, 15\n",
    "    - 4, 8, 12, 16, 20\n",
    "    - 5, 10, 15, 20, 25\n",
    "    \n",
    "This example will result in:\n",
    "[[1, 2, 3, 4, 5], [2, 4, 6, 8, 10], [3, 6, 9, 12, 15], [4, 8, 12, 16, 20], [5, 10, 15, 20,\n",
    "25]]"
   ]
  },
  {
   "cell_type": "code",
   "execution_count": 133,
   "metadata": {},
   "outputs": [
    {
     "data": {
      "text/plain": [
       "[[1, 2, 3, 4, 5],\n",
       " [2, 4, 6, 8, 10],\n",
       " [3, 6, 9, 12, 15],\n",
       " [4, 8, 12, 16, 20],\n",
       " [5, 10, 15, 20, 25]]"
      ]
     },
     "execution_count": 133,
     "metadata": {},
     "output_type": "execute_result"
    }
   ],
   "source": [
    "def multiplication_table(num):\n",
    "    res=[]\n",
    "    r=[]\n",
    "    for i in range(1,num+1):\n",
    "        for j in range(1,num+1):\n",
    "            r.append(i*j)\n",
    "        res.append(r)\n",
    "        r=[]\n",
    "    return res\n",
    "        \n",
    "            \n",
    "multiplication_table(5)"
   ]
  },
  {
   "cell_type": "markdown",
   "metadata": {},
   "source": [
    "5. Create a function that returns True if two lines rhyme and False otherwise.\n",
    "For the purposes of this exercise, two lines rhyme if the last word from each\n",
    "sentence contains the same vowels."
   ]
  },
  {
   "cell_type": "code",
   "execution_count": 146,
   "metadata": {},
   "outputs": [
    {
     "data": {
      "text/plain": [
       "False"
      ]
     },
     "execution_count": 146,
     "metadata": {},
     "output_type": "execute_result"
    }
   ],
   "source": [
    "def does_rhyme(str1,str2):\n",
    "    str1=str1.lower()\n",
    "    str2=str2.lower()\n",
    "    s1=str1.split(\" \")\n",
    "    s2=str2.split(\" \")\n",
    "    vowels=[\"a\",\"e\",\"i\",\"o\",\"u\"]\n",
    "    v1=[]\n",
    "    v2=[]\n",
    "    for i in s1[-1]:\n",
    "        if i in vowels:\n",
    "            v1.append(i)\n",
    "    for i in s2[-1]:\n",
    "        if i in vowels:\n",
    "            v2.append(i)\n",
    "    if v1==v2:\n",
    "        b=True\n",
    "    else:\n",
    "        b=False\n",
    "    return b\n",
    "does_rhyme(\"and frequently do?\",\"you gotta move\")"
   ]
  },
  {
   "cell_type": "code",
   "execution_count": null,
   "metadata": {},
   "outputs": [],
   "source": []
  }
 ],
 "metadata": {
  "kernelspec": {
   "display_name": "Python 3",
   "language": "python",
   "name": "python3"
  },
  "language_info": {
   "codemirror_mode": {
    "name": "ipython",
    "version": 3
   },
   "file_extension": ".py",
   "mimetype": "text/x-python",
   "name": "python",
   "nbconvert_exporter": "python",
   "pygments_lexer": "ipython3",
   "version": "3.7.6"
  }
 },
 "nbformat": 4,
 "nbformat_minor": 4
}
