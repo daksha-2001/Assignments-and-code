{
 "cells": [
  {
   "cell_type": "markdown",
   "id": "822671da",
   "metadata": {},
   "source": [
    "Question 1\n",
    "Write a Python program to find words which are greater than given length k?"
   ]
  },
  {
   "cell_type": "code",
   "execution_count": 3,
   "id": "b729ebf7",
   "metadata": {},
   "outputs": [
    {
     "data": {
      "text/plain": [
       "['Hello']"
      ]
     },
     "execution_count": 3,
     "metadata": {},
     "output_type": "execute_result"
    }
   ],
   "source": [
    "def func(string,k):\n",
    "    res=[]\n",
    "    s=string.split(\" \")\n",
    "    for i in s:\n",
    "        if len(i)>k:\n",
    "            res.append(i)\n",
    "    return res\n",
    "func(\"Hello how are you\",3)"
   ]
  },
  {
   "cell_type": "markdown",
   "id": "75e1c6cb",
   "metadata": {},
   "source": [
    "Question 2\n",
    "\n",
    "Write a Python program for removing i-th character from a string?"
   ]
  },
  {
   "cell_type": "code",
   "execution_count": 10,
   "id": "147721c2",
   "metadata": {},
   "outputs": [
    {
     "data": {
      "text/plain": [
       "'Hello hw are you'"
      ]
     },
     "execution_count": 10,
     "metadata": {},
     "output_type": "execute_result"
    }
   ],
   "source": [
    "def func(string,i):\n",
    "    string=string[:i]+string[i+1:]\n",
    "    return string\n",
    "func(\"Hello how are you\",7)\n",
    "    "
   ]
  },
  {
   "cell_type": "markdown",
   "id": "cf9427c0",
   "metadata": {},
   "source": [
    "Question 3\n",
    "\n",
    "Write a Python program to split and join a string?"
   ]
  },
  {
   "cell_type": "code",
   "execution_count": 11,
   "id": "79dac1de",
   "metadata": {},
   "outputs": [
    {
     "data": {
      "text/plain": [
       "'Hello,how,are,you'"
      ]
     },
     "execution_count": 11,
     "metadata": {},
     "output_type": "execute_result"
    }
   ],
   "source": [
    "string='Hello how are you'\n",
    "string=string.split(\" \")\n",
    "string=\",\".join(string)\n",
    "string"
   ]
  },
  {
   "cell_type": "markdown",
   "id": "ef596c70",
   "metadata": {},
   "source": [
    "Question 4\n",
    "\n",
    "Write a Python to check if a given string is binary string or not?"
   ]
  },
  {
   "cell_type": "code",
   "execution_count": 14,
   "id": "ac263b2e",
   "metadata": {},
   "outputs": [
    {
     "name": "stdout",
     "output_type": "stream",
     "text": [
      "The given string is not binary\n"
     ]
    }
   ],
   "source": [
    "def func(string):\n",
    "    b=True\n",
    "    for i in string:\n",
    "        if i=='0'or i=='1':\n",
    "            b=b and True\n",
    "        else:\n",
    "            b=b and False\n",
    "    if b==True:\n",
    "        print(\"The given string is binary\")\n",
    "    else:\n",
    "        print(\"The given string is not binary\")\n",
    "func(\"101t\")"
   ]
  },
  {
   "cell_type": "markdown",
   "id": "5684a71f",
   "metadata": {},
   "source": [
    "Question 5\n",
    "\n",
    "Write a Python program to find uncommon words from two Strings?"
   ]
  },
  {
   "cell_type": "code",
   "execution_count": 6,
   "id": "35787a48",
   "metadata": {},
   "outputs": [
    {
     "data": {
      "text/plain": [
       "['at', 'includehelp', 'python', 'language']"
      ]
     },
     "execution_count": 6,
     "metadata": {},
     "output_type": "execute_result"
    }
   ],
   "source": [
    "def func(st1,str2):\n",
    "    s1=str1.split(\" \")\n",
    "    s2=str2.split(\" \")\n",
    "    d={}\n",
    "    for i in s1:\n",
    "        d[i] = d.get(i, 0) + 1\n",
    "    for i in s2:\n",
    "        d[i] = d.get(i, 0) + 1\n",
    "    c=[i for i in d if d[i]==1]\n",
    "  \n",
    "    return c\n",
    "str1 = \"learn programming at includehelp\"\n",
    "str2 = \"learn python programming language\"\n",
    "func(str1,str2)        "
   ]
  },
  {
   "cell_type": "markdown",
   "id": "f50eca8a",
   "metadata": {},
   "source": [
    "Question 6:\n",
    "\n",
    "Write a Python to find all duplicate characters in string?"
   ]
  },
  {
   "cell_type": "code",
   "execution_count": 9,
   "id": "f5c10ac7",
   "metadata": {},
   "outputs": [
    {
     "data": {
      "text/plain": [
       "'arngm'"
      ]
     },
     "execution_count": 9,
     "metadata": {},
     "output_type": "execute_result"
    }
   ],
   "source": [
    "def func(string):\n",
    "    d={}\n",
    "    res=\"\"\n",
    "    for i in string:\n",
    "        d[i] = d.get(i, 0) + 1\n",
    "    for i in d:\n",
    "        if d[i]>1:\n",
    "            res+=i\n",
    "    return res\n",
    "func(\"learn programming\")"
   ]
  },
  {
   "cell_type": "markdown",
   "id": "b378388f",
   "metadata": {},
   "source": [
    "Question 7\n",
    "\n",
    "Write a Python Program to check if a string contains any special character?"
   ]
  },
  {
   "cell_type": "code",
   "execution_count": 16,
   "id": "9045045f",
   "metadata": {},
   "outputs": [
    {
     "name": "stdout",
     "output_type": "stream",
     "text": [
      "Special characters: #\n"
     ]
    }
   ],
   "source": [
    "def func(string):\n",
    "    res=[]\n",
    "    for i in string:\n",
    "        if i.isalnum():\n",
    "            b=False\n",
    "        else:\n",
    "            b=True\n",
    "            res=i\n",
    "    if b==True:\n",
    "        if len(res)>1:\n",
    "            print(\"Special characters:\",\",\".join(res))\n",
    "        else:\n",
    "            print(\"Special characters:\",res[0])\n",
    "    else:\n",
    "        print(\"No special characters\")\n",
    "func(\"Daksha#\")        "
   ]
  },
  {
   "cell_type": "code",
   "execution_count": null,
   "id": "611e726e",
   "metadata": {},
   "outputs": [],
   "source": []
  }
 ],
 "metadata": {
  "kernelspec": {
   "display_name": "Python 3",
   "language": "python",
   "name": "python3"
  }
 },
 "nbformat": 4,
 "nbformat_minor": 5
}
