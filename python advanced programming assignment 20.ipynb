{
 "cells": [
  {
   "cell_type": "markdown",
   "id": "70f54bd7",
   "metadata": {},
   "source": [
    "1. Create a function based on the input and output. Look at the examples,\n",
    "there is a pattern."
   ]
  },
  {
   "cell_type": "code",
   "execution_count": 7,
   "id": "249cd80c",
   "metadata": {},
   "outputs": [
    {
     "data": {
      "text/plain": [
       "\"<p class='four five'></p>\""
      ]
     },
     "execution_count": 7,
     "metadata": {},
     "output_type": "execute_result"
    }
   ],
   "source": [
    "def secret(string):\n",
    "    lst=string.split(\".\")\n",
    "    res=\"\"\n",
    "    for i in range(len(lst)):\n",
    "        if i ==0:\n",
    "            res+=\"<\"+lst[i]+\" \"+\"class\"+\"=\"+\"'\"\n",
    "        else:\n",
    "            res+=lst[i]+\" \"\n",
    "    res=res[:-1]+\"'\"+\"></p>\"\n",
    "                \n",
    "    return res      \n",
    "secret(\"p.four.five\")"
   ]
  },
  {
   "cell_type": "markdown",
   "id": "aacad6be",
   "metadata": {},
   "source": [
    "2. Create a function which counts how many lone 1s appear in a given\n",
    "number. Lone means the number doesn&#39;t appear twice or more in a row."
   ]
  },
  {
   "cell_type": "code",
   "execution_count": 50,
   "id": "453a21f9",
   "metadata": {},
   "outputs": [
    {
     "data": {
      "text/plain": [
       "0"
      ]
     },
     "execution_count": 50,
     "metadata": {},
     "output_type": "execute_result"
    }
   ],
   "source": [
    "def count_lone_ones(n1):\n",
    "    s=str(n1)\n",
    "    c=0\n",
    "    i=0\n",
    "    while i<len(s):\n",
    "        if s[i]==\"1\":\n",
    "            if i<len(s)-1:\n",
    "                if s[i+1]==\"1\":\n",
    "                    i+=1\n",
    "                else:c+=1\n",
    "        i=i+1\n",
    "                \n",
    "    if s[-2]!=\"1\" and s[-1]==\"1\":\n",
    "        c+=1\n",
    "    return c\n",
    "count_lone_ones(462)\n",
    "            "
   ]
  },
  {
   "cell_type": "markdown",
   "id": "1b33792c",
   "metadata": {},
   "source": [
    "3. Write a method that accepts two integer parameters rows and cols. The\n",
    "output is a 2d array of numbers displayed in column-major order, meaning the\n",
    "numbers shown increase sequentially down each column and wrap to the top\n",
    "of the next column to the right once the bottom of the current column is\n",
    "reached."
   ]
  },
  {
   "cell_type": "code",
   "execution_count": 49,
   "id": "08743738",
   "metadata": {},
   "outputs": [
    {
     "data": {
      "text/plain": [
       "[[1, 6, 11], [2, 7, 12], [3, 8, 13], [4, 9, 14], [5, 10, 15]]"
      ]
     },
     "execution_count": 49,
     "metadata": {},
     "output_type": "execute_result"
    }
   ],
   "source": [
    "def print_grid(n1,n2):\n",
    "    r=[]\n",
    "    res=[]\n",
    "    n=n1*n2\n",
    "    for j in range(1,n1+1):\n",
    "        for i in range(j,n+1,n1):\n",
    "            r.append(i)\n",
    "        res.append(r)\n",
    "        r=[]\n",
    "            \n",
    "    return res\n",
    "print_grid(5,3)"
   ]
  },
  {
   "cell_type": "markdown",
   "id": "068d021e",
   "metadata": {},
   "source": [
    "4. Given a list of integers, return the smallest positive integer not present in\n",
    "the list.\n",
    "Here is a representative example. Consider the list:\n",
    "[-2, 6, 4, 5, 7, -1, 7, 1, 3, 6, 6, -2, 9, 10, 2, 2]\n",
    "After reordering, the list becomes:\n",
    "[-2, -2, -1, 1, 2, 2, 3, 4, 5, 6, 6, 6, 7, 7, 9, 10]\n",
    "from which we see that the smallest missing positive integer is 8."
   ]
  },
  {
   "cell_type": "code",
   "execution_count": 11,
   "id": "6811e85e",
   "metadata": {},
   "outputs": [
    {
     "data": {
      "text/plain": [
       "1"
      ]
     },
     "execution_count": 11,
     "metadata": {},
     "output_type": "execute_result"
    }
   ],
   "source": [
    "def min_miss_pos(lst):\n",
    "    lst.sort()\n",
    "    n=[]\n",
    "    n1=[]\n",
    "    n2=[]\n",
    "    for i in lst:\n",
    "        if i>0:\n",
    "            n.append(i)\n",
    "    for i in n:\n",
    "        if i not in n1:\n",
    "            n1.append(i)\n",
    "    for i in range(1,len(n1)):\n",
    "        if i not in n1:\n",
    "            n2.append(i)\n",
    "    j=n2[0]\n",
    "    for i in n2:\n",
    "        if i<j:\n",
    "            j=i\n",
    "        \n",
    "    return j\n",
    "min_miss_pos([0, 4, 4, -1, 9, 4, 5, 2, 10, 7, 6, 3, 10, 9])"
   ]
  },
  {
   "cell_type": "markdown",
   "id": "da2ed43b",
   "metadata": {},
   "source": [
    "5. Google is launching a network of autonomous pizza delivery drones and\n",
    "wants you to create a flexible rewards system (Pizza Points™) that can be\n",
    "tweaked in the future. The rules are simple: if a customer has made at least N\n",
    "orders of at least Y price, they get a FREE pizza!\n",
    "\n",
    "Create a function that takes a dictionary of customers, a minimum number of\n",
    "orders and a minimum order price. Return a list of customers that are eligible\n",
    "for a free pizza."
   ]
  },
  {
   "cell_type": "code",
   "execution_count": 17,
   "id": "1f2b32d6",
   "metadata": {},
   "outputs": [
    {
     "data": {
      "text/plain": [
       "[]"
      ]
     },
     "execution_count": 17,
     "metadata": {},
     "output_type": "execute_result"
    }
   ],
   "source": [
    "def pizza_points(customers,min_order,min_price):\n",
    "    c={}\n",
    "    lst=[]\n",
    "    n=[]\n",
    "    res=[]\n",
    "    for i in customers:\n",
    "        n.append(i)\n",
    "    for j in n:  \n",
    "        for i in customers[j]:\n",
    "            if i>min_price:\n",
    "                lst.append(i)\n",
    "        c[j]=lst\n",
    "        lst=[]\n",
    "    for i in c:\n",
    "        if len(c[i])>min_order:\n",
    "            res.append(i)\n",
    "    return res \n",
    "customers = {\n",
    "\"Batman\": [22, 30, 11, 17, 15, 52, 27, 12,2],\n",
    "\"Spider-Man\": [5, 17, 30, 33, 40, 22, 26, 10, 11, 45]\n",
    "}\n",
    "pizza_points(customers,5,100)"
   ]
  },
  {
   "cell_type": "code",
   "execution_count": null,
   "id": "59d3be33",
   "metadata": {},
   "outputs": [],
   "source": []
  }
 ],
 "metadata": {
  "kernelspec": {
   "display_name": "Python 3",
   "language": "python",
   "name": "python3"
  },
  "language_info": {
   "codemirror_mode": {
    "name": "ipython",
    "version": 3
   },
   "file_extension": ".py",
   "mimetype": "text/x-python",
   "name": "python",
   "nbconvert_exporter": "python",
   "pygments_lexer": "ipython3",
   "version": "3.8.8"
  }
 },
 "nbformat": 4,
 "nbformat_minor": 5
}
