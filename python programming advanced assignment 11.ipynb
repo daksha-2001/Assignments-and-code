{
 "cells": [
  {
   "cell_type": "markdown",
   "metadata": {},
   "source": [
    "1. Create a function that takes a list and returns a new list containing only\n",
    "prime numbers."
   ]
  },
  {
   "cell_type": "code",
   "execution_count": 10,
   "metadata": {},
   "outputs": [
    {
     "data": {
      "text/plain": [
       "[7, 3, 11]"
      ]
     },
     "execution_count": 10,
     "metadata": {},
     "output_type": "execute_result"
    }
   ],
   "source": [
    "def prime(num):\n",
    "    flag = False\n",
    "    if num > 1:\n",
    "        for i in range(2, num):\n",
    "            if (num % i) == 0:\n",
    "                flag = True\n",
    "                break\n",
    "    if flag:\n",
    "        return False\n",
    "    else:\n",
    "        return True\n",
    "def filter_primes(lst):\n",
    "    p1=[]\n",
    "    for i in lst:\n",
    "        f=prime(i)\n",
    "        if f:\n",
    "            p1.append(i)\n",
    "    return p1\n",
    "filter_primes([7, 9, 3, 9, 10, 11, 27])"
   ]
  },
  {
   "cell_type": "markdown",
   "metadata": {},
   "source": [
    "2. Once a water balloon pops, is soaks the area around it. The ground gets\n",
    "drier the further away you travel from the balloon.\n",
    "The effect of a water balloon popping can be modeled using a list. Create a\n",
    "function that takes a list which takes the pre-pop state and returns the state\n",
    "after the balloon is popped. The pre-pop state will contain at most a single\n",
    "balloon, whose size is represented by the only non-zero element."
   ]
  },
  {
   "cell_type": "code",
   "execution_count": 36,
   "metadata": {},
   "outputs": [
    {
     "name": "stdout",
     "output_type": "stream",
     "text": [
      "1\n"
     ]
    },
    {
     "data": {
      "text/plain": [
       "[0, 1, 2, 1, 0]"
      ]
     },
     "execution_count": 36,
     "metadata": {},
     "output_type": "execute_result"
    }
   ],
   "source": [
    "def pop(lst):\n",
    "    for i in lst:\n",
    "        if i!=0:\n",
    "            num=i\n",
    "    left=[0]*num\n",
    "    l=len(left)-1\n",
    "    print(l)\n",
    "    for i in range(num):\n",
    "        left[i]=i\n",
    "    right=left[::-1]\n",
    "    left.append(num)\n",
    "    for i in right:\n",
    "        left.append(i)\n",
    "    return left\n",
    "pop([0,0,2,0,0])\n",
    "        "
   ]
  },
  {
   "cell_type": "markdown",
   "metadata": {},
   "source": [
    "3.Given a number of petals, return a string which repeats the phrases\n",
    "\"Loves me\" and \"Loves me not\" for every alternating petal, and return the last phrase in all caps. Remember to put a comma and space between phrases."
   ]
  },
  {
   "cell_type": "code",
   "execution_count": 49,
   "metadata": {},
   "outputs": [
    {
     "data": {
      "text/plain": [
       "'Loves me,Loves me not,Loves me,Loves me not,Loves me,LOVES ME NOT'"
      ]
     },
     "execution_count": 49,
     "metadata": {},
     "output_type": "execute_result"
    }
   ],
   "source": [
    "def loves_me(num):\n",
    "    str1=\"Loves me\"\n",
    "    str2=\"Loves me not\"\n",
    "    res=\"\"\n",
    "    for i in range(num-1):\n",
    "        if i%2==0:\n",
    "            res+=str1+\",\"\n",
    "        else:\n",
    "            res+=str2+\",\"\n",
    "    if num%2==0:\n",
    "        res+=str2.upper()\n",
    "    else:\n",
    "        res+=str1.upper()\n",
    "    return res\n",
    "            \n",
    "loves_me(6)"
   ]
  },
  {
   "cell_type": "markdown",
   "metadata": {},
   "source": [
    "4. Write a function that sorts each string in a list by the letter in alphabetic\n",
    "ascending order (a-z)."
   ]
  },
  {
   "cell_type": "code",
   "execution_count": 85,
   "metadata": {},
   "outputs": [
    {
     "data": {
      "text/plain": [
       "['2344b', '932c', '832u32']"
      ]
     },
     "execution_count": 85,
     "metadata": {},
     "output_type": "execute_result"
    }
   ],
   "source": [
    "def letter(lst):\n",
    "    dict1={\n",
    "        \"a\":1,\"b\":2,\"c\":3,\"d\":4,\"e\":5,\"f\":6,\"g\":7,\"h\":8,\"i\":9,\"j\":10,\"k\":11,\"l\":12,\n",
    "        \"m\":13,\"n\":14,\"o\":15,\"p\":16,\"q\":17,\"r\":18,\"s\":19,\"t\":20,\"u\":21,\"v\":22,\"w\":23,\"x\":24,\"y\":25,\"z\":26\n",
    "    }\n",
    "    r=[]\n",
    "    for i in lst:\n",
    "        for j in i:\n",
    "            if j.isalpha():\n",
    "                r.append(j)\n",
    "    res=[]\n",
    "    for i in r:\n",
    "        res.append(dict1[i])\n",
    "    res.sort()\n",
    "    l=[]\n",
    "    n=[]\n",
    "    for i in dict1:\n",
    "        if dict1[i] in res:\n",
    "            l.append(i)\n",
    "    for i in l:\n",
    "        for j in lst:\n",
    "            if i in j:\n",
    "                n.append(j)\n",
    "            \n",
    "    return n\n",
    "letter([\"932c\", \"832u32\", \"2344b\"])"
   ]
  },
  {
   "cell_type": "markdown",
   "metadata": {},
   "source": [
    "Create a function that returns the letter position that the ball is at, once I finish\n",
    "swapping the cups. The swaps will be given to you as a list."
   ]
  },
  {
   "cell_type": "code",
   "execution_count": 93,
   "metadata": {},
   "outputs": [
    {
     "name": "stdout",
     "output_type": "stream",
     "text": [
      "A\n",
      "A\n",
      "B\n"
     ]
    },
    {
     "data": {
      "text/plain": [
       "'B'"
      ]
     },
     "execution_count": 93,
     "metadata": {},
     "output_type": "execute_result"
    }
   ],
   "source": [
    "def swap(lst):\n",
    "    ball=\"B\"\n",
    "    for i in lst:\n",
    "        if ball in i:\n",
    "            for j in i:\n",
    "                print(j)\n",
    "                if j!=ball:\n",
    "                    ball=j\n",
    "                    break\n",
    "    return ball\n",
    "                    \n",
    "                \n",
    "            \n",
    "swap([\"AB\",\"AB\",\"AC\"])"
   ]
  },
  {
   "cell_type": "code",
   "execution_count": null,
   "metadata": {},
   "outputs": [],
   "source": []
  }
 ],
 "metadata": {
  "kernelspec": {
   "display_name": "Python 3",
   "language": "python",
   "name": "python3"
  },
  "language_info": {
   "codemirror_mode": {
    "name": "ipython",
    "version": 3
   },
   "file_extension": ".py",
   "mimetype": "text/x-python",
   "name": "python",
   "nbconvert_exporter": "python",
   "pygments_lexer": "ipython3",
   "version": "3.7.6"
  }
 },
 "nbformat": 4,
 "nbformat_minor": 4
}
