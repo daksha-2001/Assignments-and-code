{
 "cells": [
  {
   "cell_type": "markdown",
   "id": "1dfaf7ff",
   "metadata": {},
   "source": [
    "Question 1:\n",
    "    \n",
    "Write a program that calculates and prints the value according to the given formula:\n",
    "    \n",
    "Q = Square root of [(2 * C * D)/H]\n",
    "\n",
    "Following are the fixed values of C and H:\n",
    "    \n",
    "C is 50. H is 30.\n",
    "\n",
    "D is the variable whose values should be input to your program in a comma-separated\n",
    "sequence."
   ]
  },
  {
   "cell_type": "code",
   "execution_count": 11,
   "id": "bc48d2eb",
   "metadata": {},
   "outputs": [
    {
     "name": "stdout",
     "output_type": "stream",
     "text": [
      "100,150,180\n",
      "18,22,24\n"
     ]
    }
   ],
   "source": [
    "import math\n",
    "def func(string):\n",
    "    s=string.split(\",\")\n",
    "    res=[]\n",
    "    for i in s:\n",
    "        cals=math.sqrt((2*50*int(i))/30)\n",
    "        res.append(str(round(cals)))\n",
    "    print(\",\".join(res))\n",
    "        \n",
    "func(input())\n"
   ]
  },
  {
   "cell_type": "markdown",
   "id": "70d0bb6f",
   "metadata": {},
   "source": [
    "Question 2:\n",
    "    \n",
    "Write a program which takes 2 digits, X,Y as input and generates a 2-dimensional array. The\n",
    "element value in the i-th row and j-th column of the array should be i*j.\n",
    "Note: i=0,1.., X-1; j=0,1,¡Y-1."
   ]
  },
  {
   "cell_type": "code",
   "execution_count": 14,
   "id": "7ed9d3b8",
   "metadata": {},
   "outputs": [
    {
     "data": {
      "text/plain": [
       "[[0, 0, 0, 0, 0], [0, 1, 2, 3, 4], [0, 2, 4, 6, 8]]"
      ]
     },
     "execution_count": 14,
     "metadata": {},
     "output_type": "execute_result"
    }
   ],
   "source": [
    "def func(n1,n2):\n",
    "    res=[]\n",
    "    for i in range(n1):\n",
    "        r=[i*j for j in range(n2)]\n",
    "        res.append(r)\n",
    "    return res\n",
    "func(3,5)        "
   ]
  },
  {
   "cell_type": "markdown",
   "id": "42b975d3",
   "metadata": {},
   "source": [
    "Question 3:\n",
    "    \n",
    "Write a program that accepts a comma separated sequence of words as input and prints the\n",
    "words in a comma-separated sequence after sorting them alphabetically."
   ]
  },
  {
   "cell_type": "code",
   "execution_count": 17,
   "id": "f952bbaa",
   "metadata": {},
   "outputs": [
    {
     "name": "stdout",
     "output_type": "stream",
     "text": [
      "without,hello,bag,world\n",
      "bag,hello,without,world\n"
     ]
    }
   ],
   "source": [
    "def func(string):\n",
    "    s=string.split(\",\")\n",
    "    s=sorted(s)\n",
    "    print(\",\".join(s))\n",
    "func(input())"
   ]
  },
  {
   "cell_type": "markdown",
   "id": "4f13dd03",
   "metadata": {},
   "source": [
    "Question 4:\n",
    "    \n",
    "Write a program that accepts a sequence of whitespace separated words as input and prints\n",
    "the words after removing all duplicate words and sorting them alphanumerically."
   ]
  },
  {
   "cell_type": "code",
   "execution_count": 27,
   "id": "b2d53d33",
   "metadata": {},
   "outputs": [
    {
     "name": "stdout",
     "output_type": "stream",
     "text": [
      "['hello', 'world', 'and', 'practice', 'makes', 'perfect', 'and', 'hello', 'world', 'again']\n"
     ]
    },
    {
     "data": {
      "text/plain": [
       "'again and hello makes perfect practice world'"
      ]
     },
     "execution_count": 27,
     "metadata": {},
     "output_type": "execute_result"
    }
   ],
   "source": [
    "def func(string):\n",
    "    s=string.split(\" \")\n",
    "    print(s)\n",
    "    r1=\"\"\n",
    "    res=[]\n",
    "    for i in s:\n",
    "        if i not in res:\n",
    "            res.append(i)\n",
    "    res=sorted(res)\n",
    "    for i in res:\n",
    "        r1+=i+\" \"\n",
    "    r1=r1[:-1]\n",
    "    return r1\n",
    "func(\"hello world and practice makes perfect and hello world again\")\n",
    "        "
   ]
  },
  {
   "cell_type": "code",
   "execution_count": 36,
   "id": "a3d7ed32",
   "metadata": {},
   "outputs": [
    {
     "name": "stdout",
     "output_type": "stream",
     "text": [
      "Letters 10\n",
      "Digts 3\n"
     ]
    }
   ],
   "source": [
    "def func(string):\n",
    "    letter=0\n",
    "    digit=0\n",
    "    for i in string:\n",
    "        if i.isdigit():\n",
    "            digit+=1\n",
    "        elif i.isalpha():\n",
    "            letter+=1\n",
    "    print(\"Letters\",letter)\n",
    "    print(\"Digts\",digit)\n",
    "    \n",
    "func(\"hello world! 123\")"
   ]
  },
  {
   "cell_type": "markdown",
   "id": "e9437e91",
   "metadata": {},
   "source": [
    "Question 6:\n",
    "\n",
    "A website requires the users to input username and password to register. Write a program to\n",
    "check the validity of password input by users.\n",
    "\n",
    "Following are the criteria for checking the password:\n",
    "\n",
    "    1. At least 1 letter between [a-z]\n",
    "    \n",
    "    2. At least 1 number between [0-9]\n",
    "    \n",
    "    3. At least 1 letter between [A-Z]\n",
    "    \n",
    "    4. At least 1 character from [$#@]\n",
    "    \n",
    "    5. Minimum length of transaction password: 6\n",
    "    \n",
    "    6. Maximum length of transaction password: 12\n",
    "    \n",
    "Your program should accept a sequence of comma separated passwords and will check them\n",
    "according to the above criteria. Passwords that match the criteria are to be printed, each\n",
    "separated by a comma."
   ]
  },
  {
   "cell_type": "code",
   "execution_count": 63,
   "id": "3acbb87b",
   "metadata": {},
   "outputs": [
    {
     "name": "stdout",
     "output_type": "stream",
     "text": [
      "['ABd1234@1', 'a F1#', '2w3E*', '2We3345@#']\n"
     ]
    },
    {
     "data": {
      "text/plain": [
       "['ABd1234@1', '2We3345@#']"
      ]
     },
     "execution_count": 63,
     "metadata": {},
     "output_type": "execute_result"
    }
   ],
   "source": [
    "def func(string):\n",
    "    s=string.split(\",\")\n",
    "    b=True\n",
    "    print(s)\n",
    "    s1=[\"#\",\"$\",\"@\"]\n",
    "    res=[]\n",
    "    for i in s:\n",
    "        b=True\n",
    "        for j in i:\n",
    "            if j.isdigit() or j.isalpha() or j in s1:\n",
    "                b=b and True \n",
    "            else:\n",
    "                b=b and False\n",
    "        if 6<len(i)<12:\n",
    "            b=b and True\n",
    "            \n",
    "        else:\n",
    "            b=b and False\n",
    "        if b==True:\n",
    "            res.append(i)\n",
    "    return res\n",
    "func('ABd1234@1,a F1#,2w3E*,2We3345@#')"
   ]
  },
  {
   "cell_type": "code",
   "execution_count": null,
   "id": "4aaf7115",
   "metadata": {},
   "outputs": [],
   "source": []
  }
 ],
 "metadata": {
  "kernelspec": {
   "display_name": "Python 3",
   "language": "python",
   "name": "python3"
  },
  "language_info": {
   "codemirror_mode": {
    "name": "ipython",
    "version": 3
   },
   "file_extension": ".py",
   "mimetype": "text/x-python",
   "name": "python",
   "nbconvert_exporter": "python",
   "pygments_lexer": "ipython3",
   "version": "3.8.8"
  }
 },
 "nbformat": 4,
 "nbformat_minor": 5
}
