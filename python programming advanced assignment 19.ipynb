{
 "cells": [
  {
   "cell_type": "markdown",
   "id": "fae9d616",
   "metadata": {},
   "source": [
    "Create a checker board generator, which takes as inputs n and 2 elements\n",
    "to generate an n x n checkerboard with those two elements as alternating\n",
    "squares."
   ]
  },
  {
   "cell_type": "code",
   "execution_count": 31,
   "id": "a3f3c4dd",
   "metadata": {},
   "outputs": [
    {
     "data": {
      "text/plain": [
       "[['A', 'B', 'A', 'B'],\n",
       " ['A', 'B', 'A', 'B'],\n",
       " ['A', 'B', 'A', 'B'],\n",
       " ['A', 'B', 'A', 'B']]"
      ]
     },
     "execution_count": 31,
     "metadata": {},
     "output_type": "execute_result"
    }
   ],
   "source": [
    "def checker_board(input1,n1,n2):\n",
    "    res=[]\n",
    "    main=[]\n",
    "    i=0\n",
    "    while len(res)<input1:\n",
    "        res.append(n1)\n",
    "        res.append(n2)\n",
    "    if input1%2!=0:\n",
    "        res=res[:-1]\n",
    "    while input1>0:\n",
    "        main.append(res)\n",
    "        input1-=1\n",
    "    return main\n",
    "\n",
    "    \n",
    "checker_board(4,\"A\",\"B\")\n",
    "    "
   ]
  },
  {
   "cell_type": "markdown",
   "id": "4fcd2e3c",
   "metadata": {},
   "source": [
    "A string is an almost-palindrome if, by changing only one character, you\n",
    "can make it a palindrome. Create a function that returns True if a string is an\n",
    "almost-palindrome and False otherwise."
   ]
  },
  {
   "cell_type": "code",
   "execution_count": 42,
   "id": "a6f16335",
   "metadata": {},
   "outputs": [
    {
     "data": {
      "text/plain": [
       "False"
      ]
     },
     "execution_count": 42,
     "metadata": {},
     "output_type": "execute_result"
    }
   ],
   "source": [
    "def almost_palindrome(string):\n",
    "    rev=string[::-1]\n",
    "    count=0\n",
    "    b=False\n",
    "    for i in range(len(string)):\n",
    "        if string[i]==rev[i]:\n",
    "            count+=1\n",
    "    length=len(string)-2 \n",
    "    if count==length:\n",
    "        b=True\n",
    "    return b\n",
    "almost_palindrome(\"abcdaaa\")"
   ]
  },
  {
   "cell_type": "markdown",
   "id": "9d1ef0b4",
   "metadata": {},
   "source": [
    "Create a function that finds how many prime numbers there are, up to the\n",
    "given integer."
   ]
  },
  {
   "cell_type": "code",
   "execution_count": 68,
   "id": "01dd2271",
   "metadata": {},
   "outputs": [
    {
     "data": {
      "text/plain": [
       "10"
      ]
     },
     "execution_count": 68,
     "metadata": {},
     "output_type": "execute_result"
    }
   ],
   "source": [
    "def prime(n):\n",
    "    p=[]\n",
    "    for num in range(2,n):\n",
    "        flag = False\n",
    "        for i in range(2, num):\n",
    "            if (num % i) == 0:\n",
    "                flag = True\n",
    "                break\n",
    "        if flag==False:\n",
    "            p.append(num)\n",
    "        res=len(p)\n",
    "    return res\n",
    "prime(30)\n",
    "            "
   ]
  },
  {
   "cell_type": "markdown",
   "id": "a6cedd58",
   "metadata": {},
   "source": [
    " If today was Monday, in two days, it would be Wednesday.\n",
    "Create a function that takes in a list of days as input and the number of days\n",
    "to increment by. Return a list of days after n number of days has passed."
   ]
  },
  {
   "cell_type": "code",
   "execution_count": 102,
   "id": "994ba790",
   "metadata": {},
   "outputs": [
    {
     "data": {
      "text/plain": [
       "['Monday', 'Friday']"
      ]
     },
     "execution_count": 102,
     "metadata": {},
     "output_type": "execute_result"
    }
   ],
   "source": [
    "def after_n_days(lst,n):\n",
    "    res=[]\n",
    "    main=[]\n",
    "    days=[\"Monday\",\"Tuesday\",\"Wednesday\",\"Thursday\",\"Friday\",\"Saturday\",\"Sunday\"]\n",
    "    for i in lst:\n",
    "        pos=0\n",
    "        n1=n\n",
    "        for j in range(len(days)):\n",
    "            if i==days[j]:\n",
    "                pos=j\n",
    "                break\n",
    "        pos=pos+1\n",
    "        while n1>0:\n",
    "            if pos==7:\n",
    "                pos=0\n",
    "            res.append(days[pos])\n",
    "            pos+=1\n",
    "            n1=n1-1\n",
    "        main.append(res[-1])\n",
    "\n",
    "            \n",
    "    return main\n",
    "\n",
    "after_n_days([\"Thursday\",\"Monday\"],4)       \n",
    "        \n",
    "    "
   ]
  },
  {
   "cell_type": "markdown",
   "id": "19ccddca",
   "metadata": {},
   "source": [
    "You are in the process of creating a chat application and want to add an\n",
    "anonymous name feature. This anonymous name feature will create an alias\n",
    "that consists of two capitalized words beginning with the same letter as the\n",
    "users first name.\n",
    "\n",
    "Create a function that determines if the list of users is mapped to a list of\n",
    "anonymous names correctly."
   ]
  },
  {
   "cell_type": "code",
   "execution_count": 116,
   "id": "afc3d50e",
   "metadata": {},
   "outputs": [
    {
     "data": {
      "text/plain": [
       "False"
      ]
     },
     "execution_count": 116,
     "metadata": {},
     "output_type": "execute_result"
    }
   ],
   "source": [
    "def is_correct_alias(lst1,lst2):\n",
    "    b=True\n",
    "    for i in range(len(lst1)):\n",
    "        ali=lst1[i][0]\n",
    "        \n",
    "        res=lst2[i].split(\" \")\n",
    "        if res[0][0] and res[1][0]==ali:\n",
    "            b=True\n",
    "        else:\n",
    "            b=False\n",
    "        return b      \n",
    "is_correct_alias([\"Adrian M.\",\"Harriet S.\", \"Mandy T.\"], [\"Amazing Brtichoke\", \"Hopeful Hedgehog\", \"Marvelous Mouse\"])"
   ]
  },
  {
   "cell_type": "code",
   "execution_count": null,
   "id": "a1862cff",
   "metadata": {},
   "outputs": [],
   "source": []
  }
 ],
 "metadata": {
  "kernelspec": {
   "display_name": "Python 3",
   "language": "python",
   "name": "python3"
  },
  "language_info": {
   "codemirror_mode": {
    "name": "ipython",
    "version": 3
   },
   "file_extension": ".py",
   "mimetype": "text/x-python",
   "name": "python",
   "nbconvert_exporter": "python",
   "pygments_lexer": "ipython3",
   "version": "3.8.8"
  }
 },
 "nbformat": 4,
 "nbformat_minor": 5
}
