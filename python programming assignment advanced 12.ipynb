{
 "cells": [
  {
   "cell_type": "markdown",
   "metadata": {},
   "source": [
    "1. For this challenge, forget how to add two numbers together.\n",
    "\n",
    "meme_sum(26, 39) ➞ 515\n",
    " 2+3 = 5, 6+9 = 15\n",
    " 26 + 39 = 515"
   ]
  },
  {
   "cell_type": "code",
   "execution_count": 67,
   "metadata": {},
   "outputs": [
    {
     "data": {
      "text/plain": [
       "31499"
      ]
     },
     "execution_count": 67,
     "metadata": {},
     "output_type": "execute_result"
    }
   ],
   "source": [
    "def meme_sum(s1,s2):\n",
    "    s1=str(s1)\n",
    "    s2=str(s2)\n",
    "    c=0\n",
    "    r=''\n",
    "    if len(s1)>len(s2):\n",
    "        i=len(s2)\n",
    "        while i!=len(s1):\n",
    "            c+=1\n",
    "            i+=1\n",
    "        for i in range(c):\n",
    "            r+='0'\n",
    "        r+=s2\n",
    "        s2=r\n",
    "    else:\n",
    "        i=len(s1)\n",
    "        while i!=len(s2):\n",
    "            c+=1\n",
    "            i+=1\n",
    "        for i in range(c):\n",
    "            r+='0'\n",
    "        r+=s1\n",
    "        s1=r\n",
    "    res=\"\"\n",
    "    for i in range(len(s1)):\n",
    "        r1=int(s1[i])+int(s2[i])\n",
    "        res+=str(r1)\n",
    "    \n",
    "    return int(res)\n",
    "meme_sum(1222,30277)\n",
    "    \n",
    "\n",
    "    "
   ]
  },
  {
   "cell_type": "markdown",
   "metadata": {},
   "source": [
    "2. Given an integer, create a function that returns the next prime. If the\n",
    "number is prime, return the number itself."
   ]
  },
  {
   "cell_type": "code",
   "execution_count": 11,
   "metadata": {},
   "outputs": [
    {
     "name": "stdout",
     "output_type": "stream",
     "text": [
      "29\n"
     ]
    }
   ],
   "source": [
    "def prime(num):\n",
    "    flag = False\n",
    "    if num > 1:\n",
    "        for i in range(2, num):\n",
    "            if (num % i) == 0:\n",
    "                flag = True\n",
    "                break\n",
    "    if flag:\n",
    "        return False\n",
    "        print(num)\n",
    "    else:\n",
    "        return True\n",
    "def next_prime(num):\n",
    "    r=prime(num)\n",
    "    if r==False:\n",
    "        next_prime(num+1)\n",
    "    else:\n",
    "        print(num)\n",
    "next_prime(24)"
   ]
  },
  {
   "cell_type": "markdown",
   "metadata": {},
   "source": [
    "3. If a person traveled up a hill for 18mins at 20mph and then traveled back\n",
    "down the same path at 60mph then their average speed traveled was 30mph.\n",
    "Write a function that returns the average speed traveled given an uphill time,\n",
    "uphill rate and a downhill rate. Uphill time is given in minutes. Return the rate\n",
    "as an integer (mph). No rounding is necessary."
   ]
  },
  {
   "cell_type": "code",
   "execution_count": 14,
   "metadata": {},
   "outputs": [
    {
     "data": {
      "text/plain": [
       "15"
      ]
     },
     "execution_count": 14,
     "metadata": {},
     "output_type": "execute_result"
    }
   ],
   "source": [
    "def distance(t1,s1):\n",
    "    dist=t1*s1\n",
    "    return dist\n",
    "def avg_speed(t1,s1,s2):\n",
    "    dist=distance(t1,s1)\n",
    "    t2=dist/s2\n",
    "    t_dist=dist+dist\n",
    "    t_time=t1+t2\n",
    "    t_speed=t_dist/t_time\n",
    "    return int(t_speed)\n",
    "avg_speed(30,10,30)\n",
    "    \n",
    "    "
   ]
  },
  {
   "cell_type": "markdown",
   "metadata": {},
   "source": [
    "4. The Kempner Function, applied to a composite number, permits to find the\n",
    "smallest integer greater than zero whose factorial is exactly divided by the\n",
    "number."
   ]
  },
  {
   "cell_type": "code",
   "execution_count": 23,
   "metadata": {},
   "outputs": [
    {
     "data": {
      "text/plain": [
       "5"
      ]
     },
     "execution_count": 23,
     "metadata": {},
     "output_type": "execute_result"
    }
   ],
   "source": [
    "import math\n",
    "def kempner(num):\n",
    "    for i in range(num+1):\n",
    "        fact=math.factorial(i)\n",
    "        f=fact%num\n",
    "        if f==0:\n",
    "            return i\n",
    "            break\n",
    "kempner(5)\n",
    "            \n",
    "        "
   ]
  },
  {
   "cell_type": "code",
   "execution_count": 66,
   "metadata": {},
   "outputs": [
    {
     "data": {
      "text/plain": [
       "4"
      ]
     },
     "execution_count": 66,
     "metadata": {},
     "output_type": "execute_result"
    }
   ],
   "source": [
    "def boxes(lst):\n",
    "    s=0\n",
    "    c=0\n",
    "    s10=0\n",
    "    o_sum=0\n",
    "    for i in lst:\n",
    "        if s+i>10:\n",
    "            c+=1\n",
    "            s=0\n",
    "            s+=i\n",
    "        elif s+i==10:\n",
    "            c+=1\n",
    "            s=0\n",
    "            s10+=1 \n",
    "        else:\n",
    "            s+=i\n",
    "            \n",
    "    for i in lst:\n",
    "        o_sum+=i\n",
    "    if o_sum%10==0:\n",
    "        return s10\n",
    "    else:\n",
    "        c+=1\n",
    "        return c\n",
    "\n",
    "        \n",
    "boxes([2, 1, 2, 5, 4, 6,7,3,8])"
   ]
  },
  {
   "cell_type": "code",
   "execution_count": null,
   "metadata": {},
   "outputs": [],
   "source": []
  }
 ],
 "metadata": {
  "kernelspec": {
   "display_name": "Python 3",
   "language": "python",
   "name": "python3"
  },
  "language_info": {
   "codemirror_mode": {
    "name": "ipython",
    "version": 3
   },
   "file_extension": ".py",
   "mimetype": "text/x-python",
   "name": "python",
   "nbconvert_exporter": "python",
   "pygments_lexer": "ipython3",
   "version": "3.7.6"
  }
 },
 "nbformat": 4,
 "nbformat_minor": 4
}
