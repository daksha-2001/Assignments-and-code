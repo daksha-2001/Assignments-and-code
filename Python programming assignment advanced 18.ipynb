{
 "cells": [
  {
   "cell_type": "markdown",
   "id": "403173ea",
   "metadata": {},
   "source": [
    "1. A robot has been given a list of movement instructions. Each instruction is\n",
    "either left, right, up or down, followed by a distance to move. The robot starts\n",
    "at [0, 0]. You want to calculate where the robot will end up and return its final\n",
    "position as a list.\n",
    "\n",
    "To illustrate, if the robot is given the following instructions:\n",
    "[right,left,up,down]\n",
    "It will end up 20 left and 40 up from where it started, so we return [-20, 40]."
   ]
  },
  {
   "cell_type": "code",
   "execution_count": 31,
   "id": "0a0245ff",
   "metadata": {},
   "outputs": [
    {
     "data": {
      "text/plain": [
       "[-100, 10500]"
      ]
     },
     "execution_count": 31,
     "metadata": {},
     "output_type": "execute_result"
    }
   ],
   "source": [
    "def track_robot(lst):\n",
    "    right,left=0,0\n",
    "    up,down=0,0\n",
    "    r_l=[]\n",
    "    u_d=[]\n",
    "    for i in lst:\n",
    "        g1=i.split(\" \")\n",
    "        if g1[0]==\"right\":\n",
    "            right+=int(g1[1])\n",
    "            r_l.append(g1[0])\n",
    "        elif g1[0]==\"left\":\n",
    "            left+=int(g1[1])\n",
    "            r_l.append(g1[0])\n",
    "        elif g1[0]==\"up\":\n",
    "            up+=int(g1[1])\n",
    "            u_d.append(g1[0])\n",
    "        elif g1[0]==\"down\":\n",
    "            down+=int(g1[1])\n",
    "            u_d.append(g1[0])\n",
    "    if r_l[0]==\"right\":\n",
    "        r=right-left\n",
    "    else:\n",
    "        r=left-right\n",
    "    if u_d[0]==\"up\":\n",
    "        u=up-down\n",
    "    else:\n",
    "        u=down-up\n",
    "    res=[]\n",
    "    res.append(r)\n",
    "    res.append(u)\n",
    "    return res\n",
    "track_robot([\"left 100\",\"right 200\",\"up 500\",\"up 10000\"])\n",
    "        \n",
    "        "
   ]
  },
  {
   "cell_type": "markdown",
   "id": "e0146660",
   "metadata": {},
   "source": [
    "2. Write a function that will return the longest word in a sentence. In cases\n",
    "where more than one word is found, return the first one."
   ]
  },
  {
   "cell_type": "code",
   "execution_count": 41,
   "id": "3148062f",
   "metadata": {},
   "outputs": [
    {
     "data": {
      "text/plain": [
       "'strengths'"
      ]
     },
     "execution_count": 41,
     "metadata": {},
     "output_type": "execute_result"
    }
   ],
   "source": [
    "def find_long(string):\n",
    "    s1=string.split(\" \")\n",
    "    s2=[]\n",
    "    length=0\n",
    "    word=\"\"\n",
    "    w=\"\"\n",
    "    same=[]\n",
    "    for i in s1:\n",
    "        for j in i:\n",
    "            if j.isalpha():\n",
    "                w+=j.lower()\n",
    "        s2.append(w)\n",
    "        w=\"\"\n",
    "        \n",
    "    for i in s2:\n",
    "        l=len(i)\n",
    "        if l>length:\n",
    "            length=l\n",
    "            word=i\n",
    "    return word\n",
    "find_long(\"\\\"Strengths\\\" is the longest and most commonly used word that contains only a single vowel\")\n",
    "        "
   ]
  },
  {
   "cell_type": "markdown",
   "id": "2b5ffd12",
   "metadata": {},
   "source": [
    "3. Create a function to check if a candidate is qualified in an imaginary coding\n",
    "interview of an imaginary tech startup.\n",
    "\n",
    "The criteria for a candidate to be qualified in the coding interview is:\n",
    "    1. The candidate should have complete all the questions.\n",
    "    2. The maximum time given to complete the interview is 120 minutes.\n",
    "    3. The maximum time given for very easy questions is 5 minutes each.\n",
    "    4. The maximum time given for easy questions is 10 minutes each.\n",
    "    5. The maximum time given for medium questions is 15 minutes each.\n",
    "    6. The maximum time given for hard questions is 20 minutes each.\n",
    "    \n",
    "If all the above conditions are satisfied, return \"qualified\", else return\n",
    "\"disqualified\".\n",
    "\n",
    "You will be given a list of time taken by a candidate to solve a particular\n",
    "question and the total time taken by the candidate to complete the interview.\n",
    "Given a list , in a true condition will always be in the format [very easy, very\n",
    "easy, easy, easy, medium, medium, hard, hard].\n",
    "\n",
    "The maximum time to complete the interview includes a buffer time of 20\n",
    "minutes."
   ]
  },
  {
   "cell_type": "code",
   "execution_count": 49,
   "id": "eb3045bd",
   "metadata": {},
   "outputs": [
    {
     "data": {
      "text/plain": [
       "'Disqualified'"
      ]
     },
     "execution_count": 49,
     "metadata": {},
     "output_type": "execute_result"
    }
   ],
   "source": [
    "def interview(lst,total):\n",
    "    very_easy=lst[:2]\n",
    "    easy=lst[2:4]\n",
    "    medium=lst[4:6]\n",
    "    hard=lst[6:]\n",
    "    b=True\n",
    "    if total>120:\n",
    "        b=b and False\n",
    "    for i in very_easy:\n",
    "        if i>5:\n",
    "            b=b and False\n",
    "    for i in easy:\n",
    "        if i>10:\n",
    "            b=b and False\n",
    "    for i in medium:\n",
    "        if i>15:\n",
    "            b=b and False\n",
    "    for i in hard:\n",
    "        if i>20:\n",
    "            b=b and False\n",
    "    if b==True:\n",
    "        res=\"Qualified\"\n",
    "    else:\n",
    "        res=\"Disqualified\"\n",
    "    return res\n",
    "interview([5, 5, 10, 10, 15, 15, 20, 20], 130)"
   ]
  },
  {
   "cell_type": "markdown",
   "id": "7aa58154",
   "metadata": {},
   "source": [
    "4. Write a function that divides a list into chunks of size n, where n is the\n",
    "length of each chunk."
   ]
  },
  {
   "cell_type": "code",
   "execution_count": 57,
   "id": "15a97441",
   "metadata": {},
   "outputs": [
    {
     "data": {
      "text/plain": [
       "[[2], [3], [4], [5], [6], [7]]"
      ]
     },
     "execution_count": 57,
     "metadata": {},
     "output_type": "execute_result"
    }
   ],
   "source": [
    "def chunkify(lst,n):\n",
    "    s=[]\n",
    "    main=[]\n",
    "    for i in lst:\n",
    "        s.append(i)\n",
    "        if len(s)==n:\n",
    "            main.append(s)\n",
    "            s=[]   \n",
    "    if len(s)!=0:\n",
    "        main.append(s)\n",
    "    return main\n",
    "chunkify([2, 3, 4, 5, 6, 7], 1)"
   ]
  },
  {
   "cell_type": "markdown",
   "id": "47c275f7",
   "metadata": {},
   "source": [
    "5. You are given a list of strings consisting of grocery items, with prices in\n",
    "parentheses. Return a list of prices in float format."
   ]
  },
  {
   "cell_type": "code",
   "execution_count": 72,
   "id": "4d29b67e",
   "metadata": {},
   "outputs": [
    {
     "data": {
      "text/plain": [
       "[1.99, 8.5, 0.75]"
      ]
     },
     "execution_count": 72,
     "metadata": {},
     "output_type": "execute_result"
    }
   ],
   "source": [
    "def get_prices(lst):\n",
    "    pos=0\n",
    "    res=[]\n",
    "    for i in lst:\n",
    "        for j in range(len(i)):\n",
    "            if i[j]==\"$\":\n",
    "                pos=j\n",
    "        price=i[pos+1:-1]\n",
    "        res.append(float(price))\n",
    "        \n",
    "    return res\n",
    "get_prices([\n",
    "\"artichokes ($1.99)\",\n",
    "\"rotiserrie chicken ($8.50)\",\n",
    "\"gum ($0.75)\"])\n",
    "                "
   ]
  },
  {
   "cell_type": "code",
   "execution_count": null,
   "id": "daeb9da8",
   "metadata": {},
   "outputs": [],
   "source": []
  }
 ],
 "metadata": {
  "kernelspec": {
   "display_name": "Python 3",
   "language": "python",
   "name": "python3"
  },
  "language_info": {
   "codemirror_mode": {
    "name": "ipython",
    "version": 3
   },
   "file_extension": ".py",
   "mimetype": "text/x-python",
   "name": "python",
   "nbconvert_exporter": "python",
   "pygments_lexer": "ipython3",
   "version": "3.8.8"
  }
 },
 "nbformat": 4,
 "nbformat_minor": 5
}
