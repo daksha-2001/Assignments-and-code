{
 "cells": [
  {
   "cell_type": "markdown",
   "id": "30592dc9",
   "metadata": {},
   "source": [
    "1. Create a function that transposes a 2D matrix."
   ]
  },
  {
   "cell_type": "code",
   "execution_count": 13,
   "id": "79c8b850",
   "metadata": {},
   "outputs": [
    {
     "name": "stdout",
     "output_type": "stream",
     "text": [
      "[[0, 0, 0], [0, 0, 0]]\n",
      "[5, 6, 9]\n",
      "[5, 7, 1]\n"
     ]
    }
   ],
   "source": [
    "def transpose_matrix(x):\n",
    "    rows, cols = len(x[0]),len(x)\n",
    "    result = [([0]*cols) for i in range(rows)]\n",
    "    print(result)\n",
    "    for i in range(len(x)):\n",
    "        for j in range(len(x[0])):\n",
    "            result[j][i] = x[i][j]\n",
    "    for r in result:\n",
    "        print(r)\n",
    "transpose_matrix([\n",
    "[5, 5],\n",
    "[6, 7],\n",
    "[9, 1]\n",
    "])"
   ]
  },
  {
   "cell_type": "markdown",
   "id": "87270cf7",
   "metadata": {},
   "source": [
    "2. Create a function that determines whether a string is a valid hex code.\n",
    "A hex code must begin with a pound key # and is exactly 6 characters in\n",
    "length. Each character must be a digit from 0-9 or an alphabetic character\n",
    "from A-F. All alphabetic characters may be uppercase or lowercase."
   ]
  },
  {
   "cell_type": "code",
   "execution_count": 38,
   "id": "8d624a14",
   "metadata": {},
   "outputs": [
    {
     "data": {
      "text/plain": [
       "False"
      ]
     },
     "execution_count": 38,
     "metadata": {},
     "output_type": "execute_result"
    }
   ],
   "source": [
    "def is_valid_hex_code(string):\n",
    "    res=True\n",
    "    valid=[\"1\",\"2\",\"3\",\"4\",\"5\",\"6\",\"7\",\"8\",\"9\",\"0\",\"A\",\"B\",\"C\",\"D\",\"E\",\"F\"]\n",
    "    if string[0]==\"#\":\n",
    "        res=True\n",
    "    string=string.upper()\n",
    "    string=string[1:]\n",
    "    if len(string)==6:\n",
    "        res=res and True\n",
    "    else:\n",
    "        res=res and False\n",
    "    for i in string:\n",
    "        if i in valid:\n",
    "            res=res and True\n",
    "        else:\n",
    "            res=False\n",
    "    return res\n",
    "            \n",
    "is_valid_hex_code(\"#CD5C&C\")\n",
    "    \n",
    "    "
   ]
  },
  {
   "cell_type": "markdown",
   "id": "e687772e",
   "metadata": {},
   "source": [
    "3. Given a list of math equations (given as strings), return the percentage of\n",
    "correct answers as a string. Round to the nearest whole number."
   ]
  },
  {
   "cell_type": "code",
   "execution_count": 48,
   "id": "1bfb2ac6",
   "metadata": {},
   "outputs": [
    {
     "data": {
      "text/plain": [
       "'67%'"
      ]
     },
     "execution_count": 48,
     "metadata": {},
     "output_type": "execute_result"
    }
   ],
   "source": [
    "def mark_math(lst):\n",
    "    total=0\n",
    "    l=100/len(lst)\n",
    "    for i in lst:\n",
    "        if \"+\" in i:\n",
    "            num1=i.split(\"+\")\n",
    "            num2=num1[1].split(\"=\")\n",
    "            n1=num1[0]\n",
    "            n2=num2[0]\n",
    "            n3=num2[1]\n",
    "            s1=int(n1)+int(n2)\n",
    "            if s1==int(n3):\n",
    "                total+=l\n",
    "\n",
    "        else:\n",
    "            num1=i.split(\"-\")\n",
    "            num2=num1[1].split(\"=\")\n",
    "            \n",
    "            if len(num1)==3:\n",
    "                n1=num1[0]\n",
    "                n2=num2[0]\n",
    "                n3=\"-\"+num1[2]\n",
    "                s1=int(n1)-int(n2)\n",
    "                if str(s1)==n3:\n",
    "                    total+=l\n",
    "            else:\n",
    "                n1=num1[0]\n",
    "                n2=num2[0]\n",
    "                n3=num2[1]\n",
    "                s1=int(n1)-int(n2)\n",
    "                if s1==int(n3):\n",
    "                    total+=l\n",
    "                \n",
    "                \n",
    "    t2=round(total)\n",
    "    t1=str(t2)+\"%\"\n",
    "    return t1\n",
    "mark_math([\"2+3=5\",\"4+4=9\",\"3-1=2\"])"
   ]
  },
  {
   "cell_type": "markdown",
   "id": "faf1e74f",
   "metadata": {},
   "source": [
    "4. There are two players, Alice and Bob, each with a 3-by-3 grid. A referee\n",
    "tells Alice to fill out one particular row in the grid (say the second row) by\n",
    "putting either a 1 or a 0 in each box, such that the sum of the numbers in that\n",
    "row is odd. The referee tells Bob to fill out one column in the grid (say the first\n",
    "column) by putting either a 1 or a 0 in each box, such that the sum of the\n",
    "numbers in that column is even.\n",
    "\n",
    "Alice and Bob win the game if Alice’s numbers give an odd sum, Bob’s give\n",
    "an even sum, and (most important) they’ve each written down the same\n",
    "number in the one square where their row and column intersect."
   ]
  },
  {
   "cell_type": "code",
   "execution_count": 39,
   "id": "05d971c0",
   "metadata": {},
   "outputs": [
    {
     "data": {
      "text/plain": [
       "True"
      ]
     },
     "execution_count": 39,
     "metadata": {},
     "output_type": "execute_result"
    }
   ],
   "source": [
    "def magic_square_game(lst1,lst2):\n",
    "    s1=0\n",
    "    s2=0\n",
    "    res=False\n",
    "    for i in range(len(lst1[1])):\n",
    "        s1+=int(lst1[1][i])\n",
    "        if i==0:\n",
    "            n1_1=lst1[1][i]\n",
    "        if i==1:\n",
    "            n2_1=lst1[1][i]\n",
    "        if i==2:\n",
    "            n3_1=lst1[1][i]\n",
    "    for i in range(len(lst2[1])):\n",
    "        s2+=int(lst2[1][i])\n",
    "        if i==0:\n",
    "            n1_2=lst2[1][i]\n",
    "        if i==1:\n",
    "            n2_2=lst2[1][i]\n",
    "        if i==2:\n",
    "            n3_2=lst2[1][i]\n",
    "    if lst2[0]==1:\n",
    "        if n3_1==n3_2:\n",
    "            res=True\n",
    "    elif lst2[0]==2:\n",
    "        if n2_1==n2_2:\n",
    "            res=True\n",
    "    elif lst2[0]==3:\n",
    "        if n1_1==n1_2:\n",
    "            res=True\n",
    "    else:\n",
    "        res=res and False\n",
    "    if s2%2==0:\n",
    "        res=res and True\n",
    "    else:\n",
    "        res=res and False\n",
    "        \n",
    "        \n",
    "    return res\n",
    "        \n",
    "magic_square_game([2,\"001\"],[1,\"101\"])"
   ]
  },
  {
   "cell_type": "markdown",
   "id": "79515923",
   "metadata": {},
   "source": [
    "5. From point A, an object is moving towards point B at constant velocity va\n",
    "(in km/hr). From point B, another object is moving towards point A at constant\n",
    "velocity vb (in km/hr). Knowing this and the distance between point A and B\n",
    "(in km), write a function that returns how much time passes until both objects\n",
    "meet."
   ]
  },
  {
   "cell_type": "code",
   "execution_count": 19,
   "id": "4dfa2fff",
   "metadata": {},
   "outputs": [
    {
     "data": {
      "text/plain": [
       "'1h 52min 0s'"
      ]
     },
     "execution_count": 19,
     "metadata": {},
     "output_type": "execute_result"
    }
   ],
   "source": [
    "def lets_meet(dist,speed1,speed2):\n",
    "    speed=speed1+speed2\n",
    "    hours = int(dist/speed)\n",
    "    h1=dist/speed\n",
    "    m1 =h1-hours\n",
    "    minutes=int(m1*60)\n",
    "    s1 =m1*60\n",
    "    sec=s1-minutes\n",
    "    seconds=int(sec*60)\n",
    "    res=str(hours)+\"h\"+\" \"+str(minutes)+\"min\"+\" \"+str(seconds)+\"s\"\n",
    "    return res\n",
    "lets_meet(280,70,80)"
   ]
  }
 ],
 "metadata": {
  "celltoolbar": "Raw Cell Format",
  "kernelspec": {
   "display_name": "Python 3",
   "language": "python",
   "name": "python3"
  },
  "language_info": {
   "codemirror_mode": {
    "name": "ipython",
    "version": 3
   },
   "file_extension": ".py",
   "mimetype": "text/x-python",
   "name": "python",
   "nbconvert_exporter": "python",
   "pygments_lexer": "ipython3",
   "version": "3.8.8"
  }
 },
 "nbformat": 4,
 "nbformat_minor": 5
}
