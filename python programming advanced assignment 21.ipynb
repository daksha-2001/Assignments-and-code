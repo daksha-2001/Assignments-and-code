{
 "cells": [
  {
   "cell_type": "markdown",
   "id": "a8682fb6",
   "metadata": {},
   "source": [
    "Given a sentence, return the number of words which have the same first\n",
    "and last letter."
   ]
  },
  {
   "cell_type": "code",
   "execution_count": 48,
   "id": "18164340",
   "metadata": {},
   "outputs": [
    {
     "data": {
      "text/plain": [
       "1"
      ]
     },
     "execution_count": 48,
     "metadata": {},
     "output_type": "execute_result"
    }
   ],
   "source": [
    "def count_same_ends(string):\n",
    "    s=string.lower()\n",
    "    s1=\"\"\n",
    "    c=0\n",
    "    for i in s:\n",
    "        if i==\" \":\n",
    "            s1+=\" \"\n",
    "        elif i.isalpha():\n",
    "            s1+=i     \n",
    "    s=s1.split(\" \")\n",
    "    for i in s:\n",
    "        if len(i)==1:\n",
    "            continue\n",
    "        a=i[0]\n",
    "        b=i[-1]\n",
    "        \n",
    "        if a==b:\n",
    "            c+=1\n",
    "\n",
    "    return c\n",
    "count_same_ends(\"No I am not going\")"
   ]
  },
  {
   "cell_type": "markdown",
   "id": "01cc9f30",
   "metadata": {},
   "source": [
    "The Atbash cipher is an encryption method in which each letter of a word is\n",
    "replaced with its mirror letter in the alphabet: A<=>Z; B<=>Y; C<=>X;\n",
    "etc.\n",
    "Create a function that takes a string and applies the Atbash cipher to it."
   ]
  },
  {
   "cell_type": "code",
   "execution_count": 49,
   "id": "09357599",
   "metadata": {},
   "outputs": [
    {
     "data": {
      "text/plain": [
       "'Xsirhgnzmh rh gsv 25gs lu Wvxvnyvi'"
      ]
     },
     "execution_count": 49,
     "metadata": {},
     "output_type": "execute_result"
    }
   ],
   "source": [
    "def atbash(string):\n",
    "    s=string.lower()\n",
    "    alpha=[\"a\",'b','c','d','e','f','g','h','i','j','k','l','m','n','o','p','q','r','s','t','u','v','w','x','y','z']\n",
    "    rev_alpha=alpha[::-1]\n",
    "    encode=\"\"\n",
    "    c={}\n",
    "    res=\"\"\n",
    "    for i in range(len(alpha)):\n",
    "        c[alpha[i]]=rev_alpha[i]\n",
    "    for i in s:\n",
    "        if i==\" \":\n",
    "            encode+=\" \"\n",
    "        elif i.isalpha():\n",
    "            encode+=c[i]\n",
    "        else:\n",
    "            encode+=i\n",
    "    for i in range(len(string)):\n",
    "        if string[i].isupper():\n",
    "            s=encode[i].upper()\n",
    "            res+=s\n",
    "        else:\n",
    "            res+=encode[i]\n",
    "        \n",
    "        \n",
    "    return res\n",
    "atbash(\"Christmans is the 25th of December\")"
   ]
  },
  {
   "cell_type": "markdown",
   "id": "e506d1d4",
   "metadata": {},
   "source": [
    "Create a class Employee that will take a full name as argument, as well as\n",
    "a set of none, one or more keywords. Each instance should have a name and\n",
    "a lastname attributes plus one more attribute for each of the keywords, if any."
   ]
  },
  {
   "cell_type": "code",
   "execution_count": 50,
   "id": "be4ec557",
   "metadata": {},
   "outputs": [
    {
     "data": {
      "text/plain": [
       "'Italian'"
      ]
     },
     "execution_count": 50,
     "metadata": {},
     "output_type": "execute_result"
    }
   ],
   "source": [
    "class Employee:\n",
    "    def __init__(self,name,**kwargs):\n",
    "        name=name.split(\" \")\n",
    "        self.name=name[0]\n",
    "        self.lastname=name[1]\n",
    "        self.__dict__.update(kwargs)\n",
    "giancarlo = Employee(\"Giancarlo Rossi\", salary=115000, height=182,nationality=\"Italian\")\n",
    "giancarlo.nationality"
   ]
  },
  {
   "cell_type": "markdown",
   "id": "0836505f",
   "metadata": {},
   "source": [
    "Create a function that determines whether each seat can &quot;see&quot; the front-\n",
    "stage. A number can &quot;see&quot; the front-stage if it is strictly greater than the\n",
    "number before it.\n",
    "Everyone can see the front-stage in the example below:\n",
    "    \n",
    "#FRONT STAGE\n",
    "\n",
    "[[1, 2, 3, 2, 1, 1],\n",
    "\n",
    "[2, 4, 4, 3, 2, 2],\n",
    "\n",
    "[5, 5, 5, 5, 4, 4],\n",
    "\n",
    "[6, 6, 7, 6, 5, 5]]\n",
    "\n",
    "#Starting from the left, the 6 >5>2>1, so all numbers can see.\n",
    "6 > 5 > 4 >2 - so all numbers can see, etc.\n",
    "Not everyone can see the front-stage in the example below:\n",
    "    \n",
    "#FRONT STAGE\n",
    "\n",
    "[[1, 2, 3, 2, 1, 1],\n",
    "\n",
    "[2, 4, 4, 3, 2, 2],\n",
    "\n",
    "[5, 5, 5, 10, 4, 4],\n",
    "\n",
    "[6, 6, 7, 6, 5, 5]]\n",
    "\n",
    "#The 10 is directly in front of the 6 and blocking its view.\n",
    "The function should return True if every number can see the front-stage, and\n",
    "False if even a single number cannot."
   ]
  },
  {
   "cell_type": "code",
   "execution_count": 51,
   "id": "7a73de20",
   "metadata": {},
   "outputs": [
    {
     "data": {
      "text/plain": [
       "False"
      ]
     },
     "execution_count": 51,
     "metadata": {},
     "output_type": "execute_result"
    }
   ],
   "source": [
    "def see_stage(lst):\n",
    "    z=[]\n",
    "    z1=[]\n",
    "    b=True\n",
    "    for c in range(len(lst[1])):\n",
    "        for r in range(len(lst)):\n",
    "            z.append(lst[r][c])\n",
    "        \n",
    "        for i in range(len(z)):\n",
    "            if i<len(z)-1:\n",
    "                if z[i]<z[i+1]:\n",
    "                    b=b and True\n",
    "                else:\n",
    "                    b=b and False\n",
    "        z=[]\n",
    "    return b\n",
    "see_stage([\n",
    "[1, 2, 3, 2, 1, 1],\n",
    "[2, 4, 4, 3, 2, 2],\n",
    "[5, 5, 5, 10, 4, 4],\n",
    "[6, 6, 7, 6, 5, 5]\n",
    "])"
   ]
  },
  {
   "cell_type": "markdown",
   "id": "762ceb75",
   "metadata": {},
   "source": [
    "Create a Pizza class with the attributes order_number and ingredients\n",
    "(which is given as a list). Only the ingredients will be given as input.\n",
    "You should also make it so that its possible to choose a ready made pizza\n",
    "flavour rather than typing out the ingredients manually! As well as creating\n",
    "this Pizza class, hard-code the following pizza flavours.\n",
    "\n",
    "Name Ingredients\n",
    "\n",
    "hawaiian ham, pineapple\n",
    "\n",
    "meat_festival beef, meatball, bacon\n",
    "\n",
    "garden_feast spinach, olives, mushroom"
   ]
  },
  {
   "cell_type": "code",
   "execution_count": 52,
   "id": "fed26cda",
   "metadata": {},
   "outputs": [
    {
     "data": {
      "text/plain": [
       "2"
      ]
     },
     "execution_count": 52,
     "metadata": {},
     "output_type": "execute_result"
    }
   ],
   "source": [
    "class Pizza:\n",
    "    orders = 0\n",
    "    def __init__(self, ingredients):\n",
    "        self.ingredients = list(ingredients)\n",
    "        self.order_number = self.get_order_number()\n",
    "\n",
    "    def get_order_number(self):\n",
    "        Pizza.orders += 1\n",
    "        return Pizza.orders\n",
    "    def garden_feast():\n",
    "        return Pizza(['spinach', 'olives', 'mushroom'])\n",
    "\n",
    "    def hawaiian():\n",
    "        return Pizza(['ham', 'pineapple'])\n",
    "\n",
    "    def meat_festival():\n",
    "        return Pizza(['beef', 'meatball', 'bacon'])\n",
    "\n",
    "p1 = Pizza([\"ham\",\"bacon\"])\n",
    "p2 = Pizza.garden_feast()\n",
    "p2.ingredients\n",
    "p2.order_number"
   ]
  }
 ],
 "metadata": {
  "kernelspec": {
   "display_name": "Python 3",
   "language": "python",
   "name": "python3"
  },
  "language_info": {
   "codemirror_mode": {
    "name": "ipython",
    "version": 3
   },
   "file_extension": ".py",
   "mimetype": "text/x-python",
   "name": "python",
   "nbconvert_exporter": "python",
   "pygments_lexer": "ipython3",
   "version": "3.8.8"
  }
 },
 "nbformat": 4,
 "nbformat_minor": 5
}
