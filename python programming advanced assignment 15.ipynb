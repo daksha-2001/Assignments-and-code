{
 "cells": [
  {
   "cell_type": "markdown",
   "metadata": {},
   "source": [
    "1. Write a function that returns True if a given name can generate an array of\n",
    "words."
   ]
  },
  {
   "cell_type": "code",
   "execution_count": 23,
   "metadata": {},
   "outputs": [
    {
     "data": {
      "text/plain": [
       "False"
      ]
     },
     "execution_count": 23,
     "metadata": {},
     "output_type": "execute_result"
    }
   ],
   "source": [
    "def anagram(string,lst):\n",
    "    res=True\n",
    "    c=0\n",
    "    c1=\"\"\n",
    "    space=\" \"\n",
    "    if space in string:\n",
    "        s=string.replace(\" \",\"\").lower()\n",
    "    else:\n",
    "        s=string.lower()\n",
    "    for i in lst:\n",
    "        for j in i: \n",
    "            c1+=j\n",
    "    l1={}\n",
    "    for i in c1:\n",
    "        if i in l1:\n",
    "            l1[i]+=1\n",
    "        else:\n",
    "            l1[i]=1\n",
    "    s12={}\n",
    "    for i in s:\n",
    "        if i in s12:\n",
    "            s12[i]+=1\n",
    "        else:\n",
    "            s12[i]=1\n",
    "    for i in l1:\n",
    "        if i not in s12:\n",
    "            res=False\n",
    "            break\n",
    "            prin(\"not letters\")\n",
    "        elif s12[i]!=l1[i]:\n",
    "            res=False\n",
    "            break\n",
    "        else:\n",
    "            res=True\n",
    "        \n",
    "        \n",
    "    return res\n",
    "anagram(\"Chris Pratt\", [\"chirps\",\"rat\"])\n",
    "#anagram(\"Natalie Portman\", [\"ornamental\", \"pita\"])                "
   ]
  },
  {
   "cell_type": "markdown",
   "metadata": {},
   "source": [
    "2. Given an array of users, each defined by an object with the following\n",
    "properties: name, score, reputation create a function that sorts the array to\n",
    "form the correct leaderboard.\n",
    "The leaderboard takes into consideration the score of each user of course,\n",
    "but an emphasis is put on their reputation in the community, so to get the\n",
    "trueScore, you should add the reputation multiplied by 2 to the score.\n",
    "Once you know the trueScore of each user, sort the array according to it in\n",
    "descending order."
   ]
  },
  {
   "cell_type": "code",
   "execution_count": 21,
   "metadata": {},
   "outputs": [
    {
     "data": {
      "text/plain": [
       "[{'name': 'a', 'score': 100, 'reputation': 40, 'truescore': 180},\n",
       " {'name': 'c', 'score': 115, 'reputation': 30, 'truescore': 175},\n",
       " {'name': 'b', 'score': 90, 'reputation': 20, 'truescore': 130}]"
      ]
     },
     "execution_count": 21,
     "metadata": {},
     "output_type": "execute_result"
    }
   ],
   "source": [
    "def leaderboards(lst):\n",
    "    truescore=0\n",
    "    res=[]\n",
    "    for i in lst:\n",
    "        i[\"truescore\"]=i[\"score\"]+2*i[\"reputation\"]\n",
    "    a=lst[0]\n",
    "    for i in range(len(lst)):\n",
    "        for j in range(i,len(lst)):\n",
    "            if lst[i][\"truescore\"]<lst[j][\"truescore\"]:\n",
    "                temp=lst[i]\n",
    "                lst[i]=lst[j]\n",
    "                lst[j]=temp\n",
    "    return lst\n",
    "    \n",
    "leaderboards([{\"name\":\"a\",\"score\":100,\"reputation\":40},\n",
    "     {\"name\":\"b\",\"score\":90,\"reputation\":20},\n",
    "     {\"name\":\"c\",\"score\":115,\"reputation\":30}\n",
    "    ])"
   ]
  },
  {
   "cell_type": "markdown",
   "metadata": {},
   "source": [
    "3. Create a function that, given a phrase and a number of letters guessed,\n",
    "returns a string with hyphens - for every letter of the phrase not guessed, and\n",
    "each letter guessed in place."
   ]
  },
  {
   "cell_type": "code",
   "execution_count": 111,
   "metadata": {},
   "outputs": [
    {
     "data": {
      "text/plain": [
       "'P----n r----'"
      ]
     },
     "execution_count": 111,
     "metadata": {},
     "output_type": "execute_result"
    }
   ],
   "source": [
    "def hangman(str1,lst):\n",
    "    res=\"\"\n",
    "    for i in str1:\n",
    "        if i.lower() in lst:\n",
    "            res+=i\n",
    "        elif i==\" \":\n",
    "            res+=\" \"\n",
    "        else:\n",
    "            res+=\"-\"\n",
    "    return res\n",
    "hangman(\"Python rules\",[\"a\",\"n\",\"p\",\"r\",\"z\"])\n",
    "    "
   ]
  },
  {
   "cell_type": "markdown",
   "metadata": {},
   "source": [
    "4. The Collatz sequence is as follows:\n",
    "    - Start with some given integer n.\n",
    "    - If it is even, the next number will be n divided by 2.\n",
    "    - If it is odd, multiply it by 3 and add 1 to make the next number.\n",
    "    - The sequence stops when it reaches 1.\n",
    "    \n",
    "According to the Collatz conjecture, it will always reach 1. If that&#39;s true, you\n",
    "can construct a finite sequence following the aforementioned method for any\n",
    "given integer.\n",
    "Write a function that takes in an integer n and returns the highest integer in\n",
    "the corresponding Collatz sequence."
   ]
  },
  {
   "cell_type": "code",
   "execution_count": 20,
   "metadata": {},
   "outputs": [
    {
     "data": {
      "text/plain": [
       "256"
      ]
     },
     "execution_count": 20,
     "metadata": {},
     "output_type": "execute_result"
    }
   ],
   "source": [
    "def max_collatz(num):\n",
    "    res=[]\n",
    "    res.append(num)\n",
    "    while(num>1):\n",
    "        if num%2==0:\n",
    "            num=num/2\n",
    "            res.append(num)\n",
    "            \n",
    "        else:\n",
    "            num=num*3+1\n",
    "            res.append(num)\n",
    "            \n",
    "    temp=res[0]\n",
    "    for i in res:\n",
    "        if i>temp:\n",
    "            temp=i\n",
    "        \n",
    "    return int(temp)\n",
    "max_collatz(85)"
   ]
  },
  {
   "cell_type": "markdown",
   "metadata": {},
   "source": [
    "5. Write a function that sorts a list of integers by their digit length in\n",
    "descending order, then settles ties by sorting numbers with the same digit\n",
    "length in ascending order."
   ]
  },
  {
   "cell_type": "code",
   "execution_count": 19,
   "metadata": {},
   "outputs": [
    {
     "data": {
      "text/plain": [
       "[444, 563, 789, 1, 2, 5, 9]"
      ]
     },
     "execution_count": 19,
     "metadata": {},
     "output_type": "execute_result"
    }
   ],
   "source": [
    "def digit_sort(lst):\n",
    "    lst=sorted(lst,reverse=True) \n",
    "    length=len(str(lst[0]))\n",
    "    res=[]\n",
    "    r1=[]\n",
    "    while(length>0):\n",
    "        for i in lst:\n",
    "            if len(str(i))==length:\n",
    "                res.append(i)\n",
    "        r=sorted(res)\n",
    "        if r not in r1:\n",
    "            r1.append(r)\n",
    "        length=length-1\n",
    "        res=[]\n",
    "    \n",
    "    for i in r1:\n",
    "        for j in i:\n",
    "            res.append(j)\n",
    "    return res\n",
    "digit_sort([1, 5, 9, 2, 789, 563, 444])"
   ]
  }
 ],
 "metadata": {
  "kernelspec": {
   "display_name": "Python 3",
   "language": "python",
   "name": "python3"
  },
  "language_info": {
   "codemirror_mode": {
    "name": "ipython",
    "version": 3
   },
   "file_extension": ".py",
   "mimetype": "text/x-python",
   "name": "python",
   "nbconvert_exporter": "python",
   "pygments_lexer": "ipython3",
   "version": "3.7.6"
  }
 },
 "nbformat": 4,
 "nbformat_minor": 4
}
