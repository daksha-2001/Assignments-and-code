{
 "cells": [
  {
   "cell_type": "markdown",
   "id": "ae3cce4c",
   "metadata": {},
   "source": [
    "1. Write a Python program to print \"Hello Python\"?"
   ]
  },
  {
   "cell_type": "code",
   "execution_count": 11,
   "id": "decf40ff",
   "metadata": {},
   "outputs": [
    {
     "name": "stdout",
     "output_type": "stream",
     "text": [
      "Hello Python\n"
     ]
    }
   ],
   "source": [
    "print(\"Hello Python\")"
   ]
  },
  {
   "cell_type": "markdown",
   "id": "d848ca8f",
   "metadata": {},
   "source": [
    "2. Write a Python program to do arithmetical operations addition and division.?"
   ]
  },
  {
   "cell_type": "code",
   "execution_count": 12,
   "id": "5c62c554",
   "metadata": {},
   "outputs": [
    {
     "name": "stdout",
     "output_type": "stream",
     "text": [
      "addition is: 30\n",
      "division is: 0.5\n"
     ]
    }
   ],
   "source": [
    "def func(a,b):\n",
    "    print(\"addition is:\",a+b)\n",
    "    print(\"division is:\",a/b)\n",
    "func(10,20)"
   ]
  },
  {
   "cell_type": "markdown",
   "id": "596673cf",
   "metadata": {},
   "source": [
    "3. Write a Python program to find the area of a triangle?"
   ]
  },
  {
   "cell_type": "code",
   "execution_count": 13,
   "id": "cbc7c46d",
   "metadata": {},
   "outputs": [
    {
     "name": "stdout",
     "output_type": "stream",
     "text": [
      "Area is: 60\n"
     ]
    }
   ],
   "source": [
    "def func(a,b,c):\n",
    "    print(\"Area is:\",a+b+c)\n",
    "func(10,20,30)"
   ]
  },
  {
   "cell_type": "markdown",
   "id": "1a9f289c",
   "metadata": {},
   "source": [
    "4. Write a Python program to swap two variables?"
   ]
  },
  {
   "cell_type": "code",
   "execution_count": 14,
   "id": "56437b64",
   "metadata": {},
   "outputs": [
    {
     "name": "stdout",
     "output_type": "stream",
     "text": [
      "New values 20 10\n"
     ]
    }
   ],
   "source": [
    "def func(a,b):\n",
    "    temp=a\n",
    "    a=b\n",
    "    b=temp\n",
    "    print(\"New values\",a,b)\n",
    "func(10,20)"
   ]
  },
  {
   "cell_type": "markdown",
   "id": "9c33b9f5",
   "metadata": {},
   "source": [
    "5. Write a Python program to generate a random number?"
   ]
  },
  {
   "cell_type": "code",
   "execution_count": 15,
   "id": "8f2e359d",
   "metadata": {},
   "outputs": [
    {
     "name": "stdout",
     "output_type": "stream",
     "text": [
      "[ 1.50562168 -1.27521259 -0.34556045]\n"
     ]
    }
   ],
   "source": [
    "import numpy as np\n",
    "print(np.random.randn(3))"
   ]
  },
  {
   "cell_type": "code",
   "execution_count": null,
   "id": "0729d9f4",
   "metadata": {},
   "outputs": [],
   "source": []
  }
 ],
 "metadata": {
  "kernelspec": {
   "display_name": "Python 3",
   "language": "python",
   "name": "python3"
  },
  "language_info": {
   "codemirror_mode": {
    "name": "ipython",
    "version": 3
   },
   "file_extension": ".py",
   "mimetype": "text/x-python",
   "name": "python",
   "nbconvert_exporter": "python",
   "pygments_lexer": "ipython3",
   "version": "3.8.8"
  }
 },
 "nbformat": 4,
 "nbformat_minor": 5
}
