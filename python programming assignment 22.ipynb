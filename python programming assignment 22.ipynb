{
 "cells": [
  {
   "cell_type": "markdown",
   "id": "5bdf64be",
   "metadata": {},
   "source": [
    "Question1\n",
    "\n",
    "Create a function that takes three parameters where:\n",
    "\n",
    " x is the start of the range (inclusive).\n",
    "\n",
    " y is the end of the range (inclusive).\n",
    "\n",
    " n is the divisor to be checked against.\n",
    "\n",
    "Return an ordered list with numbers in the range that are divisible by the third parameter n.\n",
    "Return an empty list if there are no numbers that are divisible by n."
   ]
  },
  {
   "cell_type": "code",
   "execution_count": 12,
   "id": "674727b1",
   "metadata": {},
   "outputs": [
    {
     "data": {
      "text/plain": [
       "[]"
      ]
     },
     "execution_count": 12,
     "metadata": {},
     "output_type": "execute_result"
    }
   ],
   "source": [
    "def list_operation(n1,n2,n3):\n",
    "    res=[]\n",
    "    for i in range(n1,n2+1):\n",
    "        if i%n3==0:\n",
    "            res.append(i)\n",
    "    return res\n",
    "list_operation(15,20,7)\n",
    "    "
   ]
  },
  {
   "cell_type": "markdown",
   "id": "66198b03",
   "metadata": {},
   "source": [
    "Question2\n",
    "\n",
    "Create a function that takes in two lists and returns True if the second list follows the first list\n",
    "by one element, and False otherwise. In other words, determine if the second list is the first\n",
    "list shifted to the right by 1."
   ]
  },
  {
   "cell_type": "code",
   "execution_count": 21,
   "id": "d1d80d6e",
   "metadata": {},
   "outputs": [
    {
     "data": {
      "text/plain": [
       "False"
      ]
     },
     "execution_count": 21,
     "metadata": {},
     "output_type": "execute_result"
    }
   ],
   "source": [
    "def simon_says(lst1,lst2):\n",
    "    d={}\n",
    "    b=True\n",
    "    count=0\n",
    "    for i in lst2:\n",
    "        d[i]=0\n",
    "    for i in lst2:\n",
    "        if i in lst1:\n",
    "            count+=1\n",
    "            d[i]+=1\n",
    "        else:\n",
    "            d[i]=1\n",
    "    for i in d:\n",
    "        if d[i]>1:\n",
    "            b=b and False\n",
    "        else:\n",
    "            b=b and True\n",
    "    if count==len(lst1)-1:\n",
    "        b=b and True\n",
    "    else:\n",
    "        b=b and False\n",
    "    \n",
    "    return b\n",
    "simon_says([1, 2, 3, 4, 5], [5, 5, 1, 2, 3])\n",
    "        "
   ]
  },
  {
   "cell_type": "markdown",
   "id": "8d6d4a6b",
   "metadata": {},
   "source": [
    "Question3\n",
    "\n",
    "A group of friends have decided to start a secret society. The name will be the first letter of\n",
    "each of their names, sorted in alphabetical order.\n",
    "Create a function that takes in a list of names and returns the name of the secret society."
   ]
  },
  {
   "cell_type": "code",
   "execution_count": 25,
   "id": "efb8d39c",
   "metadata": {},
   "outputs": [
    {
     "data": {
      "text/plain": [
       "'AMS'"
      ]
     },
     "execution_count": 25,
     "metadata": {},
     "output_type": "execute_result"
    }
   ],
   "source": [
    "def society_name(lst):\n",
    "    res=\"\"\n",
    "    for i in lst:\n",
    "        res+=i[0]\n",
    "    r=sorted(res)\n",
    "    res=\"\"\n",
    "    for i in r:\n",
    "        res+=i\n",
    "        \n",
    "    return res\n",
    "society_name([\"Adam\",'Scot',\"Mach\"])"
   ]
  },
  {
   "cell_type": "markdown",
   "id": "670a393b",
   "metadata": {},
   "source": [
    "Question4\n",
    "\n",
    "An isogram is a word that has no duplicate letters. Create a function that takes a string and\n",
    "returns either True or False depending on whether or not it&#39;s an &quot;isogram&quot;."
   ]
  },
  {
   "cell_type": "code",
   "execution_count": 28,
   "id": "f4788a27",
   "metadata": {},
   "outputs": [
    {
     "data": {
      "text/plain": [
       "False"
      ]
     },
     "execution_count": 28,
     "metadata": {},
     "output_type": "execute_result"
    }
   ],
   "source": [
    "def is_isogram(string):\n",
    "    string=string.lower()\n",
    "    res=\"\"\n",
    "    for i in string:\n",
    "        if i not in res:\n",
    "            res+=i\n",
    "    if res==string:\n",
    "        return True\n",
    "    else:\n",
    "        return False\n",
    "is_isogram(\"Consecutive\")"
   ]
  },
  {
   "cell_type": "markdown",
   "id": "1afc9e9c",
   "metadata": {},
   "source": [
    "Question5\n",
    "\n",
    "Create a function that takes a string and returns True or False, depending on whether the\n",
    "characters are in order or not."
   ]
  },
  {
   "cell_type": "code",
   "execution_count": 37,
   "id": "fd24fc8b",
   "metadata": {},
   "outputs": [
    {
     "data": {
      "text/plain": [
       "False"
      ]
     },
     "execution_count": 37,
     "metadata": {},
     "output_type": "execute_result"
    }
   ],
   "source": [
    "def is_in_order(string):\n",
    "    r=sorted(string)\n",
    "    res=\"\"\n",
    "    for i in r:\n",
    "        res+=i\n",
    "    if string==res:\n",
    "        return True\n",
    "    else:\n",
    "        return False\n",
    "is_in_order(\"edabit\")"
   ]
  },
  {
   "cell_type": "code",
   "execution_count": null,
   "id": "e492ceae",
   "metadata": {},
   "outputs": [],
   "source": []
  }
 ],
 "metadata": {
  "kernelspec": {
   "display_name": "Python 3",
   "language": "python",
   "name": "python3"
  },
  "language_info": {
   "codemirror_mode": {
    "name": "ipython",
    "version": 3
   },
   "file_extension": ".py",
   "mimetype": "text/x-python",
   "name": "python",
   "nbconvert_exporter": "python",
   "pygments_lexer": "ipython3",
   "version": "3.8.8"
  }
 },
 "nbformat": 4,
 "nbformat_minor": 5
}
