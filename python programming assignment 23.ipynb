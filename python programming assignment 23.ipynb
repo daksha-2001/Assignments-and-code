{
 "cells": [
  {
   "cell_type": "markdown",
   "id": "1fa72ac6",
   "metadata": {},
   "source": [
    "Question 1\n",
    "\n",
    "Create a function that takes a number as an argument and returns True or False depending\n",
    "on whether the number is symmetrical or not. A number is symmetrical when it is the same as\n",
    "its reverse."
   ]
  },
  {
   "cell_type": "code",
   "execution_count": 4,
   "id": "dde03805",
   "metadata": {},
   "outputs": [
    {
     "data": {
      "text/plain": [
       "False"
      ]
     },
     "execution_count": 4,
     "metadata": {},
     "output_type": "execute_result"
    }
   ],
   "source": [
    "def is_symmetrical(num):\n",
    "    n=str(num)\n",
    "    res=n[::-1]\n",
    "    if n==res:\n",
    "        return True\n",
    "    else:\n",
    "        return False\n",
    "    \n",
    "is_symmetrical(7224)"
   ]
  },
  {
   "cell_type": "markdown",
   "id": "d41fa795",
   "metadata": {},
   "source": [
    "Question 2\n",
    "\n",
    "Given a string of numbers separated by a comma and space, return the product of the\n",
    "numbers."
   ]
  },
  {
   "cell_type": "code",
   "execution_count": 14,
   "id": "50807102",
   "metadata": {},
   "outputs": [
    {
     "data": {
      "text/plain": [
       "-20"
      ]
     },
     "execution_count": 14,
     "metadata": {},
     "output_type": "execute_result"
    }
   ],
   "source": [
    "def multiply_nums(*args):\n",
    "    res=[]\n",
    "    for i in args:\n",
    "        res.append(int(i))\n",
    "    a=res[0]\n",
    "    p=1\n",
    "    for i in range(len(res)):\n",
    "        p=p*res[i]\n",
    "    return p\n",
    "multiply_nums(\"10\",\"-2\")\n",
    "        "
   ]
  },
  {
   "cell_type": "markdown",
   "id": "a4a86aff",
   "metadata": {},
   "source": [
    "Question 3\n",
    "\n",
    "Create a function that squares every digit of a number."
   ]
  },
  {
   "cell_type": "code",
   "execution_count": 19,
   "id": "d3b01757",
   "metadata": {},
   "outputs": [
    {
     "data": {
      "text/plain": [
       "811181"
      ]
     },
     "execution_count": 19,
     "metadata": {},
     "output_type": "execute_result"
    }
   ],
   "source": [
    "def square_digits(num1):\n",
    "    n=str(num1)\n",
    "    s1=[]\n",
    "    square=\"\"\n",
    "    for i in n:\n",
    "        s1.append(int(i))\n",
    "    s2=[i*i for i in s1]\n",
    "    for i in s2:\n",
    "        square+=str(i)\n",
    "    square=int(square)\n",
    "    return square\n",
    "square_digits(9119)\n",
    "        "
   ]
  },
  {
   "cell_type": "markdown",
   "id": "a38fa042",
   "metadata": {},
   "source": [
    "Question 4\n",
    "\n",
    "Create a function that sorts a list and removes all duplicate items from it."
   ]
  },
  {
   "cell_type": "code",
   "execution_count": 22,
   "id": "1c9d3e69",
   "metadata": {},
   "outputs": [
    {
     "data": {
      "text/plain": [
       "[1, 2, 3]"
      ]
     },
     "execution_count": 22,
     "metadata": {},
     "output_type": "execute_result"
    }
   ],
   "source": [
    "def setify(lst):\n",
    "    l=set(lst)\n",
    "    l=list(l)\n",
    "    l=sorted(l)\n",
    "    return l\n",
    "setify([3, 3, 3, 2, 1])"
   ]
  },
  {
   "cell_type": "markdown",
   "id": "935c31cc",
   "metadata": {},
   "source": [
    "Question 5\n",
    "\n",
    "Create a function that returns the mean of all digits."
   ]
  },
  {
   "cell_type": "code",
   "execution_count": 27,
   "id": "e1409d2e",
   "metadata": {},
   "outputs": [
    {
     "data": {
      "text/plain": [
       "2"
      ]
     },
     "execution_count": 27,
     "metadata": {},
     "output_type": "execute_result"
    }
   ],
   "source": [
    "def mean(num1):\n",
    "    n=str(num1)\n",
    "    s=0\n",
    "    l=[int(i) for i in n]\n",
    "    for i in l:\n",
    "        s+=i\n",
    "    s=int(s/len(l))\n",
    "    return s\n",
    "mean(512)"
   ]
  },
  {
   "cell_type": "code",
   "execution_count": null,
   "id": "bca2d7a9",
   "metadata": {},
   "outputs": [],
   "source": []
  }
 ],
 "metadata": {
  "kernelspec": {
   "display_name": "Python 3",
   "language": "python",
   "name": "python3"
  },
  "language_info": {
   "codemirror_mode": {
    "name": "ipython",
    "version": 3
   },
   "file_extension": ".py",
   "mimetype": "text/x-python",
   "name": "python",
   "nbconvert_exporter": "python",
   "pygments_lexer": "ipython3",
   "version": "3.8.8"
  }
 },
 "nbformat": 4,
 "nbformat_minor": 5
}
