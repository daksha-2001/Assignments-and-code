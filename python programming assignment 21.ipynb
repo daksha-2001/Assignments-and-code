{
 "cells": [
  {
   "cell_type": "markdown",
   "id": "40e58be1",
   "metadata": {},
   "source": [
    "Question1\n",
    "\n",
    "Write a function that takes a list and a number as arguments. Add the number to the end of\n",
    "the list, then remove the first element of the list. The function should then return the updated\n",
    "list."
   ]
  },
  {
   "cell_type": "code",
   "execution_count": 7,
   "id": "e4f0d962",
   "metadata": {},
   "outputs": [
    {
     "name": "stdout",
     "output_type": "stream",
     "text": [
      "No list has been selected\n"
     ]
    }
   ],
   "source": [
    "def next_in_line(lst,num):\n",
    "    if not lst:\n",
    "        print(\"No list has been selected\")\n",
    "    else:\n",
    "        res=lst[1:]\n",
    "        res.append(num)\n",
    "        return res\n",
    "next_in_line([], 6)\n",
    "\n"
   ]
  },
  {
   "cell_type": "markdown",
   "id": "3aa5a9d2",
   "metadata": {},
   "source": [
    "Question2\n",
    "\n",
    "Create the function that takes a list of dictionaries and returns the sum of people&#39;s budgets."
   ]
  },
  {
   "cell_type": "code",
   "execution_count": 9,
   "id": "1edceb1b",
   "metadata": {},
   "outputs": [
    {
     "data": {
      "text/plain": [
       "62600"
      ]
     },
     "execution_count": 9,
     "metadata": {},
     "output_type": "execute_result"
    }
   ],
   "source": [
    "def get_budgets(lst):\n",
    "    sum=0\n",
    "    for i in lst:\n",
    "        sum+=i['budget']\n",
    "    return sum\n",
    "        \n",
    "get_budgets([\n",
    "{\"name\":\"John\",\"age\": 21,\"budget\": 29000 },\n",
    "{ \"name\":\"Steve\",\"age\": 32,\"budget\": 32000 },\n",
    "{ \"name\":\"Martin\",\"age\": 16,\"budget\": 1600 }\n",
    "])"
   ]
  },
  {
   "cell_type": "markdown",
   "id": "e928058b",
   "metadata": {},
   "source": [
    "Question3\n",
    "\n",
    "Create a function that takes a string and returns a string with its letters in alphabetical order."
   ]
  },
  {
   "cell_type": "code",
   "execution_count": 13,
   "id": "6c91a66c",
   "metadata": {},
   "outputs": [
    {
     "data": {
      "text/plain": [
       "'ehllo'"
      ]
     },
     "execution_count": 13,
     "metadata": {},
     "output_type": "execute_result"
    }
   ],
   "source": [
    "def alphabetical_soup(string):\n",
    "    string=sorted(string)\n",
    "    res=\"\"\n",
    "    for i in string:\n",
    "        res+=i\n",
    "    return res\n",
    "alphabetical_soup(\"hello\")"
   ]
  },
  {
   "cell_type": "markdown",
   "id": "e05f17a4",
   "metadata": {},
   "source": [
    "Question4\n",
    "\n",
    "Suppose that you invest $10,000 for 10 years at an interest rate of 6% compounded monthly.\n",
    "What will be the value of your investment at the end of the 10 year period?\n",
    "Create a function that accepts the principal p, the term in years t, the interest rate r, and the\n",
    "number of compounding periods per year n. The function returns the value at the end of term\n",
    "rounded to the nearest cent.\n",
    "For the example above:\n",
    "    \n",
    "compound_interest(10000, 10, 0.06, 12) ➞ 18193.97\n",
    "\n",
    "Note that the interest rate is given as a decimal and n=12 because with monthly compounding\n",
    "there are 12 periods per year. Compounding can also be done annually, quarterly, weekly, or\n",
    "daily."
   ]
  },
  {
   "cell_type": "code",
   "execution_count": 27,
   "id": "a4ddbcbc",
   "metadata": {},
   "outputs": [
    {
     "data": {
      "text/plain": [
       "2007316.26"
      ]
     },
     "execution_count": 27,
     "metadata": {},
     "output_type": "execute_result"
    }
   ],
   "source": [
    "def compound_interest(amt,t,r,n):\n",
    "    p=n*t\n",
    "    s=(1+(r/n))**p\n",
    "    A=amt*s\n",
    "    A=round(A,2)\n",
    "    return A\n",
    "compound_interest(100000, 20, 0.15, 365)"
   ]
  },
  {
   "cell_type": "code",
   "execution_count": null,
   "id": "08e296f9",
   "metadata": {},
   "outputs": [],
   "source": [
    "Question5\n",
    "\n",
    "Write a function that takes a list of elements and returns only the integers."
   ]
  },
  {
   "cell_type": "code",
   "execution_count": 32,
   "id": "4b586990",
   "metadata": {},
   "outputs": [
    {
     "data": {
      "text/plain": [
       "[123]"
      ]
     },
     "execution_count": 32,
     "metadata": {},
     "output_type": "execute_result"
    }
   ],
   "source": [
    "def return_only_integer(lst):\n",
    "    res=[i for i in lst if type(i)==int]\n",
    "    return res\n",
    "return_only_integer([\"hello\",81.1,\"basketball\",123,\"fox\",\"lion\"])      \n"
   ]
  },
  {
   "cell_type": "code",
   "execution_count": null,
   "id": "e2eadf39",
   "metadata": {},
   "outputs": [],
   "source": []
  }
 ],
 "metadata": {
  "kernelspec": {
   "display_name": "Python 3",
   "language": "python",
   "name": "python3"
  },
  "language_info": {
   "codemirror_mode": {
    "name": "ipython",
    "version": 3
   },
   "file_extension": ".py",
   "mimetype": "text/x-python",
   "name": "python",
   "nbconvert_exporter": "python",
   "pygments_lexer": "ipython3",
   "version": "3.8.8"
  }
 },
 "nbformat": 4,
 "nbformat_minor": 5
}
