{
 "cells": [
  {
   "cell_type": "markdown",
   "metadata": {},
   "source": [
    "Question 1"
   ]
  },
  {
   "cell_type": "code",
   "execution_count": 21,
   "metadata": {},
   "outputs": [
    {
     "data": {
      "text/plain": [
       "'a'"
      ]
     },
     "execution_count": 21,
     "metadata": {},
     "output_type": "execute_result"
    }
   ],
   "source": [
    "def difference(s,t):\n",
    "    new=\"\"\n",
    "    n_s=\"\"\n",
    "    n_t=\"\"\n",
    "    count_s={}\n",
    "    count_t={}\n",
    "    for i in t:\n",
    "        if i not in n_t:\n",
    "            count_t[i]=1\n",
    "            n_t+=i\n",
    "        else:\n",
    "            count_t[i]+=1\n",
    "        if i not in s:\n",
    "            new+=i\n",
    "    \n",
    "    for i in s:\n",
    "        if i not in n_s:\n",
    "            count_s[i]=1\n",
    "            n_s+=i\n",
    "        else:\n",
    "            count_s[i]+=1\n",
    "    \n",
    "    for i in count_t.keys():\n",
    "        for j in count_s.keys():\n",
    "            if i==j and count_t[i]!=count_s[j]:\n",
    "                    new+=j   \n",
    "    return new\n",
    "difference(\"ae\",\"aea\")"
   ]
  },
  {
   "cell_type": "code",
   "execution_count": 25,
   "metadata": {},
   "outputs": [
    {
     "data": {
      "text/plain": [
       "[3, 0, 0, 1, 1, 0]"
      ]
     },
     "execution_count": 25,
     "metadata": {},
     "output_type": "execute_result"
    }
   ],
   "source": [
    "def func(*args):\n",
    "    c_int=0\n",
    "    c_str=0\n",
    "    c_bool=0\n",
    "    c_list=0\n",
    "    c_tuple=0\n",
    "    c_dict=0\n",
    "    for i in args:\n",
    "        if type(i)==int:\n",
    "            c_int+=1\n",
    "        if type(i)==str:\n",
    "            c_str+=1\n",
    "        if type(i)==bool:\n",
    "            c_bool+=1\n",
    "        if type(i)==list:\n",
    "            c_list+=1\n",
    "        if type(i)==tuple:\n",
    "            c_tuple+=1\n",
    "        if type(i)==dict:\n",
    "            c_dict+=1\n",
    "    return [c_int,c_str,c_bool,c_list,c_tuple,c_dict]\n",
    "\n",
    "func([10,20],(\"hii\",\"ok\"),2,3,1)     "
   ]
  },
  {
   "cell_type": "markdown",
   "metadata": {},
   "source": [
    "Question 3"
   ]
  },
  {
   "cell_type": "code",
   "execution_count": 42,
   "metadata": {},
   "outputs": [
    {
     "data": {
      "text/plain": [
       "'n,k,kn,knk,knkkn,knkknknk'"
      ]
     },
     "execution_count": 42,
     "metadata": {},
     "output_type": "execute_result"
    }
   ],
   "source": [
    "def fib(n,list1):\n",
    "    a1=list1[0]\n",
    "    a2=list1[1]\n",
    "    res=\"\"\n",
    "    res+=a1+\",\"\n",
    "    res+=a2+\",\"\n",
    "    for i in range(2,n):\n",
    "        a3=a2+a1\n",
    "        res+=a3+\",\"\n",
    "        a1=a2\n",
    "        a2=a3\n",
    "        \n",
    "        \n",
    "    return res[:-1]\n",
    "        \n",
    "       \n",
    "fib(6,[\"n\",\"k\"])      "
   ]
  },
  {
   "cell_type": "markdown",
   "metadata": {},
   "source": [
    "Question 4"
   ]
  },
  {
   "cell_type": "code",
   "execution_count": 17,
   "metadata": {},
   "outputs": [
    {
     "data": {
      "text/plain": [
       "'nines:2,threes:1,ones:1'"
      ]
     },
     "execution_count": 17,
     "metadata": {},
     "output_type": "execute_result"
    }
   ],
   "source": [
    "def numbers(num):\n",
    "    nines=0\n",
    "    threes=0\n",
    "    ones=0\n",
    "    \n",
    "    while(num!=0):\n",
    "        if num>=1 and num<3:\n",
    "            ones+=1\n",
    "            num=num-1\n",
    "        if num>=3 and num<=9:\n",
    "            threes+=1\n",
    "            num=num-3\n",
    "\n",
    "        if num>=9:\n",
    "            nines+=1\n",
    "            num=num-9\n",
    "    return \"nines:{},threes:{},ones:{}\".format(nines,threes,ones)\n",
    "    \n",
    "numbers(22)  \n"
   ]
  },
  {
   "cell_type": "markdown",
   "metadata": {},
   "source": [
    "Question 5"
   ]
  },
  {
   "cell_type": "code",
   "execution_count": 7,
   "metadata": {},
   "outputs": [
    {
     "data": {
      "text/plain": [
       "1"
      ]
     },
     "execution_count": 7,
     "metadata": {},
     "output_type": "execute_result"
    }
   ],
   "source": [
    "def fib(num):\n",
    "    res=[]\n",
    "    a1=0\n",
    "    res.append(a1)\n",
    "    a2=1\n",
    "    res.append(a2)\n",
    "    for i in range(2,num+1):\n",
    "        a3=a1+a2\n",
    "        res.append(a3)\n",
    "        a1=a2\n",
    "        a2=a3\n",
    "    return res[-1]\n",
    "fib(1)"
   ]
  },
  {
   "cell_type": "code",
   "execution_count": null,
   "metadata": {},
   "outputs": [],
   "source": []
  }
 ],
 "metadata": {
  "kernelspec": {
   "display_name": "Python 3",
   "language": "python",
   "name": "python3"
  },
  "language_info": {
   "codemirror_mode": {
    "name": "ipython",
    "version": 3
   },
   "file_extension": ".py",
   "mimetype": "text/x-python",
   "name": "python",
   "nbconvert_exporter": "python",
   "pygments_lexer": "ipython3",
   "version": "3.7.6"
  }
 },
 "nbformat": 4,
 "nbformat_minor": 4
}
