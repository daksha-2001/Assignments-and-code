{
 "cells": [
  {
   "cell_type": "markdown",
   "id": "6c912475",
   "metadata": {},
   "source": [
    "Question 1:\n",
    "    \n",
    "Define a class with a generator which can iterate the numbers, which are divisible by\n",
    "7, between a given range 0 and n."
   ]
  },
  {
   "cell_type": "code",
   "execution_count": 12,
   "id": "89ac13cb",
   "metadata": {},
   "outputs": [
    {
     "name": "stdout",
     "output_type": "stream",
     "text": [
      "0,7\n"
     ]
    }
   ],
   "source": [
    "class generator:\n",
    "    def __init__(self,n):\n",
    "        self.n=n\n",
    "\n",
    "    def gen(self):\n",
    "        for i in range(self.n+1):\n",
    "            if i%7==0:\n",
    "                yield i\n",
    "g=generator(7)\n",
    "value=[]\n",
    "for i in g.gen():\n",
    "    value.append(str(i))\n",
    "print(\",\".join(value))   "
   ]
  },
  {
   "cell_type": "markdown",
   "id": "816d77a7",
   "metadata": {},
   "source": [
    "Question 2:\n",
    "    \n",
    "Write a program to compute the frequency of the words from the input. The output\n",
    "should output after sorting the key alphanumerically."
   ]
  },
  {
   "cell_type": "code",
   "execution_count": 19,
   "id": "458e05a8",
   "metadata": {},
   "outputs": [
    {
     "name": "stdout",
     "output_type": "stream",
     "text": [
      "2: 2\n",
      "3.: 1\n",
      "3?: 1\n",
      "New: 1\n",
      "Python: 5\n",
      "Read: 1\n",
      "and: 1\n",
      "between: 1\n",
      "choosing: 1\n",
      "or: 2\n",
      "to: 1\n"
     ]
    }
   ],
   "source": [
    "def func(string):\n",
    "    d={}\n",
    "    st=string.split(\" \")\n",
    "    st=sorted(st)\n",
    "    for i in st:\n",
    "        i=i+\":\"\n",
    "        if i in d:\n",
    "            d[i]=d[i]+1\n",
    "        else:\n",
    "            d[i]=1\n",
    "    for i in d:\n",
    "        print(i,d[i],end=\"\\n\")\n",
    "    \n",
    "func(\"New to Python or choosing between Python 2 and Python 3? Read Python 2 or Python 3.\")\n",
    "        \n",
    "        "
   ]
  },
  {
   "cell_type": "markdown",
   "id": "72f45e04",
   "metadata": {},
   "source": [
    "Question 3:\n",
    "\n",
    "Define a class Person and its two child classes: Male and Female. All classes have a\n",
    "method getGender which can print Male for Male class and Female for Female\n",
    "class."
   ]
  },
  {
   "cell_type": "code",
   "execution_count": 23,
   "id": "bec44a89",
   "metadata": {},
   "outputs": [
    {
     "name": "stdout",
     "output_type": "stream",
     "text": [
      "Female\n",
      "Male\n"
     ]
    }
   ],
   "source": [
    "class Person:\n",
    "    def __init__(self):\n",
    "        pass\n",
    "    def getGender(self):\n",
    "        pass\n",
    "class Male(Person):\n",
    "    def __init__(self):\n",
    "        Person.__init__(self)\n",
    "        pass\n",
    "    def getGender(self):\n",
    "        print(\"Male\")\n",
    "class Female(Person):\n",
    "    def __init__(self):\n",
    "        Person.__init__(self)\n",
    "        pass\n",
    "    def getGender(self):\n",
    "        print(\"Female\")\n",
    "f=Female()\n",
    "f.getGender()\n",
    "m=Male()\n",
    "m.getGender()"
   ]
  },
  {
   "cell_type": "markdown",
   "id": "418e5554",
   "metadata": {},
   "source": [
    "Question 4:\n",
    "    \n",
    "Please write a program to generate all sentences where subject is in [\"I\",\"You\"] and\n",
    "verb is in [\"play\",\"love\"] and the object is in [\"Hockey\",\"Football\"]."
   ]
  },
  {
   "cell_type": "code",
   "execution_count": 29,
   "id": "1e530dec",
   "metadata": {},
   "outputs": [
    {
     "name": "stdout",
     "output_type": "stream",
     "text": [
      "I play Hockey\n",
      "You play Hockey\n",
      "I love Hockey\n",
      "You love Hockey\n",
      "I play Football\n",
      "You play Football\n",
      "I love Football\n",
      "You love Football\n"
     ]
    }
   ],
   "source": [
    "def sentences(sub,verb,obj):\n",
    "    for i in obj:\n",
    "        for j in verb:\n",
    "            for k in sub:\n",
    "                sent=k+\" \"+j+\" \"+i\n",
    "                print(sent)\n",
    "sentences([\"I\",\"You\"],[\"play\",\"love\"],[\"Hockey\",\"Football\"])       "
   ]
  },
  {
   "cell_type": "markdown",
   "id": "41129b9d",
   "metadata": {},
   "source": [
    "Question 5:\n",
    "    \n",
    "Please write a program to compress and decompress the string &quot;hello world!hello\n",
    "world!hello world!hello world!&quot;."
   ]
  },
  {
   "cell_type": "code",
   "execution_count": 35,
   "id": "90622e82",
   "metadata": {},
   "outputs": [
    {
     "name": "stdout",
     "output_type": "stream",
     "text": [
      "Compressed:  b'x\\x9c\\xf3H\\xcd\\xc9\\xc9W(\\xcf/\\xcaI\\x01\\x00\\x18\\xab\\x04='\n",
      "Decompressed:  b'Hello world' <class 'bytes'>\n"
     ]
    }
   ],
   "source": [
    "import zlib\n",
    "text=\"Hello world\"\n",
    "comp=zlib.compress(text.encode())\n",
    "print(\"Compressed: \", comp)\n",
    "decomp=zlib.decompress(comp)\n",
    "print(\"Decompressed: \", decomp)\n"
   ]
  },
  {
   "cell_type": "markdown",
   "id": "1ff50bf1",
   "metadata": {},
   "source": [
    "Question 6:\n",
    "    \n",
    "Please write a binary search function which searches an item in a sorted list. The\n",
    "function should return the index of element to be searched in the list."
   ]
  },
  {
   "cell_type": "code",
   "execution_count": 38,
   "id": "9ecf6e87",
   "metadata": {},
   "outputs": [
    {
     "name": "stdout",
     "output_type": "stream",
     "text": [
      "Element is present at index 3\n"
     ]
    }
   ],
   "source": [
    "def binary_search(arr, low, high, x):\n",
    "    if high >= low:\n",
    " \n",
    "        mid = (high + low) // 2\n",
    "        if arr[mid] == x:\n",
    "            return mid\n",
    "        elif arr[mid] > x:\n",
    "            return binary_search(arr, low, mid - 1, x)\n",
    "        else:\n",
    "            return binary_search(arr, mid + 1, high, x)\n",
    " \n",
    "    else:\n",
    "        return -1\n",
    "\n",
    "arr = [ 2, 3, 4, 10, 40 ]\n",
    "x = 10\n",
    "result = binary_search(arr, 0, len(arr)-1, x)\n",
    " \n",
    "if result != -1:\n",
    "    print(\"Element is present at index\", str(result))\n",
    "else:\n",
    "    print(\"Element is not present in array\")"
   ]
  },
  {
   "cell_type": "code",
   "execution_count": null,
   "id": "b1ba3146",
   "metadata": {},
   "outputs": [],
   "source": []
  }
 ],
 "metadata": {
  "kernelspec": {
   "display_name": "Python 3",
   "language": "python",
   "name": "python3"
  },
  "language_info": {
   "codemirror_mode": {
    "name": "ipython",
    "version": 3
   },
   "file_extension": ".py",
   "mimetype": "text/x-python",
   "name": "python",
   "nbconvert_exporter": "python",
   "pygments_lexer": "ipython3",
   "version": "3.8.8"
  }
 },
 "nbformat": 4,
 "nbformat_minor": 5
}
