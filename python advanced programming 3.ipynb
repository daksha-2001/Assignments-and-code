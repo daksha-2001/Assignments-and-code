{
 "cells": [
  {
   "cell_type": "markdown",
   "metadata": {},
   "source": [
    "Question 1"
   ]
  },
  {
   "cell_type": "code",
   "execution_count": 26,
   "metadata": {},
   "outputs": [
    {
     "data": {
      "text/plain": [
       "-1"
      ]
     },
     "execution_count": 26,
     "metadata": {},
     "output_type": "execute_result"
    }
   ],
   "source": [
    "def arithmatic_operation(string):\n",
    "    \n",
    "    if \"+\" in string:\n",
    "        opr=string.find(\"+\")\n",
    "        a=string[:opr]\n",
    "        a=int(a)\n",
    "        b=string[opr+2:]\n",
    "        b=int(b)\n",
    "        return a+b\n",
    "    if \"-\" in string:\n",
    "        opr=string.find(\"-\")\n",
    "        a=string[:opr]\n",
    "        a=int(a)\n",
    "        b=string[opr+2:]\n",
    "        b=int(b)\n",
    "        return a-b\n",
    "    if \"*\" in string:\n",
    "        opr=string.find(\"*\") \n",
    "        a=string[:opr]\n",
    "        a=int(a)\n",
    "        b=string[opr+2:]\n",
    "        b=int(b)\n",
    "        return a*b\n",
    "    if \"/\" in string:\n",
    "        opr=string.find(\"/\") \n",
    "        a=string[:opr]\n",
    "        a=int(a)\n",
    "        b=string[opr+2:]\n",
    "        b=int(b)\n",
    "        if b==0:\n",
    "            return -1\n",
    "        else:\n",
    "            return a/b\n",
    "    \n",
    "        \n",
    "arithmatic_operation(\"1243 / 0\")"
   ]
  },
  {
   "cell_type": "markdown",
   "metadata": {},
   "source": [
    "Question 2"
   ]
  },
  {
   "cell_type": "code",
   "execution_count": 19,
   "metadata": {},
   "outputs": [
    {
     "name": "stdout",
     "output_type": "stream",
     "text": [
      "a= 20.0\n",
      "b= 20.0\n",
      "c= 28.284271247461902\n"
     ]
    },
    {
     "data": {
      "text/plain": [
       "68.28"
      ]
     },
     "execution_count": 19,
     "metadata": {},
     "output_type": "execute_result"
    }
   ],
   "source": [
    "import numpy as np\n",
    "def perimeter(list1):\n",
    "    a=np.sqrt(np.square(list1[1][0]-list1[2][0])+np.square(list1[1][1]-list1[2][1]))\n",
    "    print(\"a=\",a)\n",
    "    b=np.sqrt(np.square(list1[0][0]-list1[2][0])+np.square(list1[0][1]-list1[2][1]))\n",
    "    print(\"b=\",b)\n",
    "    c=np.sqrt(np.square(list1[0][0]-list1[1][0])+np.square(list1[0][1]-list1[1][1]))\n",
    "    print(\"c=\",c)\n",
    "    perimeter_t=a+b+c\n",
    "    return round(perimeter_t,2)\n",
    "perimeter([[-10,-10],[10,10],[-10,10]])"
   ]
  },
  {
   "cell_type": "markdown",
   "metadata": {},
   "source": [
    "Question 3"
   ]
  },
  {
   "cell_type": "code",
   "execution_count": 28,
   "metadata": {},
   "outputs": [
    {
     "name": "stdout",
     "output_type": "stream",
     "text": [
      "Tallest Skyscraper is: 4\n"
     ]
    }
   ],
   "source": [
    "def tallest_skyscraper(list1):\n",
    "    a=list1[0][0]+list1[1][0]+list1[2][0]+list1[3][0]\n",
    "    b=list1[0][1]+list1[1][1]+list1[2][1]+list1[3][1]\n",
    "    c=list1[0][2]+list1[1][2]+list1[2][2]+list1[3][2]\n",
    "    d=list1[0][3]+list1[1][3]+list1[2][3]+list1[3][3]\n",
    "    if a>b and a>c and a>d:\n",
    "        res=a\n",
    "    elif b>c and b>d:\n",
    "        res=b\n",
    "    elif c>d:\n",
    "        res=d\n",
    "    else:\n",
    "        res=d\n",
    "    print(\"Tallest Skyscraper is:\",res)\n",
    "tallest_skyscraper([\n",
    "[0,1,0,0],\n",
    "[0,1,0,0],\n",
    "[0,1,1,0],\n",
    "[1,1,1,1]\n",
    "])\n",
    "    \n"
   ]
  },
  {
   "cell_type": "markdown",
   "metadata": {},
   "source": [
    "Question 4"
   ]
  },
  {
   "cell_type": "code",
   "execution_count": 85,
   "metadata": {},
   "outputs": [],
   "source": [
    "def bonus(i):\n",
    "    if i in range(0,33):\n",
    "        in_range=1\n",
    "    elif i in range(33,41):\n",
    "        in_range=2\n",
    "    elif i in range(40,49):\n",
    "        in_range=3\n",
    "    else:\n",
    "        in_range=4\n",
    "    if in_range==1:\n",
    "        bonus_n=0\n",
    "    elif in_range==2:\n",
    "        b=i-33\n",
    "        bonus_n=32*0+b*325\n",
    "    elif in_range==3:\n",
    "        b=i-40\n",
    "        bonus_n=32*0+8*325+b*550\n",
    "    else: \n",
    "        b=i-48\n",
    "        bonus_n=32*0+8*325+8*550+b*600\n",
    "    return bonus_n\n",
    "        \n",
    "            \n",
    "    "
   ]
  },
  {
   "cell_type": "code",
   "execution_count": 86,
   "metadata": {},
   "outputs": [
    {
     "data": {
      "text/plain": [
       "8200"
      ]
     },
     "execution_count": 86,
     "metadata": {},
     "output_type": "execute_result"
    }
   ],
   "source": [
    "bonus(50)"
   ]
  },
  {
   "cell_type": "markdown",
   "metadata": {},
   "source": [
    "Question 5"
   ]
  },
  {
   "cell_type": "code",
   "execution_count": 87,
   "metadata": {},
   "outputs": [
    {
     "data": {
      "text/plain": [
       "True"
      ]
     },
     "execution_count": 87,
     "metadata": {},
     "output_type": "execute_result"
    }
   ],
   "source": [
    "def dis(num):\n",
    "    org_num=num\n",
    "    n=str(num)\n",
    "    len1=len(n)\n",
    "    sum1=0\n",
    "    while(num > 0):    \n",
    "        rem = num%10;    \n",
    "        sum1 = sum1 + rem**len1;    \n",
    "        num = num//10;    \n",
    "        len1 = len1 - 1;\n",
    "    if org_num==sum1:\n",
    "        return True\n",
    "    else:\n",
    "        return False\n",
    "        \n",
    "dis(518)"
   ]
  },
  {
   "cell_type": "code",
   "execution_count": null,
   "metadata": {},
   "outputs": [],
   "source": []
  },
  {
   "cell_type": "code",
   "execution_count": null,
   "metadata": {},
   "outputs": [],
   "source": []
  }
 ],
 "metadata": {
  "kernelspec": {
   "display_name": "Python 3",
   "language": "python",
   "name": "python3"
  },
  "language_info": {
   "codemirror_mode": {
    "name": "ipython",
    "version": 3
   },
   "file_extension": ".py",
   "mimetype": "text/x-python",
   "name": "python",
   "nbconvert_exporter": "python",
   "pygments_lexer": "ipython3",
   "version": "3.7.6"
  }
 },
 "nbformat": 4,
 "nbformat_minor": 4
}
