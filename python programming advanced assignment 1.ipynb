{
 "cells": [
  {
   "cell_type": "markdown",
   "metadata": {},
   "source": [
    "Question1:"
   ]
  },
  {
   "cell_type": "code",
   "execution_count": 103,
   "metadata": {},
   "outputs": [
    {
     "data": {
      "text/plain": [
       "0"
      ]
     },
     "execution_count": 103,
     "metadata": {},
     "output_type": "execute_result"
    }
   ],
   "source": [
    "def check_score(list1):\n",
    "    global total\n",
    "    total=0\n",
    "    list12=[]\n",
    "    for i in list1:\n",
    "        if type(i)==list:\n",
    "            for j in i:\n",
    "                if j==\"#\":\n",
    "                    list12.append(5)\n",
    "                    continue\n",
    "                if j==\"O\":\n",
    "                    list12.append(3)\n",
    "                    continue\n",
    "                if j==\"X\":\n",
    "                    list12.append(1)\n",
    "                    continue\n",
    "                if j==\"!\":\n",
    "                    list12.append(-1)\n",
    "                    continue\n",
    "                if j==\"!!\":\n",
    "                    list12.append(-3)\n",
    "                    continue\n",
    "                if j==\"!!!\":\n",
    "                    list12.append(-5)\n",
    "                    continue         \n",
    "        else:\n",
    "            print(\"Please pass a nested list\")\n",
    "    \n",
    "    for i in list12:\n",
    "        total=total+i\n",
    "    if total<0:\n",
    "        total=0\n",
    "    return total\n",
    "\n",
    "\n",
    "check_score([\n",
    "  [\"!!!\", \"O\", \"!\"],\n",
    "  [\"X\", \"#\", \"!!!\"],\n",
    "  [\"!!\", \"X\", \"O\"]\n",
    "]) \n",
    "\n",
    "\n",
    "\n"
   ]
  },
  {
   "cell_type": "markdown",
   "metadata": {},
   "source": [
    "Question 2"
   ]
  },
  {
   "cell_type": "code",
   "execution_count": 114,
   "metadata": {},
   "outputs": [
    {
     "data": {
      "text/plain": [
       "120"
      ]
     },
     "execution_count": 114,
     "metadata": {},
     "output_type": "execute_result"
    }
   ],
   "source": [
    "def combination(*nums):\n",
    "    global mul\n",
    "    mul=1\n",
    "    for i in nums:\n",
    "        mul=mul*i\n",
    "    return mul\n",
    "combination(2, 3, 4, 5)       "
   ]
  },
  {
   "cell_type": "code",
   "execution_count": 130,
   "metadata": {},
   "outputs": [
    {
     "name": "stdout",
     "output_type": "stream",
     "text": [
      ".... . .-.. .--. -- . -.-.--"
     ]
    }
   ],
   "source": [
    "def morse(string):\n",
    "    char_to_dots = {\n",
    "      'A': '.-', 'B': '-...', 'C': '-.-.', 'D': '-..', 'E': '.', 'F': '..-.',\n",
    "      'G': '--.', 'H': '....', 'I': '..', 'J': '.---', 'K': '-.-', 'L': '.-..',\n",
    "      'M': '--', 'N': '-.', 'O': '---', 'P': '.--.', 'Q': '--.-', 'R': '.-.',\n",
    "      'S': '...', 'T': '-', 'U': '..-', 'V': '...-', 'W': '.--', 'X': '-..-',\n",
    "      'Y': '-.--', 'Z': '--..', ' ': ' ', '0': '-----',\n",
    "      '1': '.----', '2': '..---', '3': '...--', '4': '....-', '5': '.....',\n",
    "      '6': '-....', '7': '--...', '8': '---..', '9': '----.',\n",
    "      '&': '.-...', \"'\": '.----.', '@': '.--.-.', ')': '-.--.-', '(': '-.--.',\n",
    "      ':': '---...', ',': '--..--', '=': '-...-', '!': '-.-.--', '.': '.-.-.-',\n",
    "      '-': '-....-', '+': '.-.-.', '\"': '.-..-.', '?': '..--..', '/': '-..-.'\n",
    "    }\n",
    "    str1=string.replace(\" \",\"\")\n",
    "    s=\" \"\n",
    "    s1=s.join(str1)\n",
    "    for i in s1:\n",
    "        print(char_to_dots[i],end=\"\")\n",
    "    \n",
    "    \n",
    "    \n",
    "morse(\"HELP ME !\") \n"
   ]
  },
  {
   "cell_type": "code",
   "execution_count": 127,
   "metadata": {},
   "outputs": [
    {
     "name": "stdout",
     "output_type": "stream",
     "text": [
      "HelpMe\n"
     ]
    }
   ],
   "source": [
    "string=\"Help Me\"\n",
    "s=\" \"\n",
    "s.join(string)"
   ]
  },
  {
   "cell_type": "markdown",
   "metadata": {},
   "source": [
    "Question 4"
   ]
  },
  {
   "cell_type": "code",
   "execution_count": 3,
   "metadata": {},
   "outputs": [
    {
     "name": "stdout",
     "output_type": "stream",
     "text": [
      "Total prime numbers in range : 9592\n",
      "Time required : 0.28542232513427734\n"
     ]
    }
   ],
   "source": [
    "import time\n",
    "import math\n",
    "def is_prime(n):\n",
    "    if n <= 1:\n",
    "        return False\n",
    " \n",
    "    max_div = math.floor(math.sqrt(n))\n",
    "    for i in range(2, 1 + max_div):\n",
    "        if n % i == 0:\n",
    "            return False\n",
    "    return True\n",
    " \n",
    "# Driver function\n",
    "t0 = time.time()\n",
    "c = 0 #for counting\n",
    " \n",
    "for n in range(1,100000):\n",
    "    x = is_prime(n)\n",
    "    c += x\n",
    "print(\"Total prime numbers in range :\", c)\n",
    " \n",
    "t1 = time.time()\n",
    "print(\"Time required :\", t1 - t0)"
   ]
  },
  {
   "cell_type": "code",
   "execution_count": 30,
   "metadata": {},
   "outputs": [
    {
     "data": {
      "text/plain": [
       "['False', 'True', 'True', 'False']"
      ]
     },
     "execution_count": 30,
     "metadata": {},
     "output_type": "execute_result"
    }
   ],
   "source": [
    "def bitostring(string):\n",
    "    str_to_bits = {\n",
    "      'A': 1, 'B': 0, 'C': 1, 'D': 0, 'E': 1, 'F': 0,\n",
    "      'G': 1, 'H': 0, 'I': 1, 'J': 0, 'K': 1, 'L': 0,\n",
    "      'M': 1, 'N': 0, 'O': 1, 'P': 0, 'Q': 1, 'R': 0,\n",
    "      'S': 1, 'T': 0, 'U': 1, 'V': 0, 'W': 1, 'X': 0,\n",
    "      'Y': 1, 'Z': 0, 'a': 1, 'b': 0, 'c': 1, 'd': 0, 'e': 1, 'f': 0,\n",
    "      'g': 1, 'h': 0, 'i': 1, 'j': 0, 'k': 1, 'l': 0,\n",
    "      'm': 1, 'n': 0, 'o': 1, 'p': 0, 'q': 1, 'r': 0,\n",
    "      's': 1, 't': 0, 'u': 1, 'v': 0, 'w': 1, 'x': 0,\n",
    "      'y': 1, 'z': 0,\n",
    "    }\n",
    "    bit=[]\n",
    "    for i in string:\n",
    "        if str_to_bits[i]==1:\n",
    "            bit.append(\"True\")\n",
    "        else:\n",
    "            bit.append(\"False\")\n",
    "    return bit\n",
    "bitostring(\"tesh\")"
   ]
  },
  {
   "cell_type": "code",
   "execution_count": null,
   "metadata": {},
   "outputs": [],
   "source": []
  }
 ],
 "metadata": {
  "kernelspec": {
   "display_name": "Python 3",
   "language": "python",
   "name": "python3"
  },
  "language_info": {
   "codemirror_mode": {
    "name": "ipython",
    "version": 3
   },
   "file_extension": ".py",
   "mimetype": "text/x-python",
   "name": "python",
   "nbconvert_exporter": "python",
   "pygments_lexer": "ipython3",
   "version": "3.7.6"
  }
 },
 "nbformat": 4,
 "nbformat_minor": 4
}
