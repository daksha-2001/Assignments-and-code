{
 "cells": [
  {
   "cell_type": "markdown",
   "metadata": {},
   "source": [
    "1. Create a function that takes a list and string. The function should remove\n",
    "the letters in the string from the list, and return the list."
   ]
  },
  {
   "cell_type": "code",
   "execution_count": 2,
   "metadata": {},
   "outputs": [
    {
     "data": {
      "text/plain": [
       "['b', 'n', 'g', 'w']"
      ]
     },
     "execution_count": 2,
     "metadata": {},
     "output_type": "execute_result"
    }
   ],
   "source": [
    "def remove_letters(lst,string):\n",
    "    d={}\n",
    "    s={}\n",
    "    res=[]\n",
    "    s1=[]\n",
    "    r=[]\n",
    "    for i in string:\n",
    "        if i not in s1:\n",
    "            s[i]=1\n",
    "            s1.append(i)\n",
    "        else:\n",
    "            s[i]+=1\n",
    "        \n",
    "    for i in lst:\n",
    "        if i not in res:\n",
    "            d[i]=1\n",
    "            res.append(i)\n",
    "        else:\n",
    "            d[i]+=1\n",
    "    for i in d:\n",
    "        if i in string:\n",
    "            d[i]=d[i]-1\n",
    "    for i in s:\n",
    "        if d[i]>=s[i]:\n",
    "            for j in range(d[i]):\n",
    "                r.append(i)\n",
    "                d[i]-=1\n",
    "    for i in d:\n",
    "        if i not in s:\n",
    "            if d[i]>=1:\n",
    "                for j in range(d[i]):\n",
    "                    r.append(i)\n",
    "            \n",
    "        \n",
    "    return r\n",
    "remove_letters([\"b\",\"b\",\"l\",\"l\",\"g\",\"n\",\"n\",\"o\",\"a\",\"w\"], \"balloon\")            "
   ]
  },
  {
   "cell_type": "markdown",
   "metadata": {},
   "source": [
    "2.Create a function that takes a number (step) as an argument and returns the\n",
    "amount of blocks in that step."
   ]
  },
  {
   "cell_type": "code",
   "execution_count": 6,
   "metadata": {},
   "outputs": [
    {
     "data": {
      "text/plain": [
       "12"
      ]
     },
     "execution_count": 6,
     "metadata": {},
     "output_type": "execute_result"
    }
   ],
   "source": [
    "def blocks(n):\n",
    "    no_blocks=5\n",
    "    if n==1:\n",
    "        no_blocks=5\n",
    "    for i in range(2,n+1):\n",
    "        no_blocks+=5+i\n",
    "    return no_blocks\n",
    "blocks(2)       "
   ]
  },
  {
   "cell_type": "markdown",
   "metadata": {},
   "source": [
    "3. Create a function that subtracts one positive integer from another, without\n",
    "using any arithmetic operators such as -, %, /, +, etc."
   ]
  },
  {
   "cell_type": "code",
   "execution_count": 13,
   "metadata": {},
   "outputs": [
    {
     "data": {
      "text/plain": [
       "20"
      ]
     },
     "execution_count": 13,
     "metadata": {},
     "output_type": "execute_result"
    }
   ],
   "source": [
    "def subtract(x, y):\n",
    "    if x<y:\n",
    "        temp=x\n",
    "        x=y\n",
    "        y=temp\n",
    "\n",
    "    while (y != 0):\n",
    "        borrow = (~x) & y\n",
    "        x = x ^ y\n",
    "        y = borrow << 1\n",
    "    return x\n",
    "\n",
    "subtract(10,30)"
   ]
  },
  {
   "cell_type": "markdown",
   "metadata": {},
   "source": [
    "4. Create a function that takes a string containing money in dollars and\n",
    "pounds sterling (seperated by comma) and returns the sum of dollar bills only,\n",
    "as an integer."
   ]
  },
  {
   "cell_type": "code",
   "execution_count": 46,
   "metadata": {},
   "outputs": [
    {
     "data": {
      "text/plain": [
       "2200"
      ]
     },
     "execution_count": 46,
     "metadata": {},
     "output_type": "execute_result"
    }
   ],
   "source": [
    "def add_bill(string):\n",
    "    sum1=\"\"\n",
    "    s=0\n",
    "    string=string.replace(\"k\",\"000\")\n",
    "    for i in range(len(string)):\n",
    "        if string[i]==\"d\":\n",
    "            for i in range(i+1,len(string)):\n",
    "                if string[i].isalpha():\n",
    "                    break\n",
    "                if string[i]==\",\":\n",
    "                    break\n",
    "                else:\n",
    "                    sum1+=string[i]\n",
    "            s+=int(sum1)\n",
    "            sum1=\"\"\n",
    "            \n",
    "            \n",
    "    return s\n",
    "add_bill(\"p30,d2k,p60,d200,p360\")\n",
    "                "
   ]
  },
  {
   "cell_type": "markdown",
   "metadata": {},
   "source": [
    "5. Create a function that flips a horizontal list into a vertical list, and a vertical\n",
    "list into a horizontal list.\n",
    "In other words, take an 1 x n list (1 row + n columns) and flip it into a n x 1 list\n",
    "(n rows and 1 column), and vice versa."
   ]
  },
  {
   "cell_type": "code",
   "execution_count": 6,
   "metadata": {},
   "outputs": [
    {
     "data": {
      "text/plain": [
       "[[1], [2], [3], [4]]"
      ]
     },
     "execution_count": 6,
     "metadata": {},
     "output_type": "execute_result"
    }
   ],
   "source": [
    "def flip_list(lst):\n",
    "    r=[]\n",
    "    for i in lst:\n",
    "        if type(i)==list:\n",
    "            for j in i:\n",
    "                r.append(j)\n",
    "        else:\n",
    "            r.append([i])\n",
    "    return r\n",
    "flip_list([1,2,3,4])\n",
    "            "
   ]
  },
  {
   "cell_type": "code",
   "execution_count": null,
   "metadata": {},
   "outputs": [],
   "source": []
  }
 ],
 "metadata": {
  "kernelspec": {
   "display_name": "Python 3",
   "language": "python",
   "name": "python3"
  },
  "language_info": {
   "codemirror_mode": {
    "name": "ipython",
    "version": 3
   },
   "file_extension": ".py",
   "mimetype": "text/x-python",
   "name": "python",
   "nbconvert_exporter": "python",
   "pygments_lexer": "ipython3",
   "version": "3.7.6"
  }
 },
 "nbformat": 4,
 "nbformat_minor": 4
}
