{
 "cells": [
  {
   "cell_type": "markdown",
   "id": "e6c18231",
   "metadata": {},
   "source": [
    "Write a Python Program to Find the Factorial of a Number?"
   ]
  },
  {
   "cell_type": "code",
   "execution_count": null,
   "id": "645b01bf",
   "metadata": {},
   "outputs": [],
   "source": [
    "def factorial(num):\n",
    "    if num==1:\n",
    "        fact=1\n",
    "    elif num==1:\n",
    "        fact=1\n",
    "    else:\n",
    "        fact=num*factorial(num-1)\n",
    "    return fact\n",
    "factorial(5)"
   ]
  },
  {
   "cell_type": "markdown",
   "id": "ac88d7cd",
   "metadata": {},
   "source": [
    "Write a Python Program to Display the multiplication Table?\n"
   ]
  },
  {
   "cell_type": "code",
   "execution_count": 21,
   "id": "7c271271",
   "metadata": {},
   "outputs": [
    {
     "name": "stdout",
     "output_type": "stream",
     "text": [
      "3 * 1 = 3\n",
      "3 * 2 = 6\n",
      "3 * 3 = 9\n",
      "3 * 4 = 12\n",
      "3 * 5 = 15\n",
      "3 * 6 = 18\n",
      "3 * 7 = 21\n",
      "3 * 8 = 24\n",
      "3 * 9 = 27\n",
      "3 * 10 = 30\n",
      "3 * 11 = 33\n",
      "3 * 12 = 36\n"
     ]
    }
   ],
   "source": [
    "def func(num):\n",
    "    for i in range(1,13):\n",
    "        print(num,\"*\",i,\"=\",num*i)\n",
    "func(3)"
   ]
  },
  {
   "cell_type": "markdown",
   "id": "b35a9942",
   "metadata": {},
   "source": [
    " Write a Python Program to Print the Fibonacci sequence?\n"
   ]
  },
  {
   "cell_type": "code",
   "execution_count": 15,
   "id": "488d14d3",
   "metadata": {},
   "outputs": [
    {
     "name": "stdout",
     "output_type": "stream",
     "text": [
      "0\n",
      "1\n",
      "1\n",
      "2\n",
      "3\n",
      "5\n"
     ]
    }
   ],
   "source": [
    "def func(num):\n",
    "    f0=0\n",
    "    f1=1\n",
    "    print(f0)\n",
    "    print(f1)\n",
    "    for i in range(2,num):\n",
    "        f3=f0+f1\n",
    "        print(f3)\n",
    "        f0=f1\n",
    "        f1=f3\n",
    "func(6)"
   ]
  },
  {
   "cell_type": "markdown",
   "id": "4a8b7382",
   "metadata": {},
   "source": [
    " Write a Python Program to Check Armstrong Number?\n"
   ]
  },
  {
   "cell_type": "code",
   "execution_count": 12,
   "id": "6adc323d",
   "metadata": {},
   "outputs": [
    {
     "name": "stdout",
     "output_type": "stream",
     "text": [
      "Num is Armstrong\n"
     ]
    },
    {
     "data": {
      "text/plain": [
       "121"
      ]
     },
     "execution_count": 12,
     "metadata": {},
     "output_type": "execute_result"
    }
   ],
   "source": [
    "def func(num):\n",
    "    org=num\n",
    "    s=0\n",
    "    while num>0:\n",
    "        n=num%10\n",
    "        s=s*10+n\n",
    "        num=round(num/10) \n",
    "    if org==s:\n",
    "        print(\"Num is Armstrong\")\n",
    "    else:\n",
    "        print(\"Num is not Armstrong\") \n",
    "\n",
    "func(121)"
   ]
  },
  {
   "cell_type": "markdown",
   "id": "653cfc72",
   "metadata": {},
   "source": [
    " Write a Python Program to Find Armstrong Number in an Interval?\n"
   ]
  },
  {
   "cell_type": "code",
   "execution_count": 22,
   "id": "3ff40de3",
   "metadata": {},
   "outputs": [
    {
     "name": "stdout",
     "output_type": "stream",
     "text": [
      "NUmbers that are Armstrong:\n",
      "101\n",
      "111\n",
      "121\n",
      "131\n",
      "141\n",
      "202\n",
      "212\n",
      "222\n",
      "232\n",
      "242\n",
      "252\n",
      "303\n",
      "313\n",
      "323\n",
      "333\n",
      "343\n",
      "404\n",
      "414\n",
      "424\n",
      "434\n",
      "444\n",
      "454\n",
      "505\n",
      "525\n",
      "545\n",
      "1001\n",
      "1111\n",
      "1221\n",
      "1331\n",
      "1441\n"
     ]
    }
   ],
   "source": [
    "def armstrong(num):\n",
    "    s=0\n",
    "    while num>0:\n",
    "        n=num%10\n",
    "        s=s*10+n\n",
    "        num=round(num/10) \n",
    "    return s\n",
    "\n",
    "def func(lower,upper):\n",
    "    print(\"NUmbers that are Armstrong:\")\n",
    "    for i in range(lower,upper+1):\n",
    "        org=i\n",
    "        arms=armstrong(i)\n",
    "        if org==arms:\n",
    "            print(i)\n",
    "func(100,2000)\n",
    "        \n",
    "        "
   ]
  },
  {
   "cell_type": "markdown",
   "id": "a9bb0984",
   "metadata": {},
   "source": [
    " Write a Python Program to Find the Sum of Natural Numbers?"
   ]
  },
  {
   "cell_type": "code",
   "execution_count": 2,
   "id": "36e08c6b",
   "metadata": {},
   "outputs": [
    {
     "data": {
      "text/plain": [
       "36"
      ]
     },
     "execution_count": 2,
     "metadata": {},
     "output_type": "execute_result"
    }
   ],
   "source": [
    "def func(*args):\n",
    "    s=0\n",
    "    for i in args:\n",
    "        if i>0:\n",
    "            s+=i\n",
    "    return s\n",
    "func(1,2,3,4,5,6,7,8,-2)"
   ]
  },
  {
   "cell_type": "code",
   "execution_count": null,
   "id": "6c58aa70",
   "metadata": {},
   "outputs": [],
   "source": []
  }
 ],
 "metadata": {
  "kernelspec": {
   "display_name": "Python 3",
   "language": "python",
   "name": "python3"
  },
  "language_info": {
   "codemirror_mode": {
    "name": "ipython",
    "version": 3
   },
   "file_extension": ".py",
   "mimetype": "text/x-python",
   "name": "python",
   "nbconvert_exporter": "python",
   "pygments_lexer": "ipython3",
   "version": "3.8.8"
  }
 },
 "nbformat": 4,
 "nbformat_minor": 5
}
