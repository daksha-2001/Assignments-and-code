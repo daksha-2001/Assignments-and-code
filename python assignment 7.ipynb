{
 "cells": [
  {
   "cell_type": "markdown",
   "id": "53c3309b",
   "metadata": {},
   "source": [
    "Write a Python Program to find sum of array?"
   ]
  },
  {
   "cell_type": "code",
   "execution_count": 3,
   "id": "8543875b",
   "metadata": {},
   "outputs": [
    {
     "data": {
      "text/plain": [
       "15"
      ]
     },
     "execution_count": 3,
     "metadata": {},
     "output_type": "execute_result"
    }
   ],
   "source": [
    "arr=[1,2,3,4,5]\n",
    "s=0\n",
    "for i in arr:\n",
    "    s+=i\n",
    "s"
   ]
  },
  {
   "cell_type": "markdown",
   "id": "dd06f53e",
   "metadata": {},
   "source": [
    "Write a Python Program to find largest element in an array?"
   ]
  },
  {
   "cell_type": "code",
   "execution_count": 4,
   "id": "ba778694",
   "metadata": {},
   "outputs": [
    {
     "data": {
      "text/plain": [
       "5"
      ]
     },
     "execution_count": 4,
     "metadata": {},
     "output_type": "execute_result"
    }
   ],
   "source": [
    "arr=[1,2,3,4,5]\n",
    "s=arr[0]\n",
    "for i in arr:\n",
    "    if i>s:\n",
    "        s=i\n",
    "s"
   ]
  },
  {
   "cell_type": "markdown",
   "id": "90000df3",
   "metadata": {},
   "source": [
    " Write a Python Program for array rotation?"
   ]
  },
  {
   "cell_type": "code",
   "execution_count": 8,
   "id": "4f3d372e",
   "metadata": {},
   "outputs": [
    {
     "data": {
      "text/plain": [
       "[3, 4, 5, 6, 7, 1, 2]"
      ]
     },
     "execution_count": 8,
     "metadata": {},
     "output_type": "execute_result"
    }
   ],
   "source": [
    "def func(arr,d):\n",
    "    temp=[]\n",
    "    res=[]\n",
    "    for i in arr[:d]:\n",
    "        temp.append(i)\n",
    "    for i in arr[d:]:\n",
    "        res.append(i)\n",
    "    res=res+temp\n",
    "        \n",
    "    return res\n",
    "func([1,2,3,4,5,6,7],2)\n",
    "        "
   ]
  },
  {
   "cell_type": "markdown",
   "id": "b826afb0",
   "metadata": {},
   "source": [
    " Write a Python Program to Split the array and add the first part to the end?"
   ]
  },
  {
   "cell_type": "code",
   "execution_count": 9,
   "id": "de4f67d2",
   "metadata": {},
   "outputs": [
    {
     "name": "stdout",
     "output_type": "stream",
     "text": [
      "arr1: [1, 2]\n",
      "arr2: [3, 4, 5, 6, 7]\n",
      "combined array: [3, 4, 5, 6, 7, 1, 2]\n"
     ]
    },
    {
     "data": {
      "text/plain": [
       "[3, 4, 5, 6, 7, 1, 2]"
      ]
     },
     "execution_count": 9,
     "metadata": {},
     "output_type": "execute_result"
    }
   ],
   "source": [
    "def func(arr,d):\n",
    "    temp=[]\n",
    "    res=[]\n",
    "    for i in arr[:d]:\n",
    "        temp.append(i)\n",
    "    for i in arr[d:]:\n",
    "        res.append(i)\n",
    "    print(\"arr1:\",temp)\n",
    "    print(\"arr2:\",res)\n",
    "    res=res+temp\n",
    "    print(\"combined array:\",res)\n",
    "    return res\n",
    "func([1,2,3,4,5,6,7],2)\n",
    "        "
   ]
  },
  {
   "cell_type": "markdown",
   "id": "e2deb2c0",
   "metadata": {},
   "source": [
    "Write a Python Program to check if given array is Monotonic?"
   ]
  },
  {
   "cell_type": "code",
   "execution_count": 10,
   "id": "4c73f3e7",
   "metadata": {},
   "outputs": [
    {
     "name": "stdout",
     "output_type": "stream",
     "text": [
      "True\n"
     ]
    }
   ],
   "source": [
    "def isMonotonic(A):\n",
    "\n",
    "    return (all(A[i] <= A[i + 1] for i in range(len(A) - 1)) or all(A[i] >= A[i + 1] for i in range(len(A) - 1)))\n",
    "\n",
    "A = [6, 5, 4, 4]\n",
    "print(isMonotonic(A))\n"
   ]
  },
  {
   "cell_type": "code",
   "execution_count": null,
   "id": "93fafa67",
   "metadata": {},
   "outputs": [],
   "source": []
  }
 ],
 "metadata": {
  "kernelspec": {
   "display_name": "Python 3",
   "language": "python",
   "name": "python3"
  },
  "language_info": {
   "codemirror_mode": {
    "name": "ipython",
    "version": 3
   },
   "file_extension": ".py",
   "mimetype": "text/x-python",
   "name": "python",
   "nbconvert_exporter": "python",
   "pygments_lexer": "ipython3",
   "version": "3.8.8"
  }
 },
 "nbformat": 4,
 "nbformat_minor": 5
}
