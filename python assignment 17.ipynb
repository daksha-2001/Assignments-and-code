{
 "cells": [
  {
   "cell_type": "markdown",
   "id": "8fb0ecfb",
   "metadata": {},
   "source": [
    "Question1.\n",
    "\n",
    "Create a function that takes three arguments a, b, c and returns the sum of the\n",
    "numbers that are evenly divided by c from the range a, b inclusive."
   ]
  },
  {
   "cell_type": "code",
   "execution_count": 7,
   "id": "74d955bc",
   "metadata": {},
   "outputs": [
    {
     "data": {
      "text/plain": [
       "18"
      ]
     },
     "execution_count": 7,
     "metadata": {},
     "output_type": "execute_result"
    }
   ],
   "source": [
    "def evenly_divisible(n1,n2,n3):\n",
    "    res=0\n",
    "    if n3>n2:\n",
    "        res=0\n",
    "    else:\n",
    "        for i in range(n1,n2+1):\n",
    "            if i%n3==0:\n",
    "                res+=i\n",
    "                \n",
    "    return res\n",
    "evenly_divisible(1, 10, 3)"
   ]
  },
  {
   "cell_type": "markdown",
   "id": "c1cc0cd0",
   "metadata": {},
   "source": [
    "Question2.\n",
    "\n",
    "Create a function that returns True if a given inequality expression is correct and\n",
    "False otherwise."
   ]
  },
  {
   "cell_type": "code",
   "execution_count": 60,
   "id": "be30665a",
   "metadata": {},
   "outputs": [
    {
     "data": {
      "text/plain": [
       "False"
      ]
     },
     "execution_count": 60,
     "metadata": {},
     "output_type": "execute_result"
    }
   ],
   "source": [
    "import re\n",
    "def correct_signs(string):\n",
    "    b1=True\n",
    "    sign=[]\n",
    "    r1=[]\n",
    "    num=[1,2,3,4,5,6,7,8,9,0]\n",
    "    for i in string:\n",
    "        if i==\">\" or i==\"<\":\n",
    "            sign.append(i)\n",
    "    temp=re.findall(r'\\d+',string)\n",
    "    r1=list(map(int,temp))\n",
    "    a=int(r1[0])\n",
    "    b=int(r1[1])\n",
    "    c=1\n",
    "    i1=1\n",
    "    for i in sign:\n",
    "        if i==\">\":\n",
    "            if a>b:\n",
    "                b1=b1 and True\n",
    "                \n",
    "            else:\n",
    "                b1=b1 and False\n",
    "            \n",
    "        elif i==\"<\":\n",
    "            if a<b:\n",
    "                b1=b1 and True\n",
    "                \n",
    "            else:\n",
    "                b1=b1 and False\n",
    "                \n",
    "        if c!=len(r1)-1:\n",
    "            a=b\n",
    "            b=int(r1[i1+1])\n",
    "            c+=1\n",
    "            i1+=1\n",
    "    return b1\n",
    "            \n",
    "correct_signs(\"13>44>33>1\")        \n",
    "            "
   ]
  },
  {
   "cell_type": "markdown",
   "id": "f9b929d1",
   "metadata": {},
   "source": [
    "Question3.\n",
    "\n",
    "Create a function that replaces all the vowels in a string with a specified character."
   ]
  },
  {
   "cell_type": "code",
   "execution_count": 61,
   "id": "02d3586e",
   "metadata": {},
   "outputs": [
    {
     "data": {
      "text/plain": [
       "'m?nn?? m??s?'"
      ]
     },
     "execution_count": 61,
     "metadata": {},
     "output_type": "execute_result"
    }
   ],
   "source": [
    "def replace_vowels(string,c):\n",
    "    vowels=['a','e','i','o','u']\n",
    "    for i in string:\n",
    "        if i in vowels:\n",
    "            string=string.replace(i,c)\n",
    "    return string\n",
    "replace_vowels(\"minnie mouse\",\"?\")"
   ]
  },
  {
   "cell_type": "markdown",
   "id": "1a5e8794",
   "metadata": {},
   "source": [
    "Question4. \n",
    "\n",
    "Write a function that calculates the factorial of a number recursively."
   ]
  },
  {
   "cell_type": "code",
   "execution_count": 63,
   "id": "145b3c37",
   "metadata": {},
   "outputs": [
    {
     "data": {
      "text/plain": [
       "120"
      ]
     },
     "execution_count": 63,
     "metadata": {},
     "output_type": "execute_result"
    }
   ],
   "source": [
    "def factorial(num):\n",
    "    fact=num\n",
    "    if num==1:\n",
    "        fact=1\n",
    "    elif num==0:\n",
    "        fact=1\n",
    "    else:\n",
    "        fact=fact*factorial(num-1)\n",
    "    return fact\n",
    "factorial(5)"
   ]
  },
  {
   "cell_type": "markdown",
   "id": "d2260076",
   "metadata": {},
   "source": [
    "Question 5\n",
    "\n",
    "Create a function that computes the hamming distance between two strings."
   ]
  },
  {
   "cell_type": "code",
   "execution_count": 66,
   "id": "4645a00e",
   "metadata": {},
   "outputs": [
    {
     "data": {
      "text/plain": [
       "5"
      ]
     },
     "execution_count": 66,
     "metadata": {},
     "output_type": "execute_result"
    }
   ],
   "source": [
    "def hamming_distance(s1,s2):\n",
    "    c=0\n",
    "    for i in range(len(s1)):\n",
    "        if s1[i]==s2[i]:\n",
    "            continue\n",
    "        else:\n",
    "            c+=1\n",
    "    return c\n",
    "hamming_distance(\"abcde\",\"bcdef\")"
   ]
  },
  {
   "cell_type": "code",
   "execution_count": null,
   "id": "02325cf8",
   "metadata": {},
   "outputs": [],
   "source": []
  }
 ],
 "metadata": {
  "kernelspec": {
   "display_name": "Python 3",
   "language": "python",
   "name": "python3"
  },
  "language_info": {
   "codemirror_mode": {
    "name": "ipython",
    "version": 3
   },
   "file_extension": ".py",
   "mimetype": "text/x-python",
   "name": "python",
   "nbconvert_exporter": "python",
   "pygments_lexer": "ipython3",
   "version": "3.8.8"
  }
 },
 "nbformat": 4,
 "nbformat_minor": 5
}
