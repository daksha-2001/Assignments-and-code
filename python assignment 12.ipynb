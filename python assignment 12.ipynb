{
 "cells": [
  {
   "cell_type": "markdown",
   "id": "a5c0fcfd",
   "metadata": {},
   "source": [
    "Question 1.\n",
    "\n",
    "Write a Python program to Extract Unique values dictionary values?"
   ]
  },
  {
   "cell_type": "code",
   "execution_count": 2,
   "id": "90b5438c",
   "metadata": {},
   "outputs": [
    {
     "data": {
      "text/plain": [
       "[1, 2, 4, 'b', 'd', 'e']"
      ]
     },
     "execution_count": 2,
     "metadata": {},
     "output_type": "execute_result"
    }
   ],
   "source": [
    "def func(d):\n",
    "    res=[]\n",
    "    for i in d:\n",
    "        for i in d[i]:\n",
    "            if i not in res:\n",
    "                res.append(i)\n",
    "    return res\n",
    "func({'a':[1,2,2,4],'b':[1,2,'b','d','e']})"
   ]
  },
  {
   "cell_type": "markdown",
   "id": "f965cc8d",
   "metadata": {},
   "source": [
    "Question 2\n",
    "\n",
    "Write a Python program to find the sum of all items in a dictionary?"
   ]
  },
  {
   "cell_type": "code",
   "execution_count": 13,
   "id": "320bd28e",
   "metadata": {},
   "outputs": [
    {
     "data": {
      "text/plain": [
       "12"
      ]
     },
     "execution_count": 13,
     "metadata": {},
     "output_type": "execute_result"
    }
   ],
   "source": [
    "def func(d):\n",
    "    s=0\n",
    "    for i in d:\n",
    "        for j in d[i]:\n",
    "            if type(j)==int:\n",
    "                s+=j\n",
    "\n",
    "            else:\n",
    "                continue\n",
    "    return s\n",
    "func({'a':[1,2,2,4],'b':[1,2,'b','d','e']})"
   ]
  },
  {
   "cell_type": "markdown",
   "id": "d71a592e",
   "metadata": {},
   "source": [
    "Question 3\n",
    "\n",
    "Write a Python program to Merging two Dictionaries?"
   ]
  },
  {
   "cell_type": "code",
   "execution_count": 26,
   "id": "c66a411b",
   "metadata": {},
   "outputs": [
    {
     "data": {
      "text/plain": [
       "{'A': [12, 13, 14], 'B': [12, 13, 14], 'C': [12, 13, 14], 'D': [12, 13, 14]}"
      ]
     },
     "execution_count": 26,
     "metadata": {},
     "output_type": "execute_result"
    }
   ],
   "source": [
    "def func(d1,d2):\n",
    "    d1.update(d2)\n",
    "    return d1\n",
    "func({'A':[12,13,14],'B':[12,13,14]},{'C':[12,13,14],'D':[12,13,14]})"
   ]
  },
  {
   "cell_type": "markdown",
   "id": "fc31335a",
   "metadata": {},
   "source": [
    "Question 4\n",
    "\n",
    "Write a Python program to convert key-values list to flat dictionary?"
   ]
  },
  {
   "cell_type": "code",
   "execution_count": 21,
   "id": "cf501c96",
   "metadata": {},
   "outputs": [],
   "source": [
    "from itertools import product\n",
    "d={'car_index':[1,2,3],\"cars_name\":[\"toyota\",\"eco\"]}\n",
    "res=dict(zip(d['car_index'],d['cars_name']))\n",
    "res"
   ]
  },
  {
   "cell_type": "markdown",
   "id": "ad826eda",
   "metadata": {},
   "source": [
    "Question 5\n",
    "\n",
    "Write a Python program to insertion at the beginning in OrderedDict?"
   ]
  },
  {
   "cell_type": "code",
   "execution_count": 29,
   "id": "05672d39",
   "metadata": {},
   "outputs": [
    {
     "name": "stdout",
     "output_type": "stream",
     "text": [
      "Resultant Dictionary :  OrderedDict([('saloni', '300'), ('daksha', '100'), ('niki', '200')])\n"
     ]
    }
   ],
   "source": [
    "from collections import OrderedDict\n",
    "  \n",
    "ordered_dict = OrderedDict([('daksha', '100'), ('niki', '200')])\n",
    "  \n",
    "ordered_dict.update({'saloni':'300'})\n",
    "ordered_dict.move_to_end('saloni', last = False)\n",
    "\n",
    "print (\"Resultant Dictionary : \",ordered_dict)"
   ]
  },
  {
   "cell_type": "markdown",
   "id": "d536c52a",
   "metadata": {},
   "source": [
    "Question 6\n",
    "\n",
    "Write a Python program to check order of character in string using OrderedDict()?"
   ]
  },
  {
   "cell_type": "code",
   "execution_count": 30,
   "id": "d03f9934",
   "metadata": {},
   "outputs": [
    {
     "name": "stdout",
     "output_type": "stream",
     "text": [
      "true\n"
     ]
    }
   ],
   "source": [
    "from collections import OrderedDict\n",
    "\n",
    "def checkOrder(input, pattern):\n",
    "    dict = OrderedDict.fromkeys(input)\n",
    "    ptrlen = 0\n",
    "    for key,value in dict.items():\n",
    "        if (key == pattern[ptrlen]):\n",
    "            ptrlen = ptrlen + 1\n",
    "        if (ptrlen == (len(pattern))):\n",
    "            return 'true'\n",
    "\n",
    "    return 'false'\n",
    "\n",
    "input = 'engineers rock'\n",
    "pattern = 'egr'\n",
    "print (checkOrder(input,pattern))\n"
   ]
  },
  {
   "cell_type": "markdown",
   "id": "4d1690c2",
   "metadata": {},
   "source": [
    "Question 7\n",
    "\n",
    "Write a Python program to sort Python Dictionaries by Key or Value?"
   ]
  },
  {
   "cell_type": "code",
   "execution_count": 5,
   "id": "f84bc475",
   "metadata": {},
   "outputs": [
    {
     "name": "stdout",
     "output_type": "stream",
     "text": [
      "Sort by Keys\n",
      "['3', 'A', 'B', 'b']\n",
      "Sort by Values\n",
      "[('3', 6), ('b', 7), ('B', 8), ('A', 10)]\n"
     ]
    }
   ],
   "source": [
    "def func(d):\n",
    "    print(\"Sort by Keys\")\n",
    "    print(sorted(d))\n",
    "    print(\"Sort by Values\")\n",
    "    print(sorted(d.items(), key =\n",
    "             lambda kv:(kv[1], kv[0]))) \n",
    "func({'A':10,\"b\":7,\"3\":6,\"B\":8})"
   ]
  },
  {
   "cell_type": "code",
   "execution_count": null,
   "id": "5509e921",
   "metadata": {},
   "outputs": [],
   "source": []
  }
 ],
 "metadata": {
  "kernelspec": {
   "display_name": "Python 3",
   "language": "python",
   "name": "python3"
  },
  "language_info": {
   "codemirror_mode": {
    "name": "ipython",
    "version": 3
   },
   "file_extension": ".py",
   "mimetype": "text/x-python",
   "name": "python",
   "nbconvert_exporter": "python",
   "pygments_lexer": "ipython3",
   "version": "3.8.8"
  }
 },
 "nbformat": 4,
 "nbformat_minor": 5
}
