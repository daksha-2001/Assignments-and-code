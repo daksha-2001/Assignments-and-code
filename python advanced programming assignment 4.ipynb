{
 "cells": [
  {
   "cell_type": "code",
   "execution_count": 4,
   "metadata": {},
   "outputs": [
    {
     "data": {
      "text/plain": [
       "6765"
      ]
     },
     "execution_count": 4,
     "metadata": {},
     "output_type": "execute_result"
    }
   ],
   "source": [
    "def func(num):\n",
    "    f1=0\n",
    "    f2=1\n",
    "    fib=[]\n",
    "    fib.append(f1)\n",
    "    fib.append(f2)\n",
    "    for i in range(1,num):\n",
    "        f3=f1+f2\n",
    "        f1=f2\n",
    "        f2=f3\n",
    "        fib.append(f3)\n",
    "    return fib[-1]\n",
    "func(20)"
   ]
  },
  {
   "cell_type": "markdown",
   "metadata": {},
   "source": [
    "Question 2"
   ]
  },
  {
   "cell_type": "code",
   "execution_count": 16,
   "metadata": {},
   "outputs": [
    {
     "data": {
      "text/plain": [
       "'42 69 67 20 42 6F 69 '"
      ]
     },
     "execution_count": 16,
     "metadata": {},
     "output_type": "execute_result"
    }
   ],
   "source": [
    "def convert_to_hex(string):\n",
    "    hex1 = {\n",
    "          'A': '41', 'B': '42', 'C': '43', 'D': '44', 'E': '45', 'F': '46',\n",
    "          'G': '47', 'H': '48', 'I': '49', 'J': '4A', 'K': '4B', 'L': '4C',\n",
    "          'M': '4D', 'N': '4E', 'O': '4F', 'P': '50', 'Q': '51', 'R': '52',\n",
    "          'S': '53', 'T': '54', 'U': '55', 'V': '56', 'W': '57', 'X': '58',\n",
    "          'Y': '59', 'Z': '5A', 'a': '61', 'b': '62', 'c': '63', 'd': '64', 'e': '65', 'f': '66',\n",
    "          'g': '67', 'h': '68', 'i': '69', 'j': '6A', 'k': '6B', 'l': '6C',\n",
    "          'm': '6D', 'n': '6E', 'o': '6F', 'p': '70', 'q': '71', 'r': '72',\n",
    "          's': '73', 't': '74', 'u': '75', 'v': '76', 'w': '77', 'x': '78',\n",
    "          'y': '79', 'z': '7A',\" \":\"20\"\n",
    "        }\n",
    "    res=\"\"\n",
    "    res1=\"\"\n",
    "    for i in string:\n",
    "        res+=hex1[i]+\" \"\n",
    "        \n",
    "    return res\n",
    "convert_to_hex(\"Big Boi\")\n",
    "        "
   ]
  },
  {
   "cell_type": "markdown",
   "metadata": {},
   "source": [
    "Question 3"
   ]
  },
  {
   "cell_type": "code",
   "execution_count": 78,
   "metadata": {},
   "outputs": [
    {
     "name": "stdout",
     "output_type": "stream",
     "text": [
      "UPPERCASE\n"
     ]
    }
   ],
   "source": [
    "def uncensor(string, vowels):\n",
    "    new_ = \"\"\n",
    "    counter = 0\n",
    "    for i in range(len(string)):\n",
    "        if string[i] == \"*\":\n",
    "            new_ += vowels[counter]\n",
    "            counter += 1\n",
    "        else:\n",
    "            new_ += string[i]\n",
    "    return new_\n",
    " \n",
    "print(uncensor(\"*PP*RC*S*\",\"UEAE\"))"
   ]
  },
  {
   "cell_type": "markdown",
   "metadata": {},
   "source": [
    "Question 4"
   ]
  },
  {
   "cell_type": "code",
   "execution_count": 84,
   "metadata": {},
   "outputs": [
    {
     "data": {
      "text/plain": [
       "'dns.google'"
      ]
     },
     "execution_count": 84,
     "metadata": {},
     "output_type": "execute_result"
    }
   ],
   "source": [
    "import socket\n",
    "def get_domain(ipadd):\n",
    "    res=socket.gethostbyaddr(ipadd)[0]\n",
    "    return res\n",
    "get_domain(\"8.8.4.4\")"
   ]
  },
  {
   "cell_type": "markdown",
   "metadata": {},
   "source": [
    "Question 5"
   ]
  },
  {
   "cell_type": "code",
   "execution_count": 26,
   "metadata": {},
   "outputs": [
    {
     "name": "stdout",
     "output_type": "stream",
     "text": [
      "The factorial factorials of 6 is 24883200\n"
     ]
    }
   ],
   "source": [
    "def fact(num):\n",
    "    fact = 1\n",
    "    if num < 0:\n",
    "        print(\"Sorry, factorial does not exist for negative numbers\")\n",
    "    elif num == 0:\n",
    "        print(\"The factorial of 0 is 1\")\n",
    "    else:\n",
    "        for i in range(1,num + 1):\n",
    "            for j in range(1,i+1):\n",
    "                fact=fact*j\n",
    "        print(\"The factorial factorials of\",num,\"is\",fact)\n",
    "fact(6)"
   ]
  },
  {
   "cell_type": "code",
   "execution_count": 27,
   "metadata": {},
   "outputs": [
    {
     "data": {
      "text/plain": [
       "3"
      ]
     },
     "execution_count": 27,
     "metadata": {},
     "output_type": "execute_result"
    }
   ],
   "source": []
  },
  {
   "cell_type": "code",
   "execution_count": null,
   "metadata": {},
   "outputs": [],
   "source": []
  }
 ],
 "metadata": {
  "kernelspec": {
   "display_name": "Python 3",
   "language": "python",
   "name": "python3"
  },
  "language_info": {
   "codemirror_mode": {
    "name": "ipython",
    "version": 3
   },
   "file_extension": ".py",
   "mimetype": "text/x-python",
   "name": "python",
   "nbconvert_exporter": "python",
   "pygments_lexer": "ipython3",
   "version": "3.7.6"
  }
 },
 "nbformat": 4,
 "nbformat_minor": 4
}
