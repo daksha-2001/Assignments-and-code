{
 "cells": [
  {
   "cell_type": "markdown",
   "metadata": {},
   "source": [
    "Question 1"
   ]
  },
  {
   "cell_type": "code",
   "execution_count": 13,
   "metadata": {},
   "outputs": [
    {
     "data": {
      "text/plain": [
       "False"
      ]
     },
     "execution_count": 13,
     "metadata": {},
     "output_type": "execute_result"
    }
   ],
   "source": [
    "def vowel(text):\n",
    "    t1=text.split()\n",
    "    \n",
    "    vowels=[\"a\",\"e\",\"i\",\"o\",\"u\"]\n",
    "    v1=[]\n",
    "    v2=[]\n",
    "    for i in range(len(t1)):\n",
    "        for j in vowels:\n",
    "            if t1[i].endswith(j):\n",
    "                v1.append(t1[i])\n",
    "            elif t1[i].startswith(j):\n",
    "                v2.append(t1[i])\n",
    "    \n",
    "    res=True            \n",
    "    for i in range(len(t1)):\n",
    "        if i<len(t1)-1:\n",
    "            if t1[i] in v1 and t1[i+1] in v2:\n",
    "                res=True\n",
    "            else:\n",
    "                res=False\n",
    "    return res\n",
    "vowel(\"a sudden applause\")"
   ]
  },
  {
   "cell_type": "markdown",
   "metadata": {},
   "source": [
    "Question 2"
   ]
  },
  {
   "cell_type": "code",
   "execution_count": 19,
   "metadata": {},
   "outputs": [
    {
     "data": {
      "text/plain": [
       "True"
      ]
     },
     "execution_count": 19,
     "metadata": {},
     "output_type": "execute_result"
    }
   ],
   "source": [
    "def func(string,letter1,letter2):\n",
    "    res=string.find(letter2)\n",
    "    res=string[:res+1]\n",
    "    for i in res:\n",
    "        if i==letter1:\n",
    "            return True\n",
    "        else:\n",
    "            return False\n",
    "    \n",
    "func(\"a rabbit jumps joyfully\",\"a\",\"j\")\n",
    "    "
   ]
  },
  {
   "cell_type": "markdown",
   "metadata": {},
   "source": [
    "Question 3"
   ]
  },
  {
   "cell_type": "code",
   "execution_count": 39,
   "metadata": {},
   "outputs": [
    {
     "data": {
      "text/plain": [
       "['A', 'B', 'T', 'A', 'I', 'Y']"
      ]
     },
     "execution_count": 39,
     "metadata": {},
     "output_type": "execute_result"
    }
   ],
   "source": [
    "def char_at_pos(a1,str1):\n",
    "    res=[]\n",
    "    r1=\"\"\n",
    "    if str1==\"even\":\n",
    "        for i in range(0,len(a1)):\n",
    "            if(i%2!=0):\n",
    "                res.append(a1[i])\n",
    "    else:\n",
    "        for i in range(0,len(a1)):\n",
    "            if(i%2==0):\n",
    "                res.append(a1[i])\n",
    "    if type(a1)==list:\n",
    "        return res\n",
    "    else:\n",
    "        for i in res:\n",
    "            r1+=i\n",
    "        return r1\n",
    "        \n",
    "char_at_pos([\"A\",\"R\",\"B\",\"I\",\"T\",\"R\",\"A\",\"R\",\"I\",\"L\",\"Y\"], \"odd\")"
   ]
  },
  {
   "cell_type": "markdown",
   "metadata": {},
   "source": [
    "Quesion 4"
   ]
  },
  {
   "cell_type": "code",
   "execution_count": 43,
   "metadata": {},
   "outputs": [
    {
     "data": {
      "text/plain": [
       "1"
      ]
     },
     "execution_count": 43,
     "metadata": {},
     "output_type": "execute_result"
    }
   ],
   "source": [
    "def gcd(my_list):\n",
    "    result = my_list[0]\n",
    "    for x in my_list[1:]:\n",
    "        if result < x:\n",
    "            temp = result\n",
    "            result = x\n",
    "            x = temp\n",
    "        while x != 0:\n",
    "            temp = x\n",
    "            x = result % x\n",
    "            result = temp\n",
    "    return result \n",
    "gcd([1,2,3,10])"
   ]
  },
  {
   "cell_type": "markdown",
   "metadata": {},
   "source": [
    "Question 5"
   ]
  },
  {
   "cell_type": "code",
   "execution_count": 77,
   "metadata": {},
   "outputs": [
    {
     "name": "stdout",
     "output_type": "stream",
     "text": [
      "Neither!\n"
     ]
    }
   ],
   "source": [
    "def palindrome(num):\n",
    "    n1=num\n",
    "    sum1=0\n",
    "    while(num>0):\n",
    "        dig=num%10\n",
    "        sum1=sum1*10+dig\n",
    "        num=num//10\n",
    "    if sum1==n1:\n",
    "        return True\n",
    "    else:\n",
    "        return False\n",
    "def type1(num):\n",
    "    decimal=palindrome(num)\n",
    "    binary=bin(num).replace(\"0b\", \"\")\n",
    "    binary_palin=str(binary[::-1])\n",
    "    if decimal and binary_palin==binary:\n",
    "        print(\"Decimal and Binary\")\n",
    "    elif decimal:\n",
    "        print(\"Decimal Only\")\n",
    "    elif binary_palin==binary:\n",
    "        print(\"Binary only\")\n",
    "    \n",
    "    else:\n",
    "        print(\"Neither!\")\n",
    "    \n",
    "type1(934)     "
   ]
  },
  {
   "cell_type": "code",
   "execution_count": null,
   "metadata": {},
   "outputs": [],
   "source": []
  }
 ],
 "metadata": {
  "kernelspec": {
   "display_name": "Python 3",
   "language": "python",
   "name": "python3"
  },
  "language_info": {
   "codemirror_mode": {
    "name": "ipython",
    "version": 3
   },
   "file_extension": ".py",
   "mimetype": "text/x-python",
   "name": "python",
   "nbconvert_exporter": "python",
   "pygments_lexer": "ipython3",
   "version": "3.7.6"
  }
 },
 "nbformat": 4,
 "nbformat_minor": 4
}
