{
 "cells": [
  {
   "cell_type": "markdown",
   "metadata": {},
   "source": [
    "Question 1"
   ]
  },
  {
   "cell_type": "code",
   "execution_count": 15,
   "metadata": {},
   "outputs": [
    {
     "name": "stdout",
     "output_type": "stream",
     "text": [
      "The given list is concentric and the number of layers are 5\n"
     ]
    }
   ],
   "source": [
    "def layers(list1):\n",
    "    res=[]\n",
    "    count=0\n",
    "    c=0\n",
    "    flag=False\n",
    "    for i in list1:\n",
    "        count+=1\n",
    "        if i not in res:\n",
    "            res.append(i)\n",
    "    if list1[0]==list1[count-1]:\n",
    "        flag=True\n",
    "    for i in res:\n",
    "        c+=1\n",
    "    if flag:\n",
    "        print(\"The given list is concentric and the number of layers are {}\".format(c))\n",
    "    else:\n",
    "        print(\"The given list is not concentric\")\n",
    "layers([\n",
    "\"AAAAAAAAAAA\",\n",
    "\"AABBBBBBBAA\",\n",
    "\"AABCCCCCBAA\",\n",
    "\"AABCAAACBAA\",\n",
    "\"AABCADACBAA\",\n",
    "\"AABCAAACBAA\",\n",
    "\"AABCCCCCBAA\",\n",
    "\"AABBBBBBBAA\",\n",
    "\"AAAAAAAAAAA\"\n",
    "]) "
   ]
  },
  {
   "cell_type": "markdown",
   "metadata": {},
   "source": [
    "Question 2"
   ]
  },
  {
   "cell_type": "code",
   "execution_count": 30,
   "metadata": {},
   "outputs": [
    {
     "data": {
      "text/plain": [
       "9"
      ]
     },
     "execution_count": 30,
     "metadata": {},
     "output_type": "execute_result"
    }
   ],
   "source": [
    "def style(list1):\n",
    "    res=[]\n",
    "    c=0\n",
    "    for i in list1:\n",
    "        if i not in res:\n",
    "            if \",\" in i:\n",
    "                r=i.split(\",\")\n",
    "                for j in r:\n",
    "                    if j not in res:\n",
    "                        res.append(j)\n",
    "            else:\n",
    "                res.append(i)\n",
    "    for i in res:\n",
    "        c+=1\n",
    "    return c\n",
    "        \n",
    "style([\n",
    "    \"Dub,Dancehall\",\n",
    "\"Industrial,Heavy Metal\",\n",
    "\"Techno,Dubstep\",\n",
    "\"Synth-pop,Euro-Disco\",\n",
    "\"Industrial,Techno,Minimal\"\n",
    "])\n",
    "            "
   ]
  },
  {
   "cell_type": "code",
   "execution_count": 20,
   "metadata": {},
   "outputs": [
    {
     "ename": "SyntaxError",
     "evalue": "invalid syntax (<ipython-input-20-dbc7a56d6a70>, line 1)",
     "output_type": "error",
     "traceback": [
      "\u001b[1;36m  File \u001b[1;32m\"<ipython-input-20-dbc7a56d6a70>\"\u001b[1;36m, line \u001b[1;32m1\u001b[0m\n\u001b[1;33m    Question 3\u001b[0m\n\u001b[1;37m             ^\u001b[0m\n\u001b[1;31mSyntaxError\u001b[0m\u001b[1;31m:\u001b[0m invalid syntax\n"
     ]
    }
   ],
   "source": [
    "Question 3"
   ]
  },
  {
   "cell_type": "code",
   "execution_count": 43,
   "metadata": {},
   "outputs": [
    {
     "name": "stdout",
     "output_type": "stream",
     "text": [
      "Yes\n"
     ]
    }
   ],
   "source": [
    "def binary_search(arr, x):\n",
    "    low = 0\n",
    "    high = len(arr)-1\n",
    "    mid = 0\n",
    "\n",
    "\n",
    "    while low <= high:\n",
    "\n",
    "        mid = (high + low) // 2\n",
    "\n",
    "        if arr[mid] < x:\n",
    "            low = mid + 1\n",
    "        elif arr[mid] > x:\n",
    "            high = mid - 1\n",
    "\n",
    "        else:\n",
    "            return mid\n",
    "\n",
    "    return -1\n",
    "\n",
    "\n",
    "primes = [2, 3, 5, 7, 11, 13, 17, 19, 23, 29, 31, 37, 41, 43, 47, 53, 59, 61, 67,\n",
    "71, 73, 79, 83, 89, 97]\n",
    "\n",
    "\n",
    "# Function call\n",
    "result = binary_search(primes, 7)\n",
    "\n",
    "if result != -1:\n",
    "    print(\"Yes\")\n",
    "else:\n",
    "    print(\"No\")\n",
    "\n",
    " \n",
    "   "
   ]
  },
  {
   "cell_type": "markdown",
   "metadata": {},
   "source": [
    "Question 4"
   ]
  },
  {
   "cell_type": "code",
   "execution_count": 14,
   "metadata": {},
   "outputs": [
    {
     "name": "stdout",
     "output_type": "stream",
     "text": [
      "3\n"
     ]
    }
   ],
   "source": [
    "def power(a,b,c):\n",
    "    c1=0\n",
    "    for i in range(c+1):\n",
    "        pow=i**a\n",
    "        \n",
    "        if pow>=b and pow<=c:\n",
    "            c1+=1\n",
    "    print(c1)\n",
    "power(4,250,1300)"
   ]
  },
  {
   "cell_type": "markdown",
   "metadata": {},
   "source": [
    "Question 5"
   ]
  },
  {
   "cell_type": "code",
   "execution_count": 23,
   "metadata": {},
   "outputs": [
    {
     "name": "stdout",
     "output_type": "stream",
     "text": [
      "90981\n"
     ]
    }
   ],
   "source": [
    "def MaxMin(inum):\n",
    " \n",
    "    count = [0 for x in range(10)]\n",
    "   \n",
    "    string = str(num)\n",
    " \n",
    "    \n",
    "    for i in range(len(string)):\n",
    "        count[int(string[i])] = count[int(string[i])] +  1\n",
    "   \n",
    "    result = 0\n",
    "    multiplier = 1\n",
    " \n",
    " \n",
    "    for i in range(10):\n",
    "        while count[i] > 0:\n",
    "            result = result + ( i * multiplier )\n",
    "            count[i] = count[i] - 1\n",
    "            multiplier = multiplier * 10\n",
    "    maximum=result\n",
    "    m1=str(result)\n",
    "    m1=m1[::-1]\n",
    "    minimum=int(m1)\n",
    "    \n",
    "    return maximum-minimum\n",
    "num = 90010\n",
    "print(MaxMin(num))"
   ]
  },
  {
   "cell_type": "code",
   "execution_count": null,
   "metadata": {},
   "outputs": [],
   "source": []
  },
  {
   "cell_type": "code",
   "execution_count": null,
   "metadata": {},
   "outputs": [],
   "source": []
  }
 ],
 "metadata": {
  "kernelspec": {
   "display_name": "Python 3",
   "language": "python",
   "name": "python3"
  },
  "language_info": {
   "codemirror_mode": {
    "name": "ipython",
    "version": 3
   },
   "file_extension": ".py",
   "mimetype": "text/x-python",
   "name": "python",
   "nbconvert_exporter": "python",
   "pygments_lexer": "ipython3",
   "version": "3.7.6"
  }
 },
 "nbformat": 4,
 "nbformat_minor": 4
}
