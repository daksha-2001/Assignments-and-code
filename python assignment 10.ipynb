{
 "cells": [
  {
   "cell_type": "markdown",
   "id": "ff1ffb50",
   "metadata": {},
   "source": [
    "1. Write a Python program to find sum of elements in list?"
   ]
  },
  {
   "cell_type": "code",
   "execution_count": 36,
   "id": "46c7fd51",
   "metadata": {},
   "outputs": [
    {
     "data": {
      "text/plain": [
       "15"
      ]
     },
     "execution_count": 36,
     "metadata": {},
     "output_type": "execute_result"
    }
   ],
   "source": [
    "def func(lst):\n",
    "    s=0\n",
    "    for i in lst:\n",
    "        s+=i\n",
    "    return s\n",
    "func([1,2,3,4,5])"
   ]
  },
  {
   "cell_type": "markdown",
   "id": "0eeb0908",
   "metadata": {},
   "source": [
    "2. Write a Python program to Multiply all numbers in the list?"
   ]
  },
  {
   "cell_type": "code",
   "execution_count": 37,
   "id": "4eb2a135",
   "metadata": {},
   "outputs": [
    {
     "data": {
      "text/plain": [
       "120"
      ]
     },
     "execution_count": 37,
     "metadata": {},
     "output_type": "execute_result"
    }
   ],
   "source": [
    "def func(lst):\n",
    "    s=1\n",
    "    for i in lst:\n",
    "        s*=i\n",
    "    return s\n",
    "func([1,2,3,4,5])"
   ]
  },
  {
   "cell_type": "markdown",
   "id": "47654660",
   "metadata": {},
   "source": [
    "3. Write a Python program to find smallest number in a list?"
   ]
  },
  {
   "cell_type": "code",
   "execution_count": 38,
   "id": "14f3d2da",
   "metadata": {},
   "outputs": [
    {
     "data": {
      "text/plain": [
       "1"
      ]
     },
     "execution_count": 38,
     "metadata": {},
     "output_type": "execute_result"
    }
   ],
   "source": [
    "def func(lst):\n",
    "    s=lst[0]\n",
    "    for i in lst:\n",
    "        if i<s:\n",
    "            s=i\n",
    "    return s\n",
    "func([1,2,3,4,5])"
   ]
  },
  {
   "cell_type": "markdown",
   "id": "a12c03a6",
   "metadata": {},
   "source": [
    "4. Write a Python program to find largest number in a list?"
   ]
  },
  {
   "cell_type": "code",
   "execution_count": 39,
   "id": "7f3b5919",
   "metadata": {},
   "outputs": [
    {
     "data": {
      "text/plain": [
       "5"
      ]
     },
     "execution_count": 39,
     "metadata": {},
     "output_type": "execute_result"
    }
   ],
   "source": [
    "def func(lst):\n",
    "    s=lst[0]\n",
    "    for i in lst:\n",
    "        if i>s:\n",
    "            s=i\n",
    "    return s\n",
    "func([1,2,3,4,5])"
   ]
  },
  {
   "cell_type": "markdown",
   "id": "073b4d99",
   "metadata": {},
   "source": [
    "5. Write a Python program to find second largest number in a list?"
   ]
  },
  {
   "cell_type": "code",
   "execution_count": 40,
   "id": "79309e6a",
   "metadata": {},
   "outputs": [
    {
     "data": {
      "text/plain": [
       "4"
      ]
     },
     "execution_count": 40,
     "metadata": {},
     "output_type": "execute_result"
    }
   ],
   "source": [
    "def func(lst):\n",
    "    s=sorted(lst)\n",
    "    s=s[::-1]\n",
    "    s1=s[1]\n",
    "    return s1\n",
    "func([1,2,3,4,5])"
   ]
  },
  {
   "cell_type": "markdown",
   "id": "afa71fd1",
   "metadata": {},
   "source": [
    "6. Write a Python program to find N largest elements from a list?"
   ]
  },
  {
   "cell_type": "code",
   "execution_count": 41,
   "id": "c08d7b7d",
   "metadata": {},
   "outputs": [
    {
     "data": {
      "text/plain": [
       "([89, 5, 3, 2, 1], 5)"
      ]
     },
     "execution_count": 41,
     "metadata": {},
     "output_type": "execute_result"
    }
   ],
   "source": [
    "def func(lst,n):\n",
    "    for i in range(len(lst)):\n",
    "        for j in range(i+1,len(lst)):\n",
    "            if lst[i]>lst[j]:\n",
    "                temp=lst[i]\n",
    "                lst[i]=lst[j]\n",
    "                lst[j]=temp\n",
    "            else:\n",
    "                continue\n",
    "    lst=lst[::-1]\n",
    "    return lst,lst[n]\n",
    "func([3,2,5,89,1],1)      "
   ]
  },
  {
   "cell_type": "markdown",
   "id": "6eb2ebde",
   "metadata": {},
   "source": [
    "7. Write a Python program to print even numbers in a list?"
   ]
  },
  {
   "cell_type": "code",
   "execution_count": 42,
   "id": "28bc4d80",
   "metadata": {},
   "outputs": [
    {
     "data": {
      "text/plain": [
       "[2]"
      ]
     },
     "execution_count": 42,
     "metadata": {},
     "output_type": "execute_result"
    }
   ],
   "source": [
    "def func(lst):\n",
    "    res=[]\n",
    "    for i in lst:\n",
    "        if i%2==0:\n",
    "            res.append(i)\n",
    "    return res\n",
    "func([3,2,5,89,1])      "
   ]
  },
  {
   "cell_type": "markdown",
   "id": "b183219d",
   "metadata": {},
   "source": [
    "8. Write a Python program to print odd numbers in a List?"
   ]
  },
  {
   "cell_type": "code",
   "execution_count": 43,
   "id": "3d85f815",
   "metadata": {},
   "outputs": [
    {
     "data": {
      "text/plain": [
       "[3, 5, 89, 1]"
      ]
     },
     "execution_count": 43,
     "metadata": {},
     "output_type": "execute_result"
    }
   ],
   "source": [
    "def func(lst):\n",
    "    res=[]\n",
    "    for i in lst:\n",
    "        if i%2!=0:\n",
    "            res.append(i)\n",
    "    return res\n",
    "func([3,2,5,89,1])      "
   ]
  },
  {
   "cell_type": "markdown",
   "id": "f0a664a0",
   "metadata": {},
   "source": [
    "9. Write a Python program to Remove empty List from List?"
   ]
  },
  {
   "cell_type": "code",
   "execution_count": 44,
   "id": "a9146792",
   "metadata": {},
   "outputs": [
    {
     "data": {
      "text/plain": [
       "[[3, 2], [5, 89, 1]]"
      ]
     },
     "execution_count": 44,
     "metadata": {},
     "output_type": "execute_result"
    }
   ],
   "source": [
    "def func(lst):\n",
    "    res=[]\n",
    "    for i in lst:\n",
    "        if not i:\n",
    "            continue\n",
    "        else:\n",
    "            res.append(i)\n",
    "    return res\n",
    "func([[3,2],[5,89,1],[]])      "
   ]
  },
  {
   "cell_type": "markdown",
   "id": "a6a74ae3",
   "metadata": {},
   "source": [
    "10. Write a Python program to Cloning or Copying a list?"
   ]
  },
  {
   "cell_type": "code",
   "execution_count": 45,
   "id": "8c94244a",
   "metadata": {},
   "outputs": [
    {
     "data": {
      "text/plain": [
       "[[3, 2], [5, 89, 1], []]"
      ]
     },
     "execution_count": 45,
     "metadata": {},
     "output_type": "execute_result"
    }
   ],
   "source": [
    "def func(lst):\n",
    "    res=lst[:]\n",
    "    return res\n",
    "func([[3,2],[5,89,1],[]])      "
   ]
  },
  {
   "cell_type": "markdown",
   "id": "0cab04f1",
   "metadata": {},
   "source": [
    "11. Write a Python program to Count occurrences of an element in a list?"
   ]
  },
  {
   "cell_type": "code",
   "execution_count": 46,
   "id": "a6b3d9ea",
   "metadata": {},
   "outputs": [
    {
     "data": {
      "text/plain": [
       "{3: 2, 2: 2, 1: 1, 5: 1, 6: 1, 7: 1}"
      ]
     },
     "execution_count": 46,
     "metadata": {},
     "output_type": "execute_result"
    }
   ],
   "source": [
    "def func(lst):\n",
    "    d={}\n",
    "    for i in lst:\n",
    "        d[i]=d.get(i,0)+1\n",
    "    return d\n",
    "func([3,2,3,2,1,5,6,7])      "
   ]
  },
  {
   "cell_type": "code",
   "execution_count": null,
   "id": "d85efb25",
   "metadata": {},
   "outputs": [],
   "source": []
  }
 ],
 "metadata": {
  "kernelspec": {
   "display_name": "Python 3",
   "language": "python",
   "name": "python3"
  },
  "language_info": {
   "codemirror_mode": {
    "name": "ipython",
    "version": 3
   },
   "file_extension": ".py",
   "mimetype": "text/x-python",
   "name": "python",
   "nbconvert_exporter": "python",
   "pygments_lexer": "ipython3",
   "version": "3.8.8"
  }
 },
 "nbformat": 4,
 "nbformat_minor": 5
}
