{
 "cells": [
  {
   "cell_type": "markdown",
   "id": "92d11c44",
   "metadata": {},
   "source": [
    "1. Write a Python program to check if the given number is a Disarium Number?"
   ]
  },
  {
   "cell_type": "code",
   "execution_count": 12,
   "id": "ddc1217d",
   "metadata": {},
   "outputs": [
    {
     "data": {
      "text/plain": [
       "False"
      ]
     },
     "execution_count": 12,
     "metadata": {},
     "output_type": "execute_result"
    }
   ],
   "source": [
    "def func(num):\n",
    "    s=str(num)\n",
    "    s1=0\n",
    "    for i in range(len(s)):\n",
    "        s1+=int(s[i])**(i+1)\n",
    "    if s1==num:\n",
    "        return True\n",
    "    else:\n",
    "        return False\n",
    "\n",
    "func(17)"
   ]
  },
  {
   "cell_type": "markdown",
   "id": "0ac1cd55",
   "metadata": {},
   "source": [
    "2. Write a Python program to print all disarium numbers between 1 to 100?"
   ]
  },
  {
   "cell_type": "code",
   "execution_count": 15,
   "id": "c55e471a",
   "metadata": {},
   "outputs": [
    {
     "name": "stdout",
     "output_type": "stream",
     "text": [
      "1\n",
      "2\n",
      "3\n",
      "4\n",
      "5\n",
      "6\n",
      "7\n",
      "8\n",
      "9\n",
      "89\n"
     ]
    }
   ],
   "source": [
    "for i in range(1,101):\n",
    "    s=str(i)\n",
    "    s1=0\n",
    "    for j in range(len(s)):\n",
    "        s1+=int(s[j])**(j+1)\n",
    "    if s1==i:\n",
    "        print(s1)"
   ]
  },
  {
   "cell_type": "markdown",
   "id": "8fd8e1d9",
   "metadata": {},
   "source": [
    "3. Write a Python program to check if the given number is Happy Number?"
   ]
  },
  {
   "cell_type": "code",
   "execution_count": 8,
   "id": "b3b9a060",
   "metadata": {},
   "outputs": [
    {
     "data": {
      "text/plain": [
       "True"
      ]
     },
     "execution_count": 8,
     "metadata": {},
     "output_type": "execute_result"
    }
   ],
   "source": [
    "def func(num):\n",
    "    \n",
    "    for i in range(4):\n",
    "        n=str(num)\n",
    "        s=0\n",
    "        for j in n:\n",
    "            s+=int(j)**2\n",
    "        num=s\n",
    "    if num==1:\n",
    "        return True\n",
    "    else:\n",
    "        return False\n",
    "func(28)        "
   ]
  },
  {
   "cell_type": "markdown",
   "id": "e3d9b21c",
   "metadata": {},
   "source": [
    "4. Write a Python program to print all happy numbers between 1 and 100?"
   ]
  },
  {
   "cell_type": "code",
   "execution_count": 7,
   "id": "03078541",
   "metadata": {},
   "outputs": [
    {
     "name": "stdout",
     "output_type": "stream",
     "text": [
      "1\n",
      "10\n",
      "13\n",
      "19\n",
      "23\n",
      "28\n",
      "31\n",
      "32\n",
      "44\n",
      "49\n",
      "68\n",
      "79\n",
      "82\n",
      "86\n",
      "91\n",
      "94\n",
      "97\n",
      "100\n"
     ]
    }
   ],
   "source": [
    "def func(num):\n",
    "    ognum=num\n",
    "    for i in range(4):\n",
    "        n=str(num)\n",
    "        s=0\n",
    "        for j in n:\n",
    "            s+=int(j)**2\n",
    "        num=s\n",
    "    if num==1:\n",
    "        return ognum\n",
    "    else:\n",
    "        return 0\n",
    "def func1():\n",
    "    for i in range(1,101):\n",
    "        num=func(i)\n",
    "        if num>0:\n",
    "            print(num)\n",
    "func1()"
   ]
  },
  {
   "cell_type": "markdown",
   "id": "33f55fce",
   "metadata": {},
   "source": [
    "5. Write a Python program to determine whether the given number is a Harshad Number?"
   ]
  },
  {
   "cell_type": "code",
   "execution_count": 13,
   "id": "c261d3ba",
   "metadata": {},
   "outputs": [
    {
     "data": {
      "text/plain": [
       "True"
      ]
     },
     "execution_count": 13,
     "metadata": {},
     "output_type": "execute_result"
    }
   ],
   "source": [
    "def func(num):\n",
    "    s=str(num)\n",
    "    s1=0\n",
    "    for i in s:\n",
    "        s1+=int(i)\n",
    "    if num%s1==0:\n",
    "        return True\n",
    "    else:\n",
    "        return False\n",
    "func(18)"
   ]
  },
  {
   "cell_type": "markdown",
   "id": "be1c1d62",
   "metadata": {},
   "source": [
    "6. Write a Python program to print all pronic numbers between 1 and 100"
   ]
  },
  {
   "cell_type": "code",
   "execution_count": 15,
   "id": "9909a7a2",
   "metadata": {},
   "outputs": [
    {
     "name": "stdout",
     "output_type": "stream",
     "text": [
      "0\n",
      "2\n",
      "6\n",
      "12\n",
      "20\n",
      "30\n",
      "42\n",
      "56\n",
      "72\n",
      "90\n"
     ]
    }
   ],
   "source": [
    "import math\n",
    "\n",
    "\n",
    "def checkPronic (x) :\n",
    "\n",
    "    i = 0\n",
    "    while ( i <= (int)(math.sqrt(x)) ) :\n",
    "\n",
    "        if ( x == i * (i + 1)) :\n",
    "            return True\n",
    "        i = i + 1\n",
    "\n",
    "    return False\n",
    "\n",
    "i = 0\n",
    "while (i <= 100 ) :\n",
    "    if checkPronic(i) :\n",
    "        print(i)\n",
    "    i = i + 1\n",
    "\n"
   ]
  },
  {
   "cell_type": "code",
   "execution_count": null,
   "id": "766d3fb6",
   "metadata": {},
   "outputs": [],
   "source": []
  }
 ],
 "metadata": {
  "kernelspec": {
   "display_name": "Python 3",
   "language": "python",
   "name": "python3"
  },
  "language_info": {
   "codemirror_mode": {
    "name": "ipython",
    "version": 3
   },
   "file_extension": ".py",
   "mimetype": "text/x-python",
   "name": "python",
   "nbconvert_exporter": "python",
   "pygments_lexer": "ipython3",
   "version": "3.8.8"
  }
 },
 "nbformat": 4,
 "nbformat_minor": 5
}
