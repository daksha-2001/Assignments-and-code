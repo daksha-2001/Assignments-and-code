{
 "cells": [
  {
   "cell_type": "markdown",
   "metadata": {},
   "source": [
    "1. Create a function that takes the width, height and character and returns a picture frame as a 2D list."
   ]
  },
  {
   "cell_type": "code",
   "execution_count": 19,
   "metadata": {},
   "outputs": [
    {
     "data": {
      "text/plain": [
       "[['####'], ['#  #'], ['#  #'], ['#  #'], ['####']]"
      ]
     },
     "execution_count": 19,
     "metadata": {},
     "output_type": "execute_result"
    }
   ],
   "source": [
    "def get_frame(m,n,c):\n",
    "    res=[]\n",
    "    char=[c*m]\n",
    "    if m==2:\n",
    "        return \"invalid\"\n",
    "    for i in range(n):\n",
    "        if i ==0 or i==n-1:\n",
    "            res.append(char)\n",
    "            \n",
    "        else:\n",
    "            r=\"\"\n",
    "            for i in range(m):\n",
    "                if i==0 or i==m-1:\n",
    "                    r+=c\n",
    "                else:\n",
    "                    r+=\" \"\n",
    "            res.append([r])\n",
    "    \n",
    "    return res\n",
    "get_frame(4,5,\"#\")"
   ]
  },
  {
   "cell_type": "markdown",
   "metadata": {},
   "source": [
    "2. Write three functions:\n",
    "    1. boolean_and\n",
    "    2. boolean_or\n",
    "    3. boolean_xor    \n",
    "These functions should evaluate a list of True and False values, starting from\n",
    "the leftmost element and evaluating pairwise."
   ]
  },
  {
   "cell_type": "code",
   "execution_count": 56,
   "metadata": {},
   "outputs": [
    {
     "data": {
      "text/plain": [
       "True"
      ]
     },
     "execution_count": 56,
     "metadata": {},
     "output_type": "execute_result"
    }
   ],
   "source": [
    "def bool_and(lst):\n",
    "    res=lst[0]\n",
    "    for i in range(len(lst)):\n",
    "        res=res and lst[i]\n",
    "    return res\n",
    "def bool_or(lst):\n",
    "    res=lst[0]\n",
    "    for i in range(len(lst)):\n",
    "        res=res or lst[i]\n",
    "    return res\n",
    "def bool_xor(lst):\n",
    "    res=lst[0]\n",
    "    for i in range(len(lst)):\n",
    "        if res==True and i==True:\n",
    "            res=False\n",
    "        elif res==True and i==False:\n",
    "            res==True\n",
    "        elif res==False and i==True:\n",
    "            res=True\n",
    "        else:\n",
    "            res=False\n",
    "    return res\n",
    "        \n",
    "bool_xor([False,True])\n",
    "            "
   ]
  },
  {
   "cell_type": "markdown",
   "metadata": {},
   "source": [
    "3.Create a function that creates a box based on dimension n."
   ]
  },
  {
   "cell_type": "code",
   "execution_count": 63,
   "metadata": {},
   "outputs": [
    {
     "data": {
      "text/plain": [
       "['###', '# #', '###']"
      ]
     },
     "execution_count": 63,
     "metadata": {},
     "output_type": "execute_result"
    }
   ],
   "source": [
    "def get_frame(m):\n",
    "    res=[]\n",
    "    char=\"#\"*m\n",
    "    for i in range(m):\n",
    "        if i ==0 or i==m-1:\n",
    "            res.append(char)\n",
    "            \n",
    "        else:\n",
    "            r=\"\"\n",
    "            for i in range(m):\n",
    "                if i==0 or i==m-1:\n",
    "                    r+=\"#\"\n",
    "                else:\n",
    "                    r+=\" \"\n",
    "            res.append(r)\n",
    "    \n",
    "    return res\n",
    "get_frame(3)"
   ]
  },
  {
   "cell_type": "markdown",
   "metadata": {},
   "source": [
    "4. Given a common phrase, return False if any individual word in the phrase\n",
    "contains duplicate letters. Return True otherwise."
   ]
  },
  {
   "cell_type": "code",
   "execution_count": 90,
   "metadata": {},
   "outputs": [],
   "source": [
    "def dup_letters(string):\n",
    "    s=string.lower()\n",
    "    r=[]\n",
    "    res=s.split(\" \")\n",
    "    d={}\n",
    "    for i in res:\n",
    "        d[i]=0\n",
    "    for i in d.keys():\n",
    "        c=0\n",
    "        r=[]\n",
    "        for j in i:\n",
    "            if j not in r:\n",
    "                r.append(j)\n",
    "            else:\n",
    "                c+=1\n",
    "        d[i]=c\n",
    "        if d[i]>0:\n",
    "            return False\n",
    "        else:\n",
    "            return True\n",
    "                        \n",
    "dup_letters(\"Fortune favours the bold\")                "
   ]
  },
  {
   "cell_type": "markdown",
   "metadata": {},
   "source": [
    "5. Write a regular expression that will match the states that voted yes to\n",
    "President Trump&#39;s impeachment. You must use RegEx positive lookahead."
   ]
  },
  {
   "cell_type": "code",
   "execution_count": 13,
   "metadata": {},
   "outputs": [
    {
     "name": "stdout",
     "output_type": "stream",
     "text": [
      "['California', 'Florida']\n"
     ]
    }
   ],
   "source": [
    "import re\n",
    "txt =\"Texas = no, California = yes, Florida = yes, Michigan = no\"\n",
    "pattern=re.compile(\"\\w+(?=\\s=\\syes)\")\n",
    "print(re.findall(pattern, txt))"
   ]
  },
  {
   "cell_type": "code",
   "execution_count": null,
   "metadata": {},
   "outputs": [],
   "source": []
  }
 ],
 "metadata": {
  "kernelspec": {
   "display_name": "Python 3",
   "language": "python",
   "name": "python3"
  },
  "language_info": {
   "codemirror_mode": {
    "name": "ipython",
    "version": 3
   },
   "file_extension": ".py",
   "mimetype": "text/x-python",
   "name": "python",
   "nbconvert_exporter": "python",
   "pygments_lexer": "ipython3",
   "version": "3.7.6"
  }
 },
 "nbformat": 4,
 "nbformat_minor": 4
}
