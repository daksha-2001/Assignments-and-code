{
 "cells": [
  {
   "cell_type": "markdown",
   "id": "d9ebfc15",
   "metadata": {},
   "source": [
    "Question 1\n",
    "\n",
    "Create a function that takes a list of non-negative integers and strings and return a new list\n",
    "without the strings."
   ]
  },
  {
   "cell_type": "code",
   "execution_count": 5,
   "id": "5e8590c0",
   "metadata": {},
   "outputs": [
    {
     "data": {
      "text/plain": [
       "[1, 2]"
      ]
     },
     "execution_count": 5,
     "metadata": {},
     "output_type": "execute_result"
    }
   ],
   "source": [
    "def filter_list(lst):\n",
    "    res=[i for i in lst if type(i)==int]\n",
    "    res=[i for i in res if i>0]\n",
    "    return res\n",
    "filter_list([1, 2,\"a\",\"b\",-3])"
   ]
  },
  {
   "cell_type": "markdown",
   "id": "094ffbd8",
   "metadata": {},
   "source": [
    "Question 2\n",
    "\n",
    "The \"Reverser\" takes a string as input and returns that string in reverse order, with the\n",
    "opposite case."
   ]
  },
  {
   "cell_type": "code",
   "execution_count": 22,
   "id": "20cb7683",
   "metadata": {},
   "outputs": [
    {
     "data": {
      "text/plain": [
       "'DLROw OLLEh'"
      ]
     },
     "execution_count": 22,
     "metadata": {},
     "output_type": "execute_result"
    }
   ],
   "source": [
    "def reverse(string):\n",
    "    res=\"\"\n",
    "    for i in range(len(string)):\n",
    "        if string[i].isupper():\n",
    "            res+=string[i].lower()\n",
    "            \n",
    "        else:\n",
    "            res+=string[i].upper()\n",
    "    res=res[::-1]\n",
    "    \n",
    "    return res\n",
    "    \n",
    "reverse(\"Hello World\")"
   ]
  },
  {
   "cell_type": "markdown",
   "id": "c3750b84",
   "metadata": {},
   "source": [
    "Question 3\n",
    "\n",
    "Your task is to unpack the list writeyourcodehere into three variables, being first,\n",
    "middle, and last, with middle being everything in between the first and last element. Then\n",
    "print all three variables."
   ]
  },
  {
   "cell_type": "code",
   "execution_count": 24,
   "id": "28fb2d5f",
   "metadata": {},
   "outputs": [
    {
     "name": "stdout",
     "output_type": "stream",
     "text": [
      "first: 1 middle: [2, 3, 4] last: 5\n"
     ]
    }
   ],
   "source": [
    "def lst(l):\n",
    "    first=l[0]\n",
    "    middle=l[1:-1]\n",
    "    last=l[-1]\n",
    "    print(\"first:\",first,\"middle:\",middle,\"last:\",last)\n",
    "lst([1,2,3,4,5])"
   ]
  },
  {
   "cell_type": "code",
   "execution_count": 33,
   "id": "393c94ea",
   "metadata": {},
   "outputs": [
    {
     "data": {
      "text/plain": [
       "120"
      ]
     },
     "execution_count": 33,
     "metadata": {},
     "output_type": "execute_result"
    }
   ],
   "source": [
    "def recur_factorial(n):\n",
    "    if n == 1:\n",
    "        return n\n",
    "    elif n == 0:\n",
    "        return n\n",
    "    else:\n",
    "        return n*recur_factorial(n-1)\n",
    "\n",
    "recur_factorial(5)"
   ]
  },
  {
   "cell_type": "markdown",
   "id": "e9a07752",
   "metadata": {},
   "source": [
    "Question 5\n",
    "\n",
    "Write a function that moves all elements of one type to the end of the list."
   ]
  },
  {
   "cell_type": "code",
   "execution_count": 42,
   "id": "5e2f3ead",
   "metadata": {},
   "outputs": [
    {
     "data": {
      "text/plain": [
       "[7, 8, 1, 2, 3, 4, 9]"
      ]
     },
     "execution_count": 42,
     "metadata": {},
     "output_type": "execute_result"
    }
   ],
   "source": [
    "def move_to_end(lst,num):\n",
    "    res=[]\n",
    "    c=0\n",
    "    for i in lst:\n",
    "        if i==num:\n",
    "            c+=1\n",
    "        else:\n",
    "            res.append(i)\n",
    "    r=[num]*c\n",
    "    for i in r:\n",
    "        res.append(i)\n",
    "    return res\n",
    "            \n",
    "move_to_end([7, 8, 9, 1, 2, 3, 4], 9)"
   ]
  },
  {
   "cell_type": "code",
   "execution_count": null,
   "id": "0c932d15",
   "metadata": {},
   "outputs": [],
   "source": []
  }
 ],
 "metadata": {
  "kernelspec": {
   "display_name": "Python 3",
   "language": "python",
   "name": "python3"
  },
  "language_info": {
   "codemirror_mode": {
    "name": "ipython",
    "version": 3
   },
   "file_extension": ".py",
   "mimetype": "text/x-python",
   "name": "python",
   "nbconvert_exporter": "python",
   "pygments_lexer": "ipython3",
   "version": "3.8.8"
  }
 },
 "nbformat": 4,
 "nbformat_minor": 5
}
