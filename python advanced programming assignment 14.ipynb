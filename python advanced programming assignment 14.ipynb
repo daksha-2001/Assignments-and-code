{
 "cells": [
  {
   "cell_type": "code",
   "execution_count": 5,
   "metadata": {},
   "outputs": [
    {
     "data": {
      "text/plain": [
       "[12.0, 7.5, 14.5]"
      ]
     },
     "execution_count": 5,
     "metadata": {},
     "output_type": "execute_result"
    }
   ],
   "source": [
    "def show_the_love(lst):\n",
    "    r=[]\n",
    "    sub=[]\n",
    "    sum_sub=0\n",
    "    r1=lst[0]\n",
    "    for i in lst:\n",
    "        if i<r1:\n",
    "            r1=i\n",
    "    for i in range(len(lst)):\n",
    "        if lst[i]==r1:\n",
    "            r.append(lst[i])\n",
    "        else:\n",
    "            data=0.75*lst[i]\n",
    "            r.append(data)\n",
    "    for i in range(len(lst)):\n",
    "        data=lst[i]-r[i]\n",
    "        sub.append(data)\n",
    "    for i in range(len(r)):\n",
    "        if r[i]==r1:\n",
    "            for j in sub:\n",
    "                sum_sub+=j\n",
    "            r[i]+=sum_sub\n",
    "                \n",
    "    return r\n",
    "        \n",
    "show_the_love([16,10,8])\n",
    "            \n",
    "        "
   ]
  },
  {
   "cell_type": "code",
   "execution_count": 25,
   "metadata": {},
   "outputs": [
    {
     "data": {
      "text/plain": [
       "['ahm', 'ct', '']"
      ]
     },
     "execution_count": 25,
     "metadata": {},
     "output_type": "execute_result"
    }
   ],
   "source": [
    "def letter(s1,s2):\n",
    "    same=\"\"\n",
    "    d1=\"\"\n",
    "    d2=\"\"\n",
    "    for i in s1:\n",
    "        for j in s2:\n",
    "            if i==j:\n",
    "                same+=i\n",
    "    s=sorted(same)\n",
    "    no_dup=\"\"\n",
    "    for i in s:\n",
    "        if i not in no_dup:\n",
    "            no_dup+=i\n",
    "    same=\"\"\n",
    "    for i in s:\n",
    "        same+=i\n",
    "    \n",
    "    for i in s1:\n",
    "        if i not in same:\n",
    "            if i not in d1:\n",
    "                d1+=i\n",
    "\n",
    "    for i in s2:\n",
    "        if i not in same:\n",
    "            if i not in d2:\n",
    "                d2+=i\n",
    "    res=[]\n",
    "    res.append(no_dup)\n",
    "    d11=sorted(d1)\n",
    "    d21=sorted(d2)\n",
    "    d1=\"\"\n",
    "    d2=\"\"\n",
    "    for i in d11:\n",
    "        d1+=i\n",
    "    for i in d21:\n",
    "        d2+=i\n",
    "    res.append(d1)\n",
    "    res.append(d2)\n",
    "        \n",
    "        \n",
    "        \n",
    "    return res\n",
    "letter(\"match\", \"ham\")"
   ]
  },
  {
   "cell_type": "code",
   "execution_count": 34,
   "metadata": {},
   "outputs": [
    {
     "data": {
      "text/plain": [
       "[]"
      ]
     },
     "execution_count": 34,
     "metadata": {},
     "output_type": "execute_result"
    }
   ],
   "source": [
    "def pairs(lst):\n",
    "    if not lst:\n",
    "        res=[]\n",
    "    l=lst[::-1]\n",
    "    res=[]\n",
    "    \n",
    "    for i in range(len(lst)):\n",
    "        if [l[i],lst[i]] not in res:\n",
    "            res.append([lst[i],l[i]])\n",
    "        \n",
    "    return res\n",
    "pairs([])"
   ]
  },
  {
   "cell_type": "code",
   "execution_count": 48,
   "metadata": {},
   "outputs": [
    {
     "data": {
      "text/plain": [
       "'-1'"
      ]
     },
     "execution_count": 48,
     "metadata": {},
     "output_type": "execute_result"
    }
   ],
   "source": [
    "def add_str_nums(str1,str2):\n",
    "    if str1==\"\":\n",
    "        return str2\n",
    "    elif str2==\"\":\n",
    "        return str1\n",
    "    elif str1.isnumeric() and str2.isnumeric():\n",
    "        s1=int(str1)\n",
    "        s2=int(str2)\n",
    "        return str(s1+s2)\n",
    "    else:\n",
    "        return \"-1\"\n",
    "        \n",
    "add_str_nums(\"abcdefg\",\"3\")"
   ]
  },
  {
   "cell_type": "code",
   "execution_count": 53,
   "metadata": {},
   "outputs": [
    {
     "name": "stdout",
     "output_type": "stream",
     "text": [
      "35\n",
      "ds\n"
     ]
    },
    {
     "data": {
      "text/plain": [
       "'Please help me unmix these strings!'"
      ]
     },
     "execution_count": 53,
     "metadata": {},
     "output_type": "execute_result"
    }
   ],
   "source": [
    "def unmix(string):\n",
    "    i=0\n",
    "    res=\"\"\n",
    "    print(len(string))\n",
    "    if len(string)%2==0:\n",
    "        while i<len(string):\n",
    "            \n",
    "            res+=string[i+1]\n",
    "            res+=string[i]\n",
    "            i+=2\n",
    "    else:\n",
    "        while i<len(string)-1:\n",
    "            res+=string[i+1]\n",
    "            res+=string[i]\n",
    "            i+=2\n",
    "            \n",
    "        res+=string[-1]\n",
    "        print(\"ds\")\n",
    "    return res\n",
    "unmix(\"lPaeesh le pemu mnxit ehess rtnisg!\")\n",
    "        "
   ]
  },
  {
   "cell_type": "code",
   "execution_count": null,
   "metadata": {},
   "outputs": [],
   "source": []
  },
  {
   "cell_type": "code",
   "execution_count": null,
   "metadata": {},
   "outputs": [],
   "source": []
  }
 ],
 "metadata": {
  "kernelspec": {
   "display_name": "Python 3",
   "language": "python",
   "name": "python3"
  },
  "language_info": {
   "codemirror_mode": {
    "name": "ipython",
    "version": 3
   },
   "file_extension": ".py",
   "mimetype": "text/x-python",
   "name": "python",
   "nbconvert_exporter": "python",
   "pygments_lexer": "ipython3",
   "version": "3.7.6"
  }
 },
 "nbformat": 4,
 "nbformat_minor": 4
}
