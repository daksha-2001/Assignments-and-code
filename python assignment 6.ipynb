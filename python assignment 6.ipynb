{
 "cells": [
  {
   "cell_type": "markdown",
   "id": "07bc2bed",
   "metadata": {},
   "source": [
    " Write a Python Program to Display Fibonacci Sequence Using Recursion?"
   ]
  },
  {
   "cell_type": "code",
   "execution_count": 9,
   "id": "d17439ac",
   "metadata": {},
   "outputs": [
    {
     "name": "stdout",
     "output_type": "stream",
     "text": [
      "Fibonacci sequence:\n",
      "0\n",
      "1\n",
      "1\n",
      "2\n",
      "3\n",
      "5\n",
      "8\n",
      "13\n",
      "21\n",
      "34\n"
     ]
    }
   ],
   "source": [
    "def recur_fibo(n):\n",
    "    if n <= 1:\n",
    "        return n\n",
    "    else:\n",
    "        return(recur_fibo(n-1) + recur_fibo(n-2))\n",
    "\n",
    "nterms = 10\n",
    "\n",
    "if nterms <= 0:\n",
    "    print(\"Plese enter a positive integer\")\n",
    "else:\n",
    "    print(\"Fibonacci sequence:\")\n",
    "    for i in range(nterms):\n",
    "        print(recur_fibo(i))\n"
   ]
  },
  {
   "cell_type": "markdown",
   "id": "0d9ddc95",
   "metadata": {},
   "source": [
    "2. Write a Python Program to Find Factorial of Number Using Recursion?\n"
   ]
  },
  {
   "cell_type": "code",
   "execution_count": 11,
   "id": "f60943db",
   "metadata": {},
   "outputs": [
    {
     "data": {
      "text/plain": [
       "120"
      ]
     },
     "execution_count": 11,
     "metadata": {},
     "output_type": "execute_result"
    }
   ],
   "source": [
    "def func(num):\n",
    "    if num==1:\n",
    "        fact=1\n",
    "    else:\n",
    "        fact=num*func(num-1)\n",
    "    return fact\n",
    "func(5)\n"
   ]
  },
  {
   "cell_type": "markdown",
   "id": "9ae72692",
   "metadata": {},
   "source": [
    "3. Write a Python Program to calculate your Body Mass Index?"
   ]
  },
  {
   "cell_type": "code",
   "execution_count": 12,
   "id": "3dfd0f0a",
   "metadata": {},
   "outputs": [
    {
     "name": "stdout",
     "output_type": "stream",
     "text": [
      "Input your height in Feet: 5\n",
      "Input your weight in Kilogram: 67\n",
      "Your body mass index is:  2.68\n"
     ]
    }
   ],
   "source": [
    "height = float(input(\"Input your height in Feet: \"))\n",
    "weight = float(input(\"Input your weight in Kilogram: \"))\n",
    "print(\"Your body mass index is: \", round(weight / (height * height), 2))"
   ]
  },
  {
   "cell_type": "markdown",
   "id": "789ac507",
   "metadata": {},
   "source": [
    "4. Write a Python Program to calculate the natural logarithm of any number?"
   ]
  },
  {
   "cell_type": "code",
   "execution_count": 14,
   "id": "e63dbe17",
   "metadata": {},
   "outputs": [
    {
     "name": "stdout",
     "output_type": "stream",
     "text": [
      "Enter a number6\n",
      "1.791759469228055\n"
     ]
    }
   ],
   "source": [
    "import math\n",
    "num=int(input(\"Enter a number\"))\n",
    "print(math.log(num))"
   ]
  },
  {
   "cell_type": "markdown",
   "id": "0c1b9898",
   "metadata": {},
   "source": [
    " Write a Python Program for cube sum of first n natural numbers?"
   ]
  },
  {
   "cell_type": "code",
   "execution_count": 17,
   "id": "9398a2b3",
   "metadata": {},
   "outputs": [
    {
     "data": {
      "text/plain": [
       "225"
      ]
     },
     "execution_count": 17,
     "metadata": {},
     "output_type": "execute_result"
    }
   ],
   "source": [
    "def func(num):\n",
    "    s=0\n",
    "    for i in range(num+1):\n",
    "        cube=i*i*i\n",
    "        s+=cube\n",
    "    return s\n",
    "func(5)"
   ]
  },
  {
   "cell_type": "code",
   "execution_count": null,
   "id": "f9c61be4",
   "metadata": {},
   "outputs": [],
   "source": []
  }
 ],
 "metadata": {
  "kernelspec": {
   "display_name": "Python 3",
   "language": "python",
   "name": "python3"
  },
  "language_info": {
   "codemirror_mode": {
    "name": "ipython",
    "version": 3
   },
   "file_extension": ".py",
   "mimetype": "text/x-python",
   "name": "python",
   "nbconvert_exporter": "python",
   "pygments_lexer": "ipython3",
   "version": "3.8.8"
  }
 },
 "nbformat": 4,
 "nbformat_minor": 5
}
