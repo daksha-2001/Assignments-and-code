{
 "cells": [
  {
   "cell_type": "markdown",
   "metadata": {},
   "source": [
    "Question 1"
   ]
  },
  {
   "cell_type": "code",
   "execution_count": 23,
   "metadata": {},
   "outputs": [
    {
     "data": {
      "text/plain": [
       "8"
      ]
     },
     "execution_count": 23,
     "metadata": {},
     "output_type": "execute_result"
    }
   ],
   "source": [
    "def func(n):\n",
    "    n_type = (8, 2) \n",
    "    return n_type[n%2] \n",
    "func(2)\n"
   ]
  },
  {
   "cell_type": "markdown",
   "metadata": {},
   "source": [
    "Question 2"
   ]
  },
  {
   "cell_type": "code",
   "execution_count": 24,
   "metadata": {},
   "outputs": [
    {
     "name": "stdout",
     "output_type": "stream",
     "text": [
      "A\n"
     ]
    }
   ],
   "source": [
    "def findMajority(arr):\n",
    "    n=0\n",
    "    for i in arr:\n",
    "        n+=1\n",
    "   \n",
    "    maxCount = 0\n",
    "    index = -1  \n",
    "    for i in range(n):\n",
    "        count = 0\n",
    "        for j in range(n):\n",
    "            if(arr[i] == arr[j]):\n",
    "                count += 1\n",
    " \n",
    "        if(count > maxCount):\n",
    " \n",
    "            maxCount = count\n",
    "            index = i\n",
    " \n",
    "    # if maxCount is greater than n/2\n",
    "    # return the corresponding element\n",
    "    if (maxCount > n//2):\n",
    "        print(arr[index])\n",
    " \n",
    "    else:\n",
    "        print(\"No Majority Element\")\n",
    "        \n",
    "findMajority([\"A\",\"A\",\"B\"])"
   ]
  },
  {
   "cell_type": "markdown",
   "metadata": {},
   "source": [
    "Question 3"
   ]
  },
  {
   "cell_type": "code",
   "execution_count": 25,
   "metadata": {},
   "outputs": [
    {
     "name": "stdout",
     "output_type": "stream",
     "text": [
      "['The', 'cow', 'jumped', 'over', 'the', 'moon']\n"
     ]
    },
    {
     "data": {
      "text/plain": [
       "'The *** jumped **** the moon '"
      ]
     },
     "execution_count": 25,
     "metadata": {},
     "output_type": "execute_result"
    }
   ],
   "source": [
    "def censor_string(string,list1,word):\n",
    "    str1=string.split()\n",
    "    print(str1)\n",
    "    res=\"\"\n",
    "    c=0\n",
    "    for i in str1:\n",
    "        c+=1\n",
    "    for i in range(c):\n",
    "        if str1[i] in list1:\n",
    "            rep=word*len(str1[i])\n",
    "            res+=rep+\" \"\n",
    "        else:\n",
    "            res+=str1[i]+\" \"\n",
    "    return res\n",
    "            \n",
    "censor_string(\"The cow jumped over the moon\", [\"cow\", \"over\"], \"*\") "
   ]
  },
  {
   "cell_type": "markdown",
   "metadata": {},
   "source": [
    "Question 4"
   ]
  },
  {
   "cell_type": "code",
   "execution_count": 28,
   "metadata": {},
   "outputs": [
    {
     "name": "stdout",
     "output_type": "stream",
     "text": [
      "123220 is Not Polydivisible number.\n"
     ]
    }
   ],
   "source": [
    "def check_polydivisible(n):\n",
    "    N = n\n",
    "    digit = []\n",
    "    while (n > 0):\n",
    "        digit.append(int(n % 10))\n",
    "        n //= 10\n",
    "        \n",
    "    digit.reverse()\n",
    "    \n",
    "    flag = True\n",
    "    n = digit[0]\n",
    "    if n==0:\n",
    "        flaf=False\n",
    "    for i in range(1, len(digit)):\n",
    "        n = n * 10 + digit[i]\n",
    "        if (n % (i + 1) != 0):\n",
    "            flag = False\n",
    "            break\n",
    "      \n",
    "    if (flag):\n",
    "        print(N, \"is Polydivisible number.\");\n",
    "    else:\n",
    "        print(N, \"is Not Polydivisible number.\")\n",
    "check_polydivisible(123220)"
   ]
  },
  {
   "cell_type": "markdown",
   "metadata": {},
   "source": [
    "Question 5"
   ]
  },
  {
   "cell_type": "code",
   "execution_count": 27,
   "metadata": {},
   "outputs": [
    {
     "name": "stdout",
     "output_type": "stream",
     "text": [
      "None\n"
     ]
    }
   ],
   "source": [
    "def is_prime(num):\n",
    "    flag = True\n",
    "    if num==1:\n",
    "        flag=False\n",
    "    if num > 1:\n",
    "        for i in range(2, num):\n",
    "            if (num % i) == 0:\n",
    "                # if factor is found, set flag to True\n",
    "                flag = False\n",
    "                # break out of loop\n",
    "                break\n",
    "    return flag\n",
    "def sum_of_primes(list1):\n",
    "    if not list1:\n",
    "        print(\"None\")\n",
    "    else:\n",
    "        res=[]\n",
    "        sum1=0\n",
    "        for i in list1:\n",
    "            if i == 0:\n",
    "                print(\"None\")\n",
    "            f1=is_prime(i)\n",
    "            if f1:\n",
    "                res.append(i)\n",
    "        for i in res:\n",
    "            sum1=sum1+i\n",
    "        return sum1\n",
    "        \n",
    "        \n",
    "            \n",
    "sum_of_primes([])"
   ]
  },
  {
   "cell_type": "code",
   "execution_count": 20,
   "metadata": {},
   "outputs": [],
   "source": []
  },
  {
   "cell_type": "code",
   "execution_count": null,
   "metadata": {},
   "outputs": [],
   "source": []
  }
 ],
 "metadata": {
  "kernelspec": {
   "display_name": "Python 3",
   "language": "python",
   "name": "python3"
  },
  "language_info": {
   "codemirror_mode": {
    "name": "ipython",
    "version": 3
   },
   "file_extension": ".py",
   "mimetype": "text/x-python",
   "name": "python",
   "nbconvert_exporter": "python",
   "pygments_lexer": "ipython3",
   "version": "3.7.6"
  }
 },
 "nbformat": 4,
 "nbformat_minor": 4
}
