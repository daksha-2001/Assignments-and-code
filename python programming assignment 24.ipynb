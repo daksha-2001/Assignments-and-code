{
 "cells": [
  {
   "cell_type": "markdown",
   "id": "c826eb8b",
   "metadata": {},
   "source": [
    "Question1\n",
    "\n",
    "Create a function that takes an integer and returns a list from 1 to the given number, where:\n",
    "1. If the number can be divided evenly by 4, amplify it by 10 (i.e. return 10 times the\n",
    "number).\n",
    "2. If the number cannot be divided evenly by 4, simply return the number."
   ]
  },
  {
   "cell_type": "code",
   "execution_count": 9,
   "id": "878c6efb",
   "metadata": {},
   "outputs": [
    {
     "data": {
      "text/plain": [
       "[1,\n",
       " 2,\n",
       " 3,\n",
       " 40,\n",
       " 5,\n",
       " 6,\n",
       " 7,\n",
       " 80,\n",
       " 9,\n",
       " 10,\n",
       " 11,\n",
       " 120,\n",
       " 13,\n",
       " 14,\n",
       " 15,\n",
       " 160,\n",
       " 17,\n",
       " 18,\n",
       " 19,\n",
       " 200,\n",
       " 21,\n",
       " 22,\n",
       " 23,\n",
       " 240,\n",
       " 25]"
      ]
     },
     "execution_count": 9,
     "metadata": {},
     "output_type": "execute_result"
    }
   ],
   "source": [
    "def amplify(num1):\n",
    "    res=[i*10 if i%4==0 else i for i in range(1,num1+1) ]\n",
    "    return res\n",
    "amplify(25)"
   ]
  },
  {
   "cell_type": "markdown",
   "id": "673e0859",
   "metadata": {},
   "source": [
    "Question2\n",
    "\n",
    "Create a function that takes a list of numbers and return the number that&#39;s unique."
   ]
  },
  {
   "cell_type": "code",
   "execution_count": 20,
   "id": "8f482e00",
   "metadata": {},
   "outputs": [
    {
     "data": {
      "text/plain": [
       "0.77"
      ]
     },
     "execution_count": 20,
     "metadata": {},
     "output_type": "execute_result"
    }
   ],
   "source": [
    "def unique(lst):\n",
    "    d={}\n",
    "    res=[]\n",
    "    for i in lst:\n",
    "        d[i]=0\n",
    "    for i in lst:\n",
    "        if d[i]>0:\n",
    "            d[i]+=1\n",
    "        else:\n",
    "            d[i]=1\n",
    "    res=[i for i in d if d[i]==1]\n",
    "    res=res[0]\n",
    "    return res\n",
    "unique([0, 0, 0.77, 0, 0])"
   ]
  },
  {
   "cell_type": "markdown",
   "id": "3ce1e82d",
   "metadata": {},
   "source": [
    "Question3\n",
    "\n",
    "Your task is to create a Circle constructor that creates a circle with a radius provided by an\n",
    "argument. The circles constructed must have two getters getArea() (PIr^2) and\n",
    "getPerimeter() (2PI*r) which give both respective areas and perimeter (circumference).\n",
    "\n",
    "For help with this class, I have provided you with a Rectangle constructor which you can use\n",
    "as a base example."
   ]
  },
  {
   "cell_type": "code",
   "execution_count": 5,
   "id": "b3ee3ed2",
   "metadata": {},
   "outputs": [
    {
     "data": {
      "text/plain": [
       "27"
      ]
     },
     "execution_count": 5,
     "metadata": {},
     "output_type": "execute_result"
    }
   ],
   "source": [
    "import math\n",
    "class circle:\n",
    "    def __init__(self,rad):\n",
    "        self.rad=rad\n",
    "    def getArea(self):\n",
    "        area=math.pi*self.rad*self.rad\n",
    "        area=int(area)\n",
    "        return area\n",
    "    def getPerimeter(self):\n",
    "        p=2*math.pi*self.rad\n",
    "        p=int(p)\n",
    "        return p\n",
    "circy=circle(4.44)\n",
    "circy.getArea()\n",
    "circy.getPerimeter()"
   ]
  },
  {
   "cell_type": "markdown",
   "id": "413d3cb8",
   "metadata": {},
   "source": [
    "Question4\n",
    "\n",
    "Create a function that takes a list of strings and return a list, sorted from shortest to longest."
   ]
  },
  {
   "cell_type": "code",
   "execution_count": 3,
   "id": "fe34afed",
   "metadata": {},
   "outputs": [
    {
     "data": {
      "text/plain": [
       "['Jung', 'Turing', 'Einstein']"
      ]
     },
     "execution_count": 3,
     "metadata": {},
     "output_type": "execute_result"
    }
   ],
   "source": [
    "def sort_by_length(lst):\n",
    "    res=[]\n",
    "    d={}\n",
    "    for i in lst:\n",
    "        d[i]=len(i)\n",
    "    r=sorted(d.items(),key=lambda x:x[1])\n",
    "    for i in r:\n",
    "        res.append(i[0])\n",
    "    return res\n",
    "        \n",
    "sort_by_length([\"Turing\",\"Einstein\",\"Jung\"])"
   ]
  },
  {
   "cell_type": "markdown",
   "id": "24b13d4f",
   "metadata": {},
   "source": [
    "Question5\n",
    "\n",
    "Create a function that validates whether three given integers form a Pythagorean triplet. The\n",
    "sum of the squares of the two smallest integers must equal the square of the largest number to\n",
    "be validated."
   ]
  },
  {
   "cell_type": "code",
   "execution_count": 9,
   "id": "8c0c20a2",
   "metadata": {},
   "outputs": [
    {
     "data": {
      "text/plain": [
       "True"
      ]
     },
     "execution_count": 9,
     "metadata": {},
     "output_type": "execute_result"
    }
   ],
   "source": [
    "def istriplet(n1,n2,n3):\n",
    "    res=[]\n",
    "    res.append(n1)\n",
    "    res.append(n2)\n",
    "    res.append(n3)\n",
    "    res=sorted(res)\n",
    "    num1=res[0]*res[0]\n",
    "    num2=res[1]*res[1]\n",
    "    num3=res[2]*res[2]\n",
    "    if num1+num2==num3:\n",
    "        return True\n",
    "    else:\n",
    "        return False\n",
    "    \n",
    "istriplet(3,4,5)"
   ]
  },
  {
   "cell_type": "code",
   "execution_count": null,
   "id": "be791c64",
   "metadata": {},
   "outputs": [],
   "source": []
  }
 ],
 "metadata": {
  "kernelspec": {
   "display_name": "Python 3",
   "language": "python",
   "name": "python3"
  },
  "language_info": {
   "codemirror_mode": {
    "name": "ipython",
    "version": 3
   },
   "file_extension": ".py",
   "mimetype": "text/x-python",
   "name": "python",
   "nbconvert_exporter": "python",
   "pygments_lexer": "ipython3",
   "version": "3.8.8"
  }
 },
 "nbformat": 4,
 "nbformat_minor": 5
}
