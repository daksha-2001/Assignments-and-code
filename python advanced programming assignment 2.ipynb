{
 "cells": [
  {
   "cell_type": "markdown",
   "metadata": {},
   "source": [
    "Question 1"
   ]
  },
  {
   "cell_type": "code",
   "execution_count": 4,
   "metadata": {},
   "outputs": [
    {
     "name": "stdout",
     "output_type": "stream",
     "text": [
      "141\n"
     ]
    }
   ],
   "source": [
    "def PentagonalNumber(num): \n",
    "    num = num - 1\n",
    "    number = ((5*(num**2)) + (5*num) + 2) / 2 \n",
    "    num=int(number)\n",
    "    return num\n",
    " \n",
    "print(PentagonalNumber(8))"
   ]
  },
  {
   "cell_type": "markdown",
   "metadata": {},
   "source": [
    "Question 2"
   ]
  },
  {
   "cell_type": "code",
   "execution_count": 24,
   "metadata": {},
   "outputs": [
    {
     "data": {
      "text/plain": [
       "' 0n0n0baca'"
      ]
     },
     "execution_count": 24,
     "metadata": {},
     "output_type": "execute_result"
    }
   ],
   "source": [
    "def encrypt(string):\n",
    "    reverse=string[::-1]\n",
    "    s1=\" \"\n",
    "    vowels={\n",
    "        'A':0,'a':0,'E':1,'e':1,'I':2,'i':2,'O':2,'o':2,'U':3,'u':3\n",
    "    }\n",
    "    for i in reverse:\n",
    "        if i in vowels:\n",
    "            s1+=str(vowels[i])\n",
    "        else:\n",
    "            s1+=i\n",
    "    s1+=\"aca\"\n",
    "    return s1\n",
    "        \n",
    "encrypt(\"banana\")"
   ]
  },
  {
   "cell_type": "markdown",
   "metadata": {},
   "source": [
    "Question 3"
   ]
  },
  {
   "cell_type": "code",
   "execution_count": 28,
   "metadata": {},
   "outputs": [
    {
     "name": "stdout",
     "output_type": "stream",
     "text": [
      "Enter the month & year: 3 2020\n",
      "True\n"
     ]
    }
   ],
   "source": [
    "import datetime    \n",
    "month, year = input('Enter the month & year: ').split()  \n",
    "if datetime.datetime.strptime('13 '+' '+month+' '+year, '%d %m %Y').weekday()==4:\n",
    "    print(\"True\")\n",
    "else:\n",
    "    print(\"False\") "
   ]
  },
  {
   "cell_type": "markdown",
   "metadata": {},
   "source": [
    "Question 4"
   ]
  },
  {
   "cell_type": "code",
   "execution_count": 80,
   "metadata": {},
   "outputs": [
    {
     "data": {
      "text/plain": [
       "2"
      ]
     },
     "execution_count": 80,
     "metadata": {},
     "output_type": "execute_result"
    }
   ],
   "source": [
    "import re\n",
    "lst=['bad cookie','good cookie','good cookie','good cookie',\"bad cookie\",\"good cookie\"]\n",
    "pattern=re.compile(\"(?<!(good)\\s)cookie\")\n",
    "len(re.findall(pattern, \",\".join(lst)))"
   ]
  },
  {
   "cell_type": "code",
   "execution_count": 58,
   "metadata": {},
   "outputs": [
    {
     "name": "stdout",
     "output_type": "stream",
     "text": [
      "Welcome,To,Tutorials,Point\n",
      "Welcome To Tutorials Point\n"
     ]
    }
   ],
   "source": [
    "list1=[\"Welcome\",\"To\",\"Tutorials\",\"Point\"]\n",
    "string1=\",\"\n",
    "print(string1.join(list1))\n",
    "string2=\" \"\n",
    "print(string2.join(list1))"
   ]
  },
  {
   "cell_type": "markdown",
   "metadata": {},
   "source": [
    "Question 5"
   ]
  },
  {
   "cell_type": "code",
   "execution_count": 57,
   "metadata": {},
   "outputs": [
    {
     "data": {
      "text/plain": [
       "['tables']"
      ]
     },
     "execution_count": 57,
     "metadata": {},
     "output_type": "execute_result"
    }
   ],
   "source": [
    "def plural(list1):\n",
    "    n_list=[]\n",
    "    f_list=[]\n",
    "    d1={}\n",
    "    for i in list1:\n",
    "        d1[i]=1\n",
    "    for i in list1:\n",
    "        if i in n_list:\n",
    "            d1[i]+=1\n",
    "        else:\n",
    "            n_list.append(i)\n",
    "    for i in n_list:\n",
    "        if d1[i]>1:\n",
    "            f_list.append(i+\"s\")\n",
    "        else:\n",
    "            f_list.append(i)\n",
    "            \n",
    "    return f_list\n",
    "        \n",
    "    \n",
    "plural([\"table\",\"table\",\"table\",\"table\"])\n",
    "    "
   ]
  },
  {
   "cell_type": "code",
   "execution_count": null,
   "metadata": {},
   "outputs": [],
   "source": []
  }
 ],
 "metadata": {
  "kernelspec": {
   "display_name": "Python 3",
   "language": "python",
   "name": "python3"
  },
  "language_info": {
   "codemirror_mode": {
    "name": "ipython",
    "version": 3
   },
   "file_extension": ".py",
   "mimetype": "text/x-python",
   "name": "python",
   "nbconvert_exporter": "python",
   "pygments_lexer": "ipython3",
   "version": "3.7.6"
  }
 },
 "nbformat": 4,
 "nbformat_minor": 4
}
